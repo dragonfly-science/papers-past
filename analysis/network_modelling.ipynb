{
 "cells": [
  {
   "cell_type": "markdown",
   "metadata": {},
   "source": [
    "# Network model for Papers Past"
   ]
  },
  {
   "cell_type": "markdown",
   "metadata": {},
   "source": [
    "Here I'm going to explore the word vectors using some graph theoretic modelling."
   ]
  },
  {
   "cell_type": "code",
   "execution_count": 7,
   "metadata": {},
   "outputs": [],
   "source": [
    "import json\n",
    "import fasttext\n",
    "import numpy as np\n",
    "import pandas as pd\n",
    "import igraph as ig\n",
    "import matplotlib.pyplot as plt\n",
    "%matplotlib inline\n",
    "\n",
    "from scipy.linalg import norm\n",
    "from utils import multicore_apply"
   ]
  },
  {
   "cell_type": "code",
   "execution_count": 8,
   "metadata": {},
   "outputs": [
    {
     "name": "stderr",
     "output_type": "stream",
     "text": [
      "Warning : `load_model` does not return WordVectorModel or SupervisedModel any more, but a `FastText` object which is very similar.\n"
     ]
    }
   ],
   "source": [
    "model_data = pd.read_csv('../data/model_data.csv')\n",
    "model = fasttext.load_model(\"../data/fasttext.bin\")"
   ]
  },
  {
   "cell_type": "code",
   "execution_count": 9,
   "metadata": {},
   "outputs": [
    {
     "data": {
      "text/html": [
       "<div>\n",
       "<style scoped>\n",
       "    .dataframe tbody tr th:only-of-type {\n",
       "        vertical-align: middle;\n",
       "    }\n",
       "\n",
       "    .dataframe tbody tr th {\n",
       "        vertical-align: top;\n",
       "    }\n",
       "\n",
       "    .dataframe thead th {\n",
       "        text-align: right;\n",
       "    }\n",
       "</style>\n",
       "<table border=\"1\" class=\"dataframe\">\n",
       "  <thead>\n",
       "    <tr style=\"text-align: right;\">\n",
       "      <th></th>\n",
       "      <th>word</th>\n",
       "      <th>count</th>\n",
       "    </tr>\n",
       "  </thead>\n",
       "  <tbody>\n",
       "    <tr>\n",
       "      <th>0</th>\n",
       "      <td>te</td>\n",
       "      <td>763785</td>\n",
       "    </tr>\n",
       "    <tr>\n",
       "      <th>1</th>\n",
       "      <td>e</td>\n",
       "      <td>388836</td>\n",
       "    </tr>\n",
       "    <tr>\n",
       "      <th>2</th>\n",
       "      <td>nga</td>\n",
       "      <td>356423</td>\n",
       "    </tr>\n",
       "    <tr>\n",
       "      <th>3</th>\n",
       "      <td>o</td>\n",
       "      <td>355744</td>\n",
       "    </tr>\n",
       "    <tr>\n",
       "      <th>4</th>\n",
       "      <td>ki</td>\n",
       "      <td>259854</td>\n",
       "    </tr>\n",
       "    <tr>\n",
       "      <th>...</th>\n",
       "      <td>...</td>\n",
       "      <td>...</td>\n",
       "    </tr>\n",
       "    <tr>\n",
       "      <th>7383</th>\n",
       "      <td>mahii</td>\n",
       "      <td>30</td>\n",
       "    </tr>\n",
       "    <tr>\n",
       "      <th>7384</th>\n",
       "      <td>raoana</td>\n",
       "      <td>30</td>\n",
       "    </tr>\n",
       "    <tr>\n",
       "      <th>7385</th>\n",
       "      <td>tangira</td>\n",
       "      <td>30</td>\n",
       "    </tr>\n",
       "    <tr>\n",
       "      <th>7386</th>\n",
       "      <td>rakaipaka</td>\n",
       "      <td>30</td>\n",
       "    </tr>\n",
       "    <tr>\n",
       "      <th>7387</th>\n",
       "      <td>whakakinongia</td>\n",
       "      <td>30</td>\n",
       "    </tr>\n",
       "  </tbody>\n",
       "</table>\n",
       "<p>7388 rows × 2 columns</p>\n",
       "</div>"
      ],
      "text/plain": [
       "               word   count\n",
       "0                te  763785\n",
       "1                 e  388836\n",
       "2               nga  356423\n",
       "3                 o  355744\n",
       "4                ki  259854\n",
       "...             ...     ...\n",
       "7383          mahii      30\n",
       "7384         raoana      30\n",
       "7385        tangira      30\n",
       "7386      rakaipaka      30\n",
       "7387  whakakinongia      30\n",
       "\n",
       "[7388 rows x 2 columns]"
      ]
     },
     "execution_count": 9,
     "metadata": {},
     "output_type": "execute_result"
    }
   ],
   "source": [
    "model_data"
   ]
  },
  {
   "cell_type": "code",
   "execution_count": 10,
   "metadata": {},
   "outputs": [
    {
     "data": {
      "text/plain": [
       "<matplotlib.axes._subplots.AxesSubplot at 0x7f14a94b9dd8>"
      ]
     },
     "execution_count": 10,
     "metadata": {},
     "output_type": "execute_result"
    },
    {
     "data": {
      "image/png": "[encoded data removed]",
      "text/plain": [
       "<Figure size 432x288 with 1 Axes>"
      ]
     },
     "metadata": {
      "needs_background": "light"
     },
     "output_type": "display_data"
    }
   ],
   "source": [
    "k = 5\n",
    "\n",
    "def get_similar_terms(term, k = 15):\n",
    "    return (pd.DataFrame(\n",
    "        model.get_nearest_neighbors(term, k=k), \n",
    "        columns = ['similarity', 'term'])\n",
    "       .sort_values('similarity')\n",
    "    )\n",
    "\n",
    "term = 'whanau'\n",
    "similar_terms = get_similar_terms(term, k)\n",
    "similar_terms.plot(kind = 'barh', x = 'term', y = 'similarity', title = 'Top {} similar terms for: {}'.format(k, term))"
   ]
  },
  {
   "cell_type": "code",
   "execution_count": 11,
   "metadata": {},
   "outputs": [],
   "source": [
    "model_data['word_vector'] = model_data.word.apply(lambda x: model.get_word_vector(x)).apply(lambda x: x / norm(x))"
   ]
  },
  {
   "cell_type": "code",
   "execution_count": 12,
   "metadata": {},
   "outputs": [],
   "source": [
    "word_vectors = np.vstack(model_data.word_vector)\n",
    "word_vectors = np.dot(word_vectors, word_vectors.transpose())"
   ]
  },
  {
   "cell_type": "code",
   "execution_count": 13,
   "metadata": {},
   "outputs": [
    {
     "data": {
      "text/plain": [
       "''"
      ]
     },
     "execution_count": 13,
     "metadata": {},
     "output_type": "execute_result"
    },
    {
     "data": {
      "image/png": "[encoded data removed]",
      "text/plain": [
       "<Figure size 432x288 with 1 Axes>"
      ]
     },
     "metadata": {
      "needs_background": "light"
     },
     "output_type": "display_data"
    }
   ],
   "source": [
    "plt.hist(word_vectors.flatten(), bins = 100)\n",
    "''"
   ]
  },
  {
   "cell_type": "code",
   "execution_count": 32,
   "metadata": {},
   "outputs": [
    {
     "data": {
      "text/plain": [
       "[('timi_kara', 'takiwha', -0.21328412),\n",
       " ('pereti', 'arohatia', -0.20074564),\n",
       " ('riu', 'mahita', -0.20103075),\n",
       " ('peni', 'ehinu', -0.20299464),\n",
       " ('mahita', 'riu', -0.20103075),\n",
       " ('putiputi', 'wakatika', -0.2274998),\n",
       " ('kiau', 'ahanoa', -0.20849283),\n",
       " ('tehee', 'puru_ripene', -0.2016142),\n",
       " ('puru_ripene', 'tehee', -0.2016142),\n",
       " ('arohatia', 'pereti', -0.20074564),\n",
       " ('kouto', 'rumu', -0.21921934),\n",
       " ('rumu', 'kouto', -0.21921934),\n",
       " ('ahanoa', 'kiau', -0.20849283),\n",
       " ('paewai', 'whakawhairawa', -0.21139239),\n",
       " ('paewai', 'whairawa', -0.22897212),\n",
       " ('paewai', 'whangai_hipi', -0.20868336),\n",
       " ('whakawhairawa', 'paewai', -0.21139239),\n",
       " ('wakatika', 'putiputi', -0.2274998),\n",
       " ('whairawa', 'paewai', -0.22897212),\n",
       " ('ehinu', 'peni', -0.20299464),\n",
       " ('whangai_hipi', 'paewai', -0.20868336),\n",
       " ('takiwha', 'timi_kara', -0.21328412)]"
      ]
     },
     "execution_count": 32,
     "metadata": {},
     "output_type": "execute_result"
    }
   ],
   "source": [
    "[(model_data.word[x], model_data.word[y], word_vectors[x,y]) for x,y in zip(*np.where(word_vectors < -0.2))]"
   ]
  },
  {
   "cell_type": "code",
   "execution_count": 8,
   "metadata": {},
   "outputs": [
    {
     "data": {
      "text/plain": [
       "[<matplotlib.lines.Line2D at 0x7f9c53483748>]"
      ]
     },
     "execution_count": 8,
     "metadata": {},
     "output_type": "execute_result"
    },
    {
     "data": {
      "image/png": "[encoded data removed]",
      "text/plain": [
       "<Figure size 432x288 with 1 Axes>"
      ]
     },
     "metadata": {
      "needs_background": "light"
     },
     "output_type": "display_data"
    }
   ],
   "source": [
    "plt.plot(np.linspace(0, 1, 100), [np.sum(word_vectors > x) for x in np.linspace(0, 1, 100)])"
   ]
  },
  {
   "cell_type": "code",
   "execution_count": 9,
   "metadata": {},
   "outputs": [],
   "source": [
    "threshold = 0.55"
   ]
  },
  {
   "cell_type": "code",
   "execution_count": 10,
   "metadata": {},
   "outputs": [],
   "source": [
    "adjacency = np.copy(word_vectors)\n",
    "adjacency[adjacency < threshold] = 0"
   ]
  },
  {
   "cell_type": "code",
   "execution_count": 11,
   "metadata": {},
   "outputs": [],
   "source": [
    "model_data['neighbours'] = np.sum(adjacency > 0, axis = 1)"
   ]
  },
  {
   "cell_type": "code",
   "execution_count": 12,
   "metadata": {},
   "outputs": [
    {
     "data": {
      "text/html": [
       "<div>\n",
       "<style scoped>\n",
       "    .dataframe tbody tr th:only-of-type {\n",
       "        vertical-align: middle;\n",
       "    }\n",
       "\n",
       "    .dataframe tbody tr th {\n",
       "        vertical-align: top;\n",
       "    }\n",
       "\n",
       "    .dataframe thead th {\n",
       "        text-align: right;\n",
       "    }\n",
       "</style>\n",
       "<table border=\"1\" class=\"dataframe\">\n",
       "  <thead>\n",
       "    <tr style=\"text-align: right;\">\n",
       "      <th></th>\n",
       "      <th>word</th>\n",
       "      <th>count</th>\n",
       "      <th>word_vector</th>\n",
       "      <th>neighbours</th>\n",
       "    </tr>\n",
       "  </thead>\n",
       "  <tbody>\n",
       "    <tr>\n",
       "      <th>6839</th>\n",
       "      <td>patuawa</td>\n",
       "      <td>33</td>\n",
       "      <td>[-0.19998589, 0.14850602, 0.030414287, -0.0049...</td>\n",
       "      <td>697</td>\n",
       "    </tr>\n",
       "    <tr>\n",
       "      <th>5151</th>\n",
       "      <td>manuera</td>\n",
       "      <td>50</td>\n",
       "      <td>[-0.16191539, 0.05605171, -0.0018674473, -0.00...</td>\n",
       "      <td>689</td>\n",
       "    </tr>\n",
       "    <tr>\n",
       "      <th>6576</th>\n",
       "      <td>menehira</td>\n",
       "      <td>35</td>\n",
       "      <td>[-0.12593593, 0.09738433, -0.11902487, 0.07379...</td>\n",
       "      <td>652</td>\n",
       "    </tr>\n",
       "    <tr>\n",
       "      <th>7122</th>\n",
       "      <td>rangiahua</td>\n",
       "      <td>31</td>\n",
       "      <td>[-0.11843723, 0.16338772, 0.07366886, -0.06037...</td>\n",
       "      <td>584</td>\n",
       "    </tr>\n",
       "    <tr>\n",
       "      <th>6668</th>\n",
       "      <td>kuri_rangiahua</td>\n",
       "      <td>34</td>\n",
       "      <td>[-0.16005608, 0.02785649, 0.10985294, -0.03306...</td>\n",
       "      <td>576</td>\n",
       "    </tr>\n",
       "    <tr>\n",
       "      <th>...</th>\n",
       "      <td>...</td>\n",
       "      <td>...</td>\n",
       "      <td>...</td>\n",
       "      <td>...</td>\n",
       "    </tr>\n",
       "    <tr>\n",
       "      <th>2273</th>\n",
       "      <td>iha</td>\n",
       "      <td>165</td>\n",
       "      <td>[0.06563969, -0.035491847, -0.15909977, -0.063...</td>\n",
       "      <td>1</td>\n",
       "    </tr>\n",
       "    <tr>\n",
       "      <th>1880</th>\n",
       "      <td>uie</td>\n",
       "      <td>222</td>\n",
       "      <td>[-0.093235314, 0.11627207, -0.019732289, 0.044...</td>\n",
       "      <td>1</td>\n",
       "    </tr>\n",
       "    <tr>\n",
       "      <th>2392</th>\n",
       "      <td>itewa</td>\n",
       "      <td>153</td>\n",
       "      <td>[-0.056500304, -0.04929303, 0.0040264586, 0.02...</td>\n",
       "      <td>1</td>\n",
       "    </tr>\n",
       "    <tr>\n",
       "      <th>1362</th>\n",
       "      <td>pura</td>\n",
       "      <td>347</td>\n",
       "      <td>[-0.10969708, 0.21585472, -0.11019635, 0.11989...</td>\n",
       "      <td>1</td>\n",
       "    </tr>\n",
       "    <tr>\n",
       "      <th>1461</th>\n",
       "      <td>keeti</td>\n",
       "      <td>315</td>\n",
       "      <td>[-0.1321656, -0.0792887, -0.040653516, 0.02465...</td>\n",
       "      <td>1</td>\n",
       "    </tr>\n",
       "  </tbody>\n",
       "</table>\n",
       "<p>7388 rows × 4 columns</p>\n",
       "</div>"
      ],
      "text/plain": [
       "                word  count  \\\n",
       "6839         patuawa     33   \n",
       "5151         manuera     50   \n",
       "6576        menehira     35   \n",
       "7122       rangiahua     31   \n",
       "6668  kuri_rangiahua     34   \n",
       "...              ...    ...   \n",
       "2273             iha    165   \n",
       "1880             uie    222   \n",
       "2392           itewa    153   \n",
       "1362            pura    347   \n",
       "1461           keeti    315   \n",
       "\n",
       "                                            word_vector  neighbours  \n",
       "6839  [-0.19998589, 0.14850602, 0.030414287, -0.0049...         697  \n",
       "5151  [-0.16191539, 0.05605171, -0.0018674473, -0.00...         689  \n",
       "6576  [-0.12593593, 0.09738433, -0.11902487, 0.07379...         652  \n",
       "7122  [-0.11843723, 0.16338772, 0.07366886, -0.06037...         584  \n",
       "6668  [-0.16005608, 0.02785649, 0.10985294, -0.03306...         576  \n",
       "...                                                 ...         ...  \n",
       "2273  [0.06563969, -0.035491847, -0.15909977, -0.063...           1  \n",
       "1880  [-0.093235314, 0.11627207, -0.019732289, 0.044...           1  \n",
       "2392  [-0.056500304, -0.04929303, 0.0040264586, 0.02...           1  \n",
       "1362  [-0.10969708, 0.21585472, -0.11019635, 0.11989...           1  \n",
       "1461  [-0.1321656, -0.0792887, -0.040653516, 0.02465...           1  \n",
       "\n",
       "[7388 rows x 4 columns]"
      ]
     },
     "execution_count": 12,
     "metadata": {},
     "output_type": "execute_result"
    }
   ],
   "source": [
    "model_data.sort_values('neighbours', ascending = False)"
   ]
  },
  {
   "cell_type": "code",
   "execution_count": 13,
   "metadata": {},
   "outputs": [],
   "source": [
    "G = ig.Graph()"
   ]
  },
  {
   "cell_type": "code",
   "execution_count": 14,
   "metadata": {},
   "outputs": [],
   "source": [
    "G.add_vertices(model_data.word)"
   ]
  },
  {
   "cell_type": "code",
   "execution_count": 15,
   "metadata": {},
   "outputs": [],
   "source": [
    "edges = [(model_data.word[x], model_data.word[y]) for x,y in zip(*np.where(adjacency != 0)) if x < y]\n",
    "weights = [adjacency[x,y] for x,y in zip(*np.where(adjacency != 0)) if x < y]"
   ]
  },
  {
   "cell_type": "code",
   "execution_count": 16,
   "metadata": {},
   "outputs": [],
   "source": [
    "G.add_edges(edges)"
   ]
  },
  {
   "cell_type": "code",
   "execution_count": 17,
   "metadata": {},
   "outputs": [],
   "source": [
    "G.es['weight'] = [1 for e in edges] # weights"
   ]
  },
  {
   "cell_type": "code",
   "execution_count": 18,
   "metadata": {},
   "outputs": [],
   "source": [
    "G.vs['word_count'] = model_data['count']"
   ]
  },
  {
   "cell_type": "code",
   "execution_count": 19,
   "metadata": {},
   "outputs": [
    {
     "name": "stdout",
     "output_type": "stream",
     "text": [
      "CPU times: user 3.47 s, sys: 0 ns, total: 3.47 s\n",
      "Wall time: 3.46 s\n"
     ]
    },
    {
     "data": {
      "text/plain": [
       "9"
      ]
     },
     "execution_count": 19,
     "metadata": {},
     "output_type": "execute_result"
    }
   ],
   "source": [
    "%%time\n",
    "G.diameter()"
   ]
  },
  {
   "cell_type": "code",
   "execution_count": 20,
   "metadata": {},
   "outputs": [
    {
     "name": "stdout",
     "output_type": "stream",
     "text": [
      "Network density: 0.006297993907704084\n"
     ]
    }
   ],
   "source": [
    "density = G.density()\n",
    "print(\"Network density:\", density)"
   ]
  },
  {
   "cell_type": "code",
   "execution_count": 21,
   "metadata": {},
   "outputs": [
    {
     "data": {
      "text/plain": [
       "[['whakaminenga', 'rangatira', 'ngapuhi', 'mohi_tawhai']]"
      ]
     },
     "execution_count": 21,
     "metadata": {},
     "output_type": "execute_result"
    }
   ],
   "source": [
    "[[model_data.word[y] for y in x] for x in G.get_shortest_paths('whakaminenga', 'mohi_tawhai')]"
   ]
  },
  {
   "cell_type": "code",
   "execution_count": 22,
   "metadata": {},
   "outputs": [
    {
     "data": {
      "text/plain": [
       "[['mahunga', 'whiore', 'wae_wae']]"
      ]
     },
     "execution_count": 22,
     "metadata": {},
     "output_type": "execute_result"
    }
   ],
   "source": [
    "[[model_data.word[y] for y in x] for x in G.get_shortest_paths('mahunga', 'wae_wae')]"
   ]
  },
  {
   "cell_type": "code",
   "execution_count": 23,
   "metadata": {},
   "outputs": [
    {
     "data": {
      "text/plain": [
       "False"
      ]
     },
     "execution_count": 23,
     "metadata": {},
     "output_type": "execute_result"
    }
   ],
   "source": [
    "G.is_connected()"
   ]
  },
  {
   "cell_type": "code",
   "execution_count": 24,
   "metadata": {},
   "outputs": [
    {
     "name": "stdout",
     "output_type": "stream",
     "text": [
      "Triadic closure: 0.3870609302868561\n"
     ]
    }
   ],
   "source": [
    "triadic_closure = G.transitivity_undirected()\n",
    "print(\"Triadic closure:\", triadic_closure)"
   ]
  },
  {
   "cell_type": "code",
   "execution_count": null,
   "metadata": {},
   "outputs": [],
   "source": [
    "%%time\n",
    "# calculate dendrogram\n",
    "dendrogram = G.community_edge_betweenness(directed = False)"
   ]
  },
  {
   "cell_type": "code",
   "execution_count": null,
   "metadata": {},
   "outputs": [],
   "source": [
    "%%time\n",
    "# convert it into a flat clustering\n",
    "clusters = dendrogram.as_clustering()"
   ]
  },
  {
   "cell_type": "code",
   "execution_count": null,
   "metadata": {},
   "outputs": [],
   "source": [
    "%%time\n",
    "# get the membership vector\n",
    "membership = clusters.membership"
   ]
  },
  {
   "cell_type": "code",
   "execution_count": null,
   "metadata": {},
   "outputs": [],
   "source": []
  }
 ],
 "metadata": {
  "kernelspec": {
   "display_name": "Python 3",
   "language": "python",
   "name": "python3"
  },
  "language_info": {
   "codemirror_mode": {
    "name": "ipython",
    "version": 3
   },
   "file_extension": ".py",
   "mimetype": "text/x-python",
   "name": "python",
   "nbconvert_exporter": "python",
   "pygments_lexer": "ipython3",
   "version": "3.6.9"
  }
 },
 "nbformat": 4,
 "nbformat_minor": 4
}
