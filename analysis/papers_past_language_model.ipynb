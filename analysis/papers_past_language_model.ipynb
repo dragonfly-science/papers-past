{
 "cells": [
  {
   "cell_type": "markdown",
   "metadata": {},
   "source": [
    "# Building a language model"
   ]
  },
  {
   "cell_type": "markdown",
   "metadata": {},
   "source": [
    "Here we'll be loading the cleaned text and doing some statistical analysis. Afterwards, we will build a set of word vectors from the cleaned corpus."
   ]
  },
  {
   "cell_type": "code",
   "execution_count": 1,
   "metadata": {},
   "outputs": [],
   "source": [
    "import os\n",
    "import re\n",
    "import pickle\n",
    "import itertools as it\n",
    "from collections import Counter\n",
    "\n",
    "import numpy as np\n",
    "import pandas as pd\n",
    "from umap import UMAP\n",
    "\n",
    "import warnings\n",
    "# warnings.filterwarnings('ignore')\n",
    "\n",
    "import matplotlib.pyplot as plt\n",
    "%matplotlib inline"
   ]
  },
  {
   "cell_type": "code",
   "execution_count": 2,
   "metadata": {},
   "outputs": [],
   "source": [
    "from_scratch = False"
   ]
  },
  {
   "cell_type": "code",
   "execution_count": 3,
   "metadata": {},
   "outputs": [],
   "source": [
    "papers = pd.read_csv('../data/papers.csv')"
   ]
  },
  {
   "cell_type": "code",
   "execution_count": 4,
   "metadata": {},
   "outputs": [
    {
     "data": {
      "text/html": [
       "<div>\n",
       "<style scoped>\n",
       "    .dataframe tbody tr th:only-of-type {\n",
       "        vertical-align: middle;\n",
       "    }\n",
       "\n",
       "    .dataframe tbody tr th {\n",
       "        vertical-align: top;\n",
       "    }\n",
       "\n",
       "    .dataframe thead th {\n",
       "        text-align: right;\n",
       "    }\n",
       "</style>\n",
       "<table border=\"1\" class=\"dataframe\">\n",
       "  <thead>\n",
       "    <tr style=\"text-align: right;\">\n",
       "      <th></th>\n",
       "      <th>url</th>\n",
       "      <th>text</th>\n",
       "      <th>newspaper_id</th>\n",
       "      <th>year</th>\n",
       "      <th>month</th>\n",
       "      <th>day</th>\n",
       "      <th>id</th>\n",
       "      <th>paragraph</th>\n",
       "      <th>sentence</th>\n",
       "    </tr>\n",
       "  </thead>\n",
       "  <tbody>\n",
       "    <tr>\n",
       "      <th>0</th>\n",
       "      <td>https://paperspast.natlib.govt.nz/newspapers/A...</td>\n",
       "      <td>WANTKD, a smart LAD, ' and n rite. Apply ai Zi...</td>\n",
       "      <td>AMW</td>\n",
       "      <td>1848</td>\n",
       "      <td>7</td>\n",
       "      <td>18</td>\n",
       "      <td>2.12.1</td>\n",
       "      <td>WANTKD, a smart LAD, ' and n rite. Apply ai Zi...</td>\n",
       "      <td>WANTKD, a smart LAD, ' and n rite.</td>\n",
       "    </tr>\n",
       "    <tr>\n",
       "      <th>1</th>\n",
       "      <td>https://paperspast.natlib.govt.nz/newspapers/A...</td>\n",
       "      <td>WANTKD, a smart LAD, ' and n rite. Apply ai Zi...</td>\n",
       "      <td>AMW</td>\n",
       "      <td>1848</td>\n",
       "      <td>7</td>\n",
       "      <td>18</td>\n",
       "      <td>2.12.1</td>\n",
       "      <td>WANTKD, a smart LAD, ' and n rite. Apply ai Zi...</td>\n",
       "      <td>Apply ai Zi alamli'i\" Office.</td>\n",
       "    </tr>\n",
       "    <tr>\n",
       "      <th>2</th>\n",
       "      <td>https://paperspast.natlib.govt.nz/newspapers/A...</td>\n",
       "      <td>KO TE KAI-WHAKAMATAARA O NGA IWI ERUA.\\n\"Na te...</td>\n",
       "      <td>AMW</td>\n",
       "      <td>1848</td>\n",
       "      <td>7</td>\n",
       "      <td>18</td>\n",
       "      <td>2.11</td>\n",
       "      <td>KO TE KAI-WHAKAMATAARA O NGA IWI ERUA.</td>\n",
       "      <td>KO TE KAI-WHAKAMATAARA O NGA IWI ERUA.</td>\n",
       "    </tr>\n",
       "    <tr>\n",
       "      <th>3</th>\n",
       "      <td>https://paperspast.natlib.govt.nz/newspapers/A...</td>\n",
       "      <td>KO TE KAI-WHAKAMATAARA O NGA IWI ERUA.\\n\"Na te...</td>\n",
       "      <td>AMW</td>\n",
       "      <td>1848</td>\n",
       "      <td>7</td>\n",
       "      <td>18</td>\n",
       "      <td>2.11</td>\n",
       "      <td>\"Na te Tika i toa ai.\" Turei, Huri 17, 1848.</td>\n",
       "      <td>\"Na te Tika i toa ai.\"</td>\n",
       "    </tr>\n",
       "    <tr>\n",
       "      <th>4</th>\n",
       "      <td>https://paperspast.natlib.govt.nz/newspapers/A...</td>\n",
       "      <td>KO TE KAI-WHAKAMATAARA O NGA IWI ERUA.\\n\"Na te...</td>\n",
       "      <td>AMW</td>\n",
       "      <td>1848</td>\n",
       "      <td>7</td>\n",
       "      <td>18</td>\n",
       "      <td>2.11</td>\n",
       "      <td>\"Na te Tika i toa ai.\" Turei, Huri 17, 1848.</td>\n",
       "      <td>Turei, Huri 17, 1848.</td>\n",
       "    </tr>\n",
       "    <tr>\n",
       "      <th>...</th>\n",
       "      <td>...</td>\n",
       "      <td>...</td>\n",
       "      <td>...</td>\n",
       "      <td>...</td>\n",
       "      <td>...</td>\n",
       "      <td>...</td>\n",
       "      <td>...</td>\n",
       "      <td>...</td>\n",
       "      <td>...</td>\n",
       "    </tr>\n",
       "    <tr>\n",
       "      <th>805337</th>\n",
       "      <td>https://paperspast.natlib.govt.nz/newspapers/W...</td>\n",
       "      <td>TE WAKA MAORI O AHURIRI.\\nN0.1.]\\n\" NEPIA, HAT...</td>\n",
       "      <td>WAKAM</td>\n",
       "      <td>1863</td>\n",
       "      <td>6</td>\n",
       "      <td>13</td>\n",
       "      <td>2.1</td>\n",
       "      <td>TE WAKA MAORI O AHURIRI.</td>\n",
       "      <td>TE WAKA MAORI O AHURIRI.</td>\n",
       "    </tr>\n",
       "    <tr>\n",
       "      <th>805338</th>\n",
       "      <td>https://paperspast.natlib.govt.nz/newspapers/W...</td>\n",
       "      <td>TE WAKA MAORI O AHURIRI.\\nN0.1.]\\n\" NEPIA, HAT...</td>\n",
       "      <td>WAKAM</td>\n",
       "      <td>1863</td>\n",
       "      <td>6</td>\n",
       "      <td>13</td>\n",
       "      <td>2.1</td>\n",
       "      <td>N0.1.]</td>\n",
       "      <td>N0.1.]</td>\n",
       "    </tr>\n",
       "    <tr>\n",
       "      <th>805339</th>\n",
       "      <td>https://paperspast.natlib.govt.nz/newspapers/W...</td>\n",
       "      <td>TE WAKA MAORI O AHURIRI.\\nN0.1.]\\n\" NEPIA, HAT...</td>\n",
       "      <td>WAKAM</td>\n",
       "      <td>1863</td>\n",
       "      <td>6</td>\n",
       "      <td>13</td>\n",
       "      <td>2.1</td>\n",
       "      <td>\" NEPIA, HATAREI, HUNE 13, 1863.</td>\n",
       "      <td>\" NEPIA, HATAREI, HUNE 13, 1863.</td>\n",
       "    </tr>\n",
       "    <tr>\n",
       "      <th>805340</th>\n",
       "      <td>https://paperspast.natlib.govt.nz/newspapers/W...</td>\n",
       "      <td>TE WAKA MAORI O AHURIRI.\\nN0.1.]\\n\" NEPIA, HAT...</td>\n",
       "      <td>WAKAM</td>\n",
       "      <td>1863</td>\n",
       "      <td>6</td>\n",
       "      <td>13</td>\n",
       "      <td>2.1</td>\n",
       "      <td>[Vol. I.</td>\n",
       "      <td>[Vol.</td>\n",
       "    </tr>\n",
       "    <tr>\n",
       "      <th>805341</th>\n",
       "      <td>https://paperspast.natlib.govt.nz/newspapers/W...</td>\n",
       "      <td>TE WAKA MAORI O AHURIRI.\\nN0.1.]\\n\" NEPIA, HAT...</td>\n",
       "      <td>WAKAM</td>\n",
       "      <td>1863</td>\n",
       "      <td>6</td>\n",
       "      <td>13</td>\n",
       "      <td>2.1</td>\n",
       "      <td>[Vol. I.</td>\n",
       "      <td>I.</td>\n",
       "    </tr>\n",
       "  </tbody>\n",
       "</table>\n",
       "<p>805342 rows × 9 columns</p>\n",
       "</div>"
      ],
      "text/plain": [
       "                                                      url  \\\n",
       "0       https://paperspast.natlib.govt.nz/newspapers/A...   \n",
       "1       https://paperspast.natlib.govt.nz/newspapers/A...   \n",
       "2       https://paperspast.natlib.govt.nz/newspapers/A...   \n",
       "3       https://paperspast.natlib.govt.nz/newspapers/A...   \n",
       "4       https://paperspast.natlib.govt.nz/newspapers/A...   \n",
       "...                                                   ...   \n",
       "805337  https://paperspast.natlib.govt.nz/newspapers/W...   \n",
       "805338  https://paperspast.natlib.govt.nz/newspapers/W...   \n",
       "805339  https://paperspast.natlib.govt.nz/newspapers/W...   \n",
       "805340  https://paperspast.natlib.govt.nz/newspapers/W...   \n",
       "805341  https://paperspast.natlib.govt.nz/newspapers/W...   \n",
       "\n",
       "                                                     text newspaper_id  year  \\\n",
       "0       WANTKD, a smart LAD, ' and n rite. Apply ai Zi...          AMW  1848   \n",
       "1       WANTKD, a smart LAD, ' and n rite. Apply ai Zi...          AMW  1848   \n",
       "2       KO TE KAI-WHAKAMATAARA O NGA IWI ERUA.\\n\"Na te...          AMW  1848   \n",
       "3       KO TE KAI-WHAKAMATAARA O NGA IWI ERUA.\\n\"Na te...          AMW  1848   \n",
       "4       KO TE KAI-WHAKAMATAARA O NGA IWI ERUA.\\n\"Na te...          AMW  1848   \n",
       "...                                                   ...          ...   ...   \n",
       "805337  TE WAKA MAORI O AHURIRI.\\nN0.1.]\\n\" NEPIA, HAT...        WAKAM  1863   \n",
       "805338  TE WAKA MAORI O AHURIRI.\\nN0.1.]\\n\" NEPIA, HAT...        WAKAM  1863   \n",
       "805339  TE WAKA MAORI O AHURIRI.\\nN0.1.]\\n\" NEPIA, HAT...        WAKAM  1863   \n",
       "805340  TE WAKA MAORI O AHURIRI.\\nN0.1.]\\n\" NEPIA, HAT...        WAKAM  1863   \n",
       "805341  TE WAKA MAORI O AHURIRI.\\nN0.1.]\\n\" NEPIA, HAT...        WAKAM  1863   \n",
       "\n",
       "        month  day      id                                          paragraph  \\\n",
       "0           7   18  2.12.1  WANTKD, a smart LAD, ' and n rite. Apply ai Zi...   \n",
       "1           7   18  2.12.1  WANTKD, a smart LAD, ' and n rite. Apply ai Zi...   \n",
       "2           7   18    2.11             KO TE KAI-WHAKAMATAARA O NGA IWI ERUA.   \n",
       "3           7   18    2.11       \"Na te Tika i toa ai.\" Turei, Huri 17, 1848.   \n",
       "4           7   18    2.11       \"Na te Tika i toa ai.\" Turei, Huri 17, 1848.   \n",
       "...       ...  ...     ...                                                ...   \n",
       "805337      6   13     2.1                           TE WAKA MAORI O AHURIRI.   \n",
       "805338      6   13     2.1                                             N0.1.]   \n",
       "805339      6   13     2.1                   \" NEPIA, HATAREI, HUNE 13, 1863.   \n",
       "805340      6   13     2.1                                           [Vol. I.   \n",
       "805341      6   13     2.1                                           [Vol. I.   \n",
       "\n",
       "                                      sentence  \n",
       "0           WANTKD, a smart LAD, ' and n rite.  \n",
       "1                Apply ai Zi alamli'i\" Office.  \n",
       "2       KO TE KAI-WHAKAMATAARA O NGA IWI ERUA.  \n",
       "3                       \"Na te Tika i toa ai.\"  \n",
       "4                        Turei, Huri 17, 1848.  \n",
       "...                                        ...  \n",
       "805337                TE WAKA MAORI O AHURIRI.  \n",
       "805338                                  N0.1.]  \n",
       "805339        \" NEPIA, HATAREI, HUNE 13, 1863.  \n",
       "805340                                   [Vol.  \n",
       "805341                                      I.  \n",
       "\n",
       "[805342 rows x 9 columns]"
      ]
     },
     "execution_count": 4,
     "metadata": {},
     "output_type": "execute_result"
    }
   ],
   "source": [
    "papers"
   ]
  },
  {
   "cell_type": "markdown",
   "metadata": {},
   "source": [
    "## N-grams"
   ]
  },
  {
   "cell_type": "code",
   "execution_count": 5,
   "metadata": {},
   "outputs": [],
   "source": [
    "from nltk import ngrams\n",
    "from nltk import word_tokenize"
   ]
  },
  {
   "cell_type": "code",
   "execution_count": 6,
   "metadata": {},
   "outputs": [
    {
     "data": {
      "text/plain": [
       "[('Hello', 'there', 'my'), ('there', 'my', 'friend')]"
      ]
     },
     "execution_count": 6,
     "metadata": {},
     "output_type": "execute_result"
    }
   ],
   "source": [
    "list(ngrams(word_tokenize(\"Hello there my friend\"), 3))"
   ]
  },
  {
   "cell_type": "code",
   "execution_count": 8,
   "metadata": {},
   "outputs": [
    {
     "name": "stderr",
     "output_type": "stream",
     "text": [
      "/usr/local/lib/python3.6/dist-packages/ipykernel_launcher.py:5: DeprecationWarning: generator 'ngrams' raised StopIteration\n",
      "  \"\"\"\n"
     ]
    },
    {
     "name": "stdout",
     "output_type": "stream",
     "text": [
      "CPU times: user 2min 9s, sys: 386 ms, total: 2min 9s\n",
      "Wall time: 2min 9s\n"
     ]
    }
   ],
   "source": [
    "%%time\n",
    "ngram_length = 4\n",
    "ngram_list = []\n",
    "for text in papers['sentence']:\n",
    "    sent = word_tokenize(text)\n",
    "    for ngram in ngrams(sent, ngram_length):\n",
    "        ngram_list.append(ngram)"
   ]
  },
  {
   "cell_type": "markdown",
   "metadata": {},
   "source": [
    "## Stop words"
   ]
  },
  {
   "cell_type": "code",
   "execution_count": 9,
   "metadata": {},
   "outputs": [],
   "source": [
    "def plot_word_frequencies(ngrams_list, pattern='', num_terms=20, \n",
    "                          stop_words = [], title = ''):\n",
    "    '''\n",
    "    Plot the top `num_terms` words from the file at `filepath` matching `pattern`.\n",
    "    Can also set the `title` as well.\n",
    "    '''\n",
    "    kupu = [kupu for sent in ngrams_list \\\n",
    "                 for kupu in sent.split(\" \") \\\n",
    "                 if (len(pattern) == 0 or re.match(pattern, kupu)) and\\\n",
    "                 not kupu in stop_words]\n",
    "    return (\n",
    "        pd.Series(kupu)\n",
    "            .value_counts()\n",
    "            .head(num_terms)\n",
    "            .sort_values()\n",
    "            .plot(kind = 'barh', title = title))"
   ]
  },
  {
   "cell_type": "code",
   "execution_count": 10,
   "metadata": {},
   "outputs": [
    {
     "data": {
      "text/plain": [
       "<matplotlib.axes._subplots.AxesSubplot at 0x7feecdacb358>"
      ]
     },
     "execution_count": 10,
     "metadata": {},
     "output_type": "execute_result"
    },
    {
     "data": {
      "image/png": "[encoded data removed]",
      "text/plain": [
       "<Figure size 432x288 with 1 Axes>"
      ]
     },
     "metadata": {
      "needs_background": "light"
     },
     "output_type": "display_data"
    }
   ],
   "source": [
    "plot_word_frequencies(\n",
    "    [' '.join(ng) for ng in ngram_list], \n",
    "    stop_words = [], \n",
    "    num_terms=20\n",
    ")"
   ]
  },
  {
   "cell_type": "markdown",
   "metadata": {},
   "source": [
    "## Gensim"
   ]
  },
  {
   "cell_type": "markdown",
   "metadata": {},
   "source": [
    "We will use the `gensim` library to analyse the text further."
   ]
  },
  {
   "cell_type": "code",
   "execution_count": 11,
   "metadata": {},
   "outputs": [],
   "source": [
    "from gensim.models.phrases import Phrases\n",
    "from gensim.models.word2vec import LineSentence"
   ]
  },
  {
   "cell_type": "code",
   "execution_count": 12,
   "metadata": {},
   "outputs": [],
   "source": [
    "papers_sents_file = '../data/papers_sents.txt'\n",
    "with open(papers_sents_file, 'w', encoding = 'utf-8') as f:\n",
    "    for sent in papers['sentence']:\n",
    "        f.write(sent + '\\n')"
   ]
  },
  {
   "cell_type": "code",
   "execution_count": 13,
   "metadata": {},
   "outputs": [],
   "source": [
    "unigram_sentences = LineSentence(papers_sents_file)"
   ]
  },
  {
   "cell_type": "code",
   "execution_count": 14,
   "metadata": {},
   "outputs": [
    {
     "name": "stdout",
     "output_type": "stream",
     "text": [
      "te rite ai nga Hahi Maori ki nga Ilahi Pakeha?\n",
      "\n",
      "Ahearanei?\n",
      "\n",
      "He aha ranei i nui ai te wliakaaroo tetahi, i koreai lo telalii?\n",
      "\n",
      "Ekore hoki e ahei le mea, he hua no te moni o te Pakeha, he kore to te Maori.\n",
      "\n",
      "TS T a te aha i hua ai to te Pakeha?\n",
      "\n",
      "?sa tona uaua.\n",
      "\n",
      "Na te aha i kore ai to le Maori ?\n",
      "\n",
      "IVa tona nine noa ilio.\n",
      "\n",
      "He aha hoki i nui ai te whika o telalii Ilahi i hoki iho ai to tetahi?\n",
      "\n",
      "lie hua no te hircne i Kaipara i nui ake ai to ratou kohikohinga?\n",
      "\n"
     ]
    }
   ],
   "source": [
    "for unigram_sentence in it.islice(unigram_sentences, 230, 240):\n",
    "    print(u' '.join(unigram_sentence))\n",
    "    print(u'')"
   ]
  },
  {
   "cell_type": "code",
   "execution_count": 15,
   "metadata": {},
   "outputs": [
    {
     "name": "stdout",
     "output_type": "stream",
     "text": [
      "CPU times: user 3.63 s, sys: 360 ms, total: 3.99 s\n",
      "Wall time: 4.01 s\n"
     ]
    }
   ],
   "source": [
    "%%time\n",
    "bigram_model_filepath = '../models/papers_bigrams.model'\n",
    "\n",
    "if from_scratch or not os.path.exists(bigram_model_filepath):\n",
    "\n",
    "    bigram_model = Phrases(unigram_sentences)\n",
    "\n",
    "    bigram_model.save(bigram_model_filepath)\n",
    "    \n",
    "else:\n",
    "    # load the finished model from disk\n",
    "    bigram_model = Phrases.load(bigram_model_filepath)"
   ]
  },
  {
   "cell_type": "code",
   "execution_count": 16,
   "metadata": {},
   "outputs": [
    {
     "name": "stdout",
     "output_type": "stream",
     "text": [
      "CPU times: user 47 µs, sys: 0 ns, total: 47 µs\n",
      "Wall time: 51.5 µs\n"
     ]
    }
   ],
   "source": [
    "%%time\n",
    "bigram_sentences_filepath = '../data/bigram_sentences_all.txt'\n",
    "if from_scratch or not os.path.exists(bigram_sentences_filepath):\n",
    "    \n",
    "    with open(bigram_sentences_filepath, 'w', encoding = 'utf-8') as f:    \n",
    "        for unigram_sentence in unigram_sentences:\n",
    "            bigram_sentence = u' '.join(bigram_model[unigram_sentence])\n",
    "            f.write(bigram_sentence + '\\n')"
   ]
  },
  {
   "cell_type": "code",
   "execution_count": 17,
   "metadata": {},
   "outputs": [],
   "source": [
    "bigram_sentences = LineSentence(bigram_sentences_filepath)"
   ]
  },
  {
   "cell_type": "code",
   "execution_count": 18,
   "metadata": {},
   "outputs": [],
   "source": [
    "trigram_model_filepath = '../models/papers_trigrams.model'\n",
    "trigram_sentences_filepath = '../data/trigram_sentences_all.txt'"
   ]
  },
  {
   "cell_type": "code",
   "execution_count": 19,
   "metadata": {},
   "outputs": [],
   "source": [
    "if from_scratch or not os.path.exists(trigram_model_filepath):\n",
    "    trigram_model = Phrases(bigram_sentences)\n",
    "    trigram_model.save(trigram_model_filepath)\n",
    "else:\n",
    "    # load the finished model from disk\n",
    "    trigram_model = Phrases.load(trigram_model_filepath)"
   ]
  },
  {
   "cell_type": "code",
   "execution_count": 20,
   "metadata": {},
   "outputs": [],
   "source": [
    "for bigram_sentence in it.islice(bigram_sentences, 230, 240):\n",
    "    print(' '.join(bigram_sentence))"
   ]
  },
  {
   "cell_type": "code",
   "execution_count": 21,
   "metadata": {},
   "outputs": [
    {
     "name": "stdout",
     "output_type": "stream",
     "text": [
      "CPU times: user 2.34 ms, sys: 0 ns, total: 2.34 ms\n",
      "Wall time: 1.92 ms\n"
     ]
    }
   ],
   "source": [
    "%%time\n",
    "if from_scratch or not os.path.exists(trigram_sentences_filepath):\n",
    "    with open(trigram_sentences_filepath, 'w') as f:\n",
    "        for bigram_sentence in bigram_sentences:\n",
    "            trigram_sentence = u' '.join(trigram_model[bigram_sentence])\n",
    "            f.write(trigram_sentence + '\\n')"
   ]
  },
  {
   "cell_type": "code",
   "execution_count": 22,
   "metadata": {},
   "outputs": [],
   "source": [
    "trigram_sentences = LineSentence(trigram_sentences_filepath)"
   ]
  },
  {
   "cell_type": "code",
   "execution_count": 24,
   "metadata": {},
   "outputs": [
    {
     "data": {
      "text/plain": [
       "15"
      ]
     },
     "execution_count": 24,
     "metadata": {},
     "output_type": "execute_result"
    }
   ],
   "source": [
    "len(list(trigram_sentences))"
   ]
  },
  {
   "cell_type": "code",
   "execution_count": 25,
   "metadata": {},
   "outputs": [
    {
     "name": "stdout",
     "output_type": "stream",
     "text": [
      "WANTKD, a smart LAD, ' and n rite.\n",
      "\n",
      "Apply ai Zi alamli'i\" Office.\n",
      "\n",
      "KO_TE KAI-WHAKAMATAARA_O NGA_IWI ERUA.\n",
      "\n",
      "\"Na te Tika i toa_ai.\"\n",
      "\n",
      "Turei, Huri 17, 1848.\n",
      "\n",
      "He korero tenei, no tetahi o o koutou hoa mo o koutou mahinga.\n",
      "\n",
      "He_tini nga walii o Nu_Tireni kua mania e te Pakelia, lie tini nga rakau o nga ni;aherehere kua kania, kua hanga hei vvliare, hci kaipuke.\n",
      "\n",
      "Ko tenei ia he korero mo n ,,f a walii o te tangata_maori.\n",
      "\n",
      "He_nui to koutou vvhenua, nga wahi p:ii, mourona, lie nui nga ngaherehere, be tini nga awaawa, hei ahaunake enei i to koutou mahi kuware?\n",
      "\n",
      "Ein ihia ana o koutou whenua, e kore ia e riro ake tana kaha.\n",
      "\n",
      "E ketuketua kautia ana tetalii_walii nohinohi, ki konei tttahi wain, ki koatu.\n",
      "\n",
      "Kotahi anake tau e noho ai ki tenei walii, ka maliue ka neke liaere ke walii ke tvhakarerunana to koutou mahinga taiepa me nga whare kia ngaliorohoro noa, marara_ke nga tangata, tetalii ki tetalii walii, tetalii ki tetahi_wahi mahiai, waiho amuri hei ketunga mo te poaka.\n",
      "\n",
      "Nui noa to koutou mahi, hole he kakenga haerstanga.\n",
      "\n",
      "Ka_mutu te mahi i tetahi_wahi, kite kanga, kite will, ruia kite Uru Pakeha, kei hoki ki tana ritenga o mua, kei tapuria ete rahuralm.\n",
      "\n",
      "Kahore he mea tiaki kite Toa; ano ka rokohanga ete mate, hore he oranga, hore he tangata e tahuri ki te tiaki i te turoro i te kore o ana kai o ana taonga.\n",
      "\n"
     ]
    }
   ],
   "source": [
    "for trigram_sentence in it.islice(trigram_sentences, 0, 15):\n",
    "    print(' '.join(trigram_sentence))\n",
    "    print('')"
   ]
  },
  {
   "cell_type": "markdown",
   "metadata": {},
   "source": [
    "## Training word vectors"
   ]
  },
  {
   "cell_type": "markdown",
   "metadata": {},
   "source": [
    "Here I'll train some word vectors based on the Te Ara Corpus."
   ]
  },
  {
   "cell_type": "code",
   "execution_count": 31,
   "metadata": {},
   "outputs": [],
   "source": [
    "from multiprocessing import cpu_count"
   ]
  },
  {
   "cell_type": "code",
   "execution_count": 28,
   "metadata": {},
   "outputs": [],
   "source": [
    "from gensim.models import Word2Vec\n",
    "\n",
    "trigram_sentences = LineSentence(trigram_sentences_filepath)\n",
    "word2vec_filepath = '../models/papers_word2vec.model'"
   ]
  },
  {
   "cell_type": "code",
   "execution_count": 29,
   "metadata": {},
   "outputs": [],
   "source": [
    "def count_sentences(line_sentence):\n",
    "    line_count = 0\n",
    "    for line in line_sentence:\n",
    "        line_count += 1\n",
    "    return line_count"
   ]
  },
  {
   "cell_type": "code",
   "execution_count": 32,
   "metadata": {},
   "outputs": [
    {
     "ename": "RuntimeError",
     "evalue": "you must first build vocabulary before training the model",
     "output_type": "error",
     "traceback": [
      "\u001b[0;31m---------------------------------------------------------------------------\u001b[0m",
      "\u001b[0;31mRuntimeError\u001b[0m                              Traceback (most recent call last)",
      "\u001b[0;32m<timed exec>\u001b[0m in \u001b[0;36m<module>\u001b[0;34m\u001b[0m\n",
      "\u001b[0;32m/usr/local/lib/python3.6/dist-packages/gensim/models/word2vec.py\u001b[0m in \u001b[0;36m__init__\u001b[0;34m(self, sentences, corpus_file, size, alpha, window, min_count, max_vocab_size, sample, seed, workers, min_alpha, sg, hs, negative, ns_exponent, cbow_mean, hashfxn, iter, null_word, trim_rule, sorted_vocab, batch_words, compute_loss, callbacks, max_final_vocab)\u001b[0m\n\u001b[1;32m    598\u001b[0m             \u001b[0msentences\u001b[0m\u001b[0;34m=\u001b[0m\u001b[0msentences\u001b[0m\u001b[0;34m,\u001b[0m \u001b[0mcorpus_file\u001b[0m\u001b[0;34m=\u001b[0m\u001b[0mcorpus_file\u001b[0m\u001b[0;34m,\u001b[0m \u001b[0mworkers\u001b[0m\u001b[0;34m=\u001b[0m\u001b[0mworkers\u001b[0m\u001b[0;34m,\u001b[0m \u001b[0mvector_size\u001b[0m\u001b[0;34m=\u001b[0m\u001b[0msize\u001b[0m\u001b[0;34m,\u001b[0m \u001b[0mepochs\u001b[0m\u001b[0;34m=\u001b[0m\u001b[0miter\u001b[0m\u001b[0;34m,\u001b[0m\u001b[0;34m\u001b[0m\u001b[0;34m\u001b[0m\u001b[0m\n\u001b[1;32m    599\u001b[0m             \u001b[0mcallbacks\u001b[0m\u001b[0;34m=\u001b[0m\u001b[0mcallbacks\u001b[0m\u001b[0;34m,\u001b[0m \u001b[0mbatch_words\u001b[0m\u001b[0;34m=\u001b[0m\u001b[0mbatch_words\u001b[0m\u001b[0;34m,\u001b[0m \u001b[0mtrim_rule\u001b[0m\u001b[0;34m=\u001b[0m\u001b[0mtrim_rule\u001b[0m\u001b[0;34m,\u001b[0m \u001b[0msg\u001b[0m\u001b[0;34m=\u001b[0m\u001b[0msg\u001b[0m\u001b[0;34m,\u001b[0m \u001b[0malpha\u001b[0m\u001b[0;34m=\u001b[0m\u001b[0malpha\u001b[0m\u001b[0;34m,\u001b[0m \u001b[0mwindow\u001b[0m\u001b[0;34m=\u001b[0m\u001b[0mwindow\u001b[0m\u001b[0;34m,\u001b[0m\u001b[0;34m\u001b[0m\u001b[0;34m\u001b[0m\u001b[0m\n\u001b[0;32m--> 600\u001b[0;31m             seed=seed, hs=hs, negative=negative, cbow_mean=cbow_mean, min_alpha=min_alpha, compute_loss=compute_loss)\n\u001b[0m\u001b[1;32m    601\u001b[0m \u001b[0;34m\u001b[0m\u001b[0m\n\u001b[1;32m    602\u001b[0m     def _do_train_epoch(self, corpus_file, thread_id, offset, cython_vocab, thread_private_mem, cur_epoch,\n",
      "\u001b[0;32m/usr/local/lib/python3.6/dist-packages/gensim/models/base_any2vec.py\u001b[0m in \u001b[0;36m__init__\u001b[0;34m(self, sentences, corpus_file, workers, vector_size, epochs, callbacks, batch_words, trim_rule, sg, alpha, window, seed, hs, negative, ns_exponent, cbow_mean, min_alpha, compute_loss, **kwargs)\u001b[0m\n\u001b[1;32m    747\u001b[0m                 \u001b[0msentences\u001b[0m\u001b[0;34m=\u001b[0m\u001b[0msentences\u001b[0m\u001b[0;34m,\u001b[0m \u001b[0mcorpus_file\u001b[0m\u001b[0;34m=\u001b[0m\u001b[0mcorpus_file\u001b[0m\u001b[0;34m,\u001b[0m \u001b[0mtotal_examples\u001b[0m\u001b[0;34m=\u001b[0m\u001b[0mself\u001b[0m\u001b[0;34m.\u001b[0m\u001b[0mcorpus_count\u001b[0m\u001b[0;34m,\u001b[0m\u001b[0;34m\u001b[0m\u001b[0;34m\u001b[0m\u001b[0m\n\u001b[1;32m    748\u001b[0m                 \u001b[0mtotal_words\u001b[0m\u001b[0;34m=\u001b[0m\u001b[0mself\u001b[0m\u001b[0;34m.\u001b[0m\u001b[0mcorpus_total_words\u001b[0m\u001b[0;34m,\u001b[0m \u001b[0mepochs\u001b[0m\u001b[0;34m=\u001b[0m\u001b[0mself\u001b[0m\u001b[0;34m.\u001b[0m\u001b[0mepochs\u001b[0m\u001b[0;34m,\u001b[0m \u001b[0mstart_alpha\u001b[0m\u001b[0;34m=\u001b[0m\u001b[0mself\u001b[0m\u001b[0;34m.\u001b[0m\u001b[0malpha\u001b[0m\u001b[0;34m,\u001b[0m\u001b[0;34m\u001b[0m\u001b[0;34m\u001b[0m\u001b[0m\n\u001b[0;32m--> 749\u001b[0;31m                 end_alpha=self.min_alpha, compute_loss=compute_loss)\n\u001b[0m\u001b[1;32m    750\u001b[0m         \u001b[0;32melse\u001b[0m\u001b[0;34m:\u001b[0m\u001b[0;34m\u001b[0m\u001b[0;34m\u001b[0m\u001b[0m\n\u001b[1;32m    751\u001b[0m             \u001b[0;32mif\u001b[0m \u001b[0mtrim_rule\u001b[0m \u001b[0;32mis\u001b[0m \u001b[0;32mnot\u001b[0m \u001b[0;32mNone\u001b[0m\u001b[0;34m:\u001b[0m\u001b[0;34m\u001b[0m\u001b[0;34m\u001b[0m\u001b[0m\n",
      "\u001b[0;32m/usr/local/lib/python3.6/dist-packages/gensim/models/word2vec.py\u001b[0m in \u001b[0;36mtrain\u001b[0;34m(self, sentences, corpus_file, total_examples, total_words, epochs, start_alpha, end_alpha, word_count, queue_factor, report_delay, compute_loss, callbacks)\u001b[0m\n\u001b[1;32m    725\u001b[0m             \u001b[0msentences\u001b[0m\u001b[0;34m=\u001b[0m\u001b[0msentences\u001b[0m\u001b[0;34m,\u001b[0m \u001b[0mcorpus_file\u001b[0m\u001b[0;34m=\u001b[0m\u001b[0mcorpus_file\u001b[0m\u001b[0;34m,\u001b[0m \u001b[0mtotal_examples\u001b[0m\u001b[0;34m=\u001b[0m\u001b[0mtotal_examples\u001b[0m\u001b[0;34m,\u001b[0m \u001b[0mtotal_words\u001b[0m\u001b[0;34m=\u001b[0m\u001b[0mtotal_words\u001b[0m\u001b[0;34m,\u001b[0m\u001b[0;34m\u001b[0m\u001b[0;34m\u001b[0m\u001b[0m\n\u001b[1;32m    726\u001b[0m             \u001b[0mepochs\u001b[0m\u001b[0;34m=\u001b[0m\u001b[0mepochs\u001b[0m\u001b[0;34m,\u001b[0m \u001b[0mstart_alpha\u001b[0m\u001b[0;34m=\u001b[0m\u001b[0mstart_alpha\u001b[0m\u001b[0;34m,\u001b[0m \u001b[0mend_alpha\u001b[0m\u001b[0;34m=\u001b[0m\u001b[0mend_alpha\u001b[0m\u001b[0;34m,\u001b[0m \u001b[0mword_count\u001b[0m\u001b[0;34m=\u001b[0m\u001b[0mword_count\u001b[0m\u001b[0;34m,\u001b[0m\u001b[0;34m\u001b[0m\u001b[0;34m\u001b[0m\u001b[0m\n\u001b[0;32m--> 727\u001b[0;31m             queue_factor=queue_factor, report_delay=report_delay, compute_loss=compute_loss, callbacks=callbacks)\n\u001b[0m\u001b[1;32m    728\u001b[0m \u001b[0;34m\u001b[0m\u001b[0m\n\u001b[1;32m    729\u001b[0m     \u001b[0;32mdef\u001b[0m \u001b[0mscore\u001b[0m\u001b[0;34m(\u001b[0m\u001b[0mself\u001b[0m\u001b[0;34m,\u001b[0m \u001b[0msentences\u001b[0m\u001b[0;34m,\u001b[0m \u001b[0mtotal_sentences\u001b[0m\u001b[0;34m=\u001b[0m\u001b[0mint\u001b[0m\u001b[0;34m(\u001b[0m\u001b[0;36m1e6\u001b[0m\u001b[0;34m)\u001b[0m\u001b[0;34m,\u001b[0m \u001b[0mchunksize\u001b[0m\u001b[0;34m=\u001b[0m\u001b[0;36m100\u001b[0m\u001b[0;34m,\u001b[0m \u001b[0mqueue_factor\u001b[0m\u001b[0;34m=\u001b[0m\u001b[0;36m2\u001b[0m\u001b[0;34m,\u001b[0m \u001b[0mreport_delay\u001b[0m\u001b[0;34m=\u001b[0m\u001b[0;36m1\u001b[0m\u001b[0;34m)\u001b[0m\u001b[0;34m:\u001b[0m\u001b[0;34m\u001b[0m\u001b[0;34m\u001b[0m\u001b[0m\n",
      "\u001b[0;32m/usr/local/lib/python3.6/dist-packages/gensim/models/base_any2vec.py\u001b[0m in \u001b[0;36mtrain\u001b[0;34m(self, sentences, corpus_file, total_examples, total_words, epochs, start_alpha, end_alpha, word_count, queue_factor, report_delay, compute_loss, callbacks, **kwargs)\u001b[0m\n\u001b[1;32m   1065\u001b[0m             \u001b[0mtotal_words\u001b[0m\u001b[0;34m=\u001b[0m\u001b[0mtotal_words\u001b[0m\u001b[0;34m,\u001b[0m \u001b[0mepochs\u001b[0m\u001b[0;34m=\u001b[0m\u001b[0mepochs\u001b[0m\u001b[0;34m,\u001b[0m \u001b[0mstart_alpha\u001b[0m\u001b[0;34m=\u001b[0m\u001b[0mstart_alpha\u001b[0m\u001b[0;34m,\u001b[0m \u001b[0mend_alpha\u001b[0m\u001b[0;34m=\u001b[0m\u001b[0mend_alpha\u001b[0m\u001b[0;34m,\u001b[0m \u001b[0mword_count\u001b[0m\u001b[0;34m=\u001b[0m\u001b[0mword_count\u001b[0m\u001b[0;34m,\u001b[0m\u001b[0;34m\u001b[0m\u001b[0;34m\u001b[0m\u001b[0m\n\u001b[1;32m   1066\u001b[0m             \u001b[0mqueue_factor\u001b[0m\u001b[0;34m=\u001b[0m\u001b[0mqueue_factor\u001b[0m\u001b[0;34m,\u001b[0m \u001b[0mreport_delay\u001b[0m\u001b[0;34m=\u001b[0m\u001b[0mreport_delay\u001b[0m\u001b[0;34m,\u001b[0m \u001b[0mcompute_loss\u001b[0m\u001b[0;34m=\u001b[0m\u001b[0mcompute_loss\u001b[0m\u001b[0;34m,\u001b[0m \u001b[0mcallbacks\u001b[0m\u001b[0;34m=\u001b[0m\u001b[0mcallbacks\u001b[0m\u001b[0;34m,\u001b[0m\u001b[0;34m\u001b[0m\u001b[0;34m\u001b[0m\u001b[0m\n\u001b[0;32m-> 1067\u001b[0;31m             **kwargs)\n\u001b[0m\u001b[1;32m   1068\u001b[0m \u001b[0;34m\u001b[0m\u001b[0m\n\u001b[1;32m   1069\u001b[0m     \u001b[0;32mdef\u001b[0m \u001b[0m_get_job_params\u001b[0m\u001b[0;34m(\u001b[0m\u001b[0mself\u001b[0m\u001b[0;34m,\u001b[0m \u001b[0mcur_epoch\u001b[0m\u001b[0;34m)\u001b[0m\u001b[0;34m:\u001b[0m\u001b[0;34m\u001b[0m\u001b[0;34m\u001b[0m\u001b[0m\n",
      "\u001b[0;32m/usr/local/lib/python3.6/dist-packages/gensim/models/base_any2vec.py\u001b[0m in \u001b[0;36mtrain\u001b[0;34m(self, data_iterable, corpus_file, epochs, total_examples, total_words, queue_factor, report_delay, callbacks, **kwargs)\u001b[0m\n\u001b[1;32m    533\u001b[0m             \u001b[0mepochs\u001b[0m\u001b[0;34m=\u001b[0m\u001b[0mepochs\u001b[0m\u001b[0;34m,\u001b[0m\u001b[0;34m\u001b[0m\u001b[0;34m\u001b[0m\u001b[0m\n\u001b[1;32m    534\u001b[0m             \u001b[0mtotal_examples\u001b[0m\u001b[0;34m=\u001b[0m\u001b[0mtotal_examples\u001b[0m\u001b[0;34m,\u001b[0m\u001b[0;34m\u001b[0m\u001b[0;34m\u001b[0m\u001b[0m\n\u001b[0;32m--> 535\u001b[0;31m             total_words=total_words, **kwargs)\n\u001b[0m\u001b[1;32m    536\u001b[0m \u001b[0;34m\u001b[0m\u001b[0m\n\u001b[1;32m    537\u001b[0m         \u001b[0;32mfor\u001b[0m \u001b[0mcallback\u001b[0m \u001b[0;32min\u001b[0m \u001b[0mself\u001b[0m\u001b[0;34m.\u001b[0m\u001b[0mcallbacks\u001b[0m\u001b[0;34m:\u001b[0m\u001b[0;34m\u001b[0m\u001b[0;34m\u001b[0m\u001b[0m\n",
      "\u001b[0;32m/usr/local/lib/python3.6/dist-packages/gensim/models/base_any2vec.py\u001b[0m in \u001b[0;36m_check_training_sanity\u001b[0;34m(self, epochs, total_examples, total_words, **kwargs)\u001b[0m\n\u001b[1;32m   1171\u001b[0m \u001b[0;34m\u001b[0m\u001b[0m\n\u001b[1;32m   1172\u001b[0m         \u001b[0;32mif\u001b[0m \u001b[0;32mnot\u001b[0m \u001b[0mself\u001b[0m\u001b[0;34m.\u001b[0m\u001b[0mwv\u001b[0m\u001b[0;34m.\u001b[0m\u001b[0mvocab\u001b[0m\u001b[0;34m:\u001b[0m  \u001b[0;31m# should be set by `build_vocab`\u001b[0m\u001b[0;34m\u001b[0m\u001b[0;34m\u001b[0m\u001b[0m\n\u001b[0;32m-> 1173\u001b[0;31m             \u001b[0;32mraise\u001b[0m \u001b[0mRuntimeError\u001b[0m\u001b[0;34m(\u001b[0m\u001b[0;34m\"you must first build vocabulary before training the model\"\u001b[0m\u001b[0;34m)\u001b[0m\u001b[0;34m\u001b[0m\u001b[0;34m\u001b[0m\u001b[0m\n\u001b[0m\u001b[1;32m   1174\u001b[0m         \u001b[0;32mif\u001b[0m \u001b[0;32mnot\u001b[0m \u001b[0mlen\u001b[0m\u001b[0;34m(\u001b[0m\u001b[0mself\u001b[0m\u001b[0;34m.\u001b[0m\u001b[0mwv\u001b[0m\u001b[0;34m.\u001b[0m\u001b[0mvectors\u001b[0m\u001b[0;34m)\u001b[0m\u001b[0;34m:\u001b[0m\u001b[0;34m\u001b[0m\u001b[0;34m\u001b[0m\u001b[0m\n\u001b[1;32m   1175\u001b[0m             \u001b[0;32mraise\u001b[0m \u001b[0mRuntimeError\u001b[0m\u001b[0;34m(\u001b[0m\u001b[0;34m\"you must initialize vectors before training the model\"\u001b[0m\u001b[0;34m)\u001b[0m\u001b[0;34m\u001b[0m\u001b[0;34m\u001b[0m\u001b[0m\n",
      "\u001b[0;31mRuntimeError\u001b[0m: you must first build vocabulary before training the model"
     ]
    }
   ],
   "source": [
    "%%time\n",
    "if from_scratch or not os.path.exists(word2vec_filepath):\n",
    "\n",
    "    # initiate the model and perform the first epoch of training\n",
    "    reo2vec = Word2Vec(trigram_sentences, size=100, window=5,\n",
    "                        min_count=20, sg=1, workers=cpu_count()-1)\n",
    "\n",
    "    # perform 10 epochs of training\n",
    "    reo2vec.train(\n",
    "        trigram_sentences,\n",
    "        total_examples = count_sentences(trigram_sentences), \n",
    "        epochs = 10)\n",
    "\n",
    "    reo2vec.save(word2vec_filepath)\n",
    "else:\n",
    "    # load the finished model from disk\n",
    "    reo2vec = Word2Vec.load(word2vec_filepath)\n",
    "    reo2vec.init_sims()"
   ]
  },
  {
   "cell_type": "code",
   "execution_count": 65,
   "metadata": {},
   "outputs": [
    {
     "data": {
      "text/plain": [
       "[('atu', 0.5478876233100891),\n",
       " ('ake', 0.48823514580726624),\n",
       " ('ka', 0.4854778051376343),\n",
       " ('ki', 0.4788702726364136),\n",
       " ('i', 0.46540868282318115),\n",
       " ('whakapaparanga', 0.44860488176345825),\n",
       " ('iho', 0.4477006196975708),\n",
       " ('tata_paunga', 0.4467763304710388),\n",
       " ('aoake', 0.4465719163417816),\n",
       " ('kāti', 0.44309982657432556)]"
      ]
     },
     "execution_count": 65,
     "metadata": {},
     "output_type": "execute_result"
    }
   ],
   "source": [
    "reo2vec.wv.most_similar(\"\")"
   ]
  },
  {
   "cell_type": "markdown",
   "metadata": {},
   "source": [
    "# Visualising the word vectors"
   ]
  },
  {
   "cell_type": "markdown",
   "metadata": {},
   "source": [
    "Now that we've trained a collection of word vectors, we can visualise them with the common dimensionality reduction algorithms."
   ]
  },
  {
   "cell_type": "code",
   "execution_count": 40,
   "metadata": {},
   "outputs": [],
   "source": [
    "from sklearn.manifold import TSNE"
   ]
  },
  {
   "cell_type": "code",
   "execution_count": 41,
   "metadata": {},
   "outputs": [
    {
     "data": {
      "text/html": [
       "<div>\n",
       "<style scoped>\n",
       "    .dataframe tbody tr th:only-of-type {\n",
       "        vertical-align: middle;\n",
       "    }\n",
       "\n",
       "    .dataframe tbody tr th {\n",
       "        vertical-align: top;\n",
       "    }\n",
       "\n",
       "    .dataframe thead th {\n",
       "        text-align: right;\n",
       "    }\n",
       "</style>\n",
       "<table border=\"1\" class=\"dataframe\">\n",
       "  <thead>\n",
       "    <tr style=\"text-align: right;\">\n",
       "      <th></th>\n",
       "      <th>0</th>\n",
       "      <th>1</th>\n",
       "      <th>2</th>\n",
       "      <th>3</th>\n",
       "      <th>4</th>\n",
       "      <th>5</th>\n",
       "      <th>6</th>\n",
       "      <th>7</th>\n",
       "      <th>8</th>\n",
       "      <th>9</th>\n",
       "      <th>...</th>\n",
       "      <th>90</th>\n",
       "      <th>91</th>\n",
       "      <th>92</th>\n",
       "      <th>93</th>\n",
       "      <th>94</th>\n",
       "      <th>95</th>\n",
       "      <th>96</th>\n",
       "      <th>97</th>\n",
       "      <th>98</th>\n",
       "      <th>99</th>\n",
       "    </tr>\n",
       "  </thead>\n",
       "  <tbody>\n",
       "    <tr>\n",
       "      <th>te</th>\n",
       "      <td>-0.222786</td>\n",
       "      <td>0.008506</td>\n",
       "      <td>-0.159120</td>\n",
       "      <td>0.007774</td>\n",
       "      <td>0.029601</td>\n",
       "      <td>0.056520</td>\n",
       "      <td>0.019358</td>\n",
       "      <td>-0.039438</td>\n",
       "      <td>-0.107228</td>\n",
       "      <td>0.003269</td>\n",
       "      <td>...</td>\n",
       "      <td>-0.028638</td>\n",
       "      <td>-0.091592</td>\n",
       "      <td>0.035743</td>\n",
       "      <td>-0.107965</td>\n",
       "      <td>0.040518</td>\n",
       "      <td>0.187595</td>\n",
       "      <td>-0.059293</td>\n",
       "      <td>0.013830</td>\n",
       "      <td>-0.130743</td>\n",
       "      <td>-0.051073</td>\n",
       "    </tr>\n",
       "    <tr>\n",
       "      <th>i</th>\n",
       "      <td>-0.178271</td>\n",
       "      <td>0.007903</td>\n",
       "      <td>-0.186632</td>\n",
       "      <td>-0.004492</td>\n",
       "      <td>0.038849</td>\n",
       "      <td>0.019271</td>\n",
       "      <td>0.047945</td>\n",
       "      <td>-0.163053</td>\n",
       "      <td>0.023553</td>\n",
       "      <td>0.117416</td>\n",
       "      <td>...</td>\n",
       "      <td>-0.059919</td>\n",
       "      <td>-0.070771</td>\n",
       "      <td>-0.080721</td>\n",
       "      <td>-0.045064</td>\n",
       "      <td>0.029262</td>\n",
       "      <td>0.025555</td>\n",
       "      <td>-0.031239</td>\n",
       "      <td>-0.108634</td>\n",
       "      <td>-0.084195</td>\n",
       "      <td>0.028562</td>\n",
       "    </tr>\n",
       "    <tr>\n",
       "      <th>o</th>\n",
       "      <td>-0.132126</td>\n",
       "      <td>0.090262</td>\n",
       "      <td>-0.097263</td>\n",
       "      <td>-0.045000</td>\n",
       "      <td>0.075789</td>\n",
       "      <td>0.007335</td>\n",
       "      <td>0.010829</td>\n",
       "      <td>-0.024595</td>\n",
       "      <td>0.000504</td>\n",
       "      <td>0.130633</td>\n",
       "      <td>...</td>\n",
       "      <td>-0.056956</td>\n",
       "      <td>-0.042168</td>\n",
       "      <td>-0.189204</td>\n",
       "      <td>-0.076717</td>\n",
       "      <td>0.016934</td>\n",
       "      <td>0.029308</td>\n",
       "      <td>-0.011539</td>\n",
       "      <td>0.067284</td>\n",
       "      <td>-0.026894</td>\n",
       "      <td>0.081146</td>\n",
       "    </tr>\n",
       "    <tr>\n",
       "      <th>ngā</th>\n",
       "      <td>-0.189056</td>\n",
       "      <td>-0.086637</td>\n",
       "      <td>-0.194186</td>\n",
       "      <td>-0.052207</td>\n",
       "      <td>-0.058781</td>\n",
       "      <td>0.073729</td>\n",
       "      <td>-0.077801</td>\n",
       "      <td>0.052055</td>\n",
       "      <td>-0.023090</td>\n",
       "      <td>0.125136</td>\n",
       "      <td>...</td>\n",
       "      <td>-0.141133</td>\n",
       "      <td>-0.162282</td>\n",
       "      <td>0.117313</td>\n",
       "      <td>-0.050744</td>\n",
       "      <td>0.013293</td>\n",
       "      <td>-0.016623</td>\n",
       "      <td>-0.127900</td>\n",
       "      <td>0.039982</td>\n",
       "      <td>-0.124890</td>\n",
       "      <td>-0.148520</td>\n",
       "    </tr>\n",
       "    <tr>\n",
       "      <th>ki</th>\n",
       "      <td>-0.130063</td>\n",
       "      <td>0.065038</td>\n",
       "      <td>-0.212348</td>\n",
       "      <td>-0.135235</td>\n",
       "      <td>0.047919</td>\n",
       "      <td>0.123008</td>\n",
       "      <td>-0.050220</td>\n",
       "      <td>0.027695</td>\n",
       "      <td>-0.093777</td>\n",
       "      <td>0.097687</td>\n",
       "      <td>...</td>\n",
       "      <td>-0.010310</td>\n",
       "      <td>-0.042633</td>\n",
       "      <td>-0.159101</td>\n",
       "      <td>0.077639</td>\n",
       "      <td>0.042593</td>\n",
       "      <td>0.070596</td>\n",
       "      <td>-0.065038</td>\n",
       "      <td>-0.009395</td>\n",
       "      <td>0.022219</td>\n",
       "      <td>-0.054999</td>\n",
       "    </tr>\n",
       "  </tbody>\n",
       "</table>\n",
       "<p>5 rows × 100 columns</p>\n",
       "</div>"
      ],
      "text/plain": [
       "           0         1         2         3         4         5         6   \\\n",
       "te  -0.222786  0.008506 -0.159120  0.007774  0.029601  0.056520  0.019358   \n",
       "i   -0.178271  0.007903 -0.186632 -0.004492  0.038849  0.019271  0.047945   \n",
       "o   -0.132126  0.090262 -0.097263 -0.045000  0.075789  0.007335  0.010829   \n",
       "ngā -0.189056 -0.086637 -0.194186 -0.052207 -0.058781  0.073729 -0.077801   \n",
       "ki  -0.130063  0.065038 -0.212348 -0.135235  0.047919  0.123008 -0.050220   \n",
       "\n",
       "           7         8         9     ...           90        91        92  \\\n",
       "te  -0.039438 -0.107228  0.003269    ...    -0.028638 -0.091592  0.035743   \n",
       "i   -0.163053  0.023553  0.117416    ...    -0.059919 -0.070771 -0.080721   \n",
       "o   -0.024595  0.000504  0.130633    ...    -0.056956 -0.042168 -0.189204   \n",
       "ngā  0.052055 -0.023090  0.125136    ...    -0.141133 -0.162282  0.117313   \n",
       "ki   0.027695 -0.093777  0.097687    ...    -0.010310 -0.042633 -0.159101   \n",
       "\n",
       "           93        94        95        96        97        98        99  \n",
       "te  -0.107965  0.040518  0.187595 -0.059293  0.013830 -0.130743 -0.051073  \n",
       "i   -0.045064  0.029262  0.025555 -0.031239 -0.108634 -0.084195  0.028562  \n",
       "o   -0.076717  0.016934  0.029308 -0.011539  0.067284 -0.026894  0.081146  \n",
       "ngā -0.050744  0.013293 -0.016623 -0.127900  0.039982 -0.124890 -0.148520  \n",
       "ki   0.077639  0.042593  0.070596 -0.065038 -0.009395  0.022219 -0.054999  \n",
       "\n",
       "[5 rows x 100 columns]"
      ]
     },
     "execution_count": 41,
     "metadata": {},
     "output_type": "execute_result"
    }
   ],
   "source": [
    "# build a list of the terms, integer indices,\n",
    "# and term counts from the food2vec model vocabulary\n",
    "ordered_vocab = [(term, reo2vec.wv.vocab[term].index, reo2vec.wv.vocab[term].count)\n",
    "                 for term in reo2vec.wv.vocab]\n",
    "\n",
    "# sort by the term counts, so the most common terms appear first\n",
    "ordered_vocab = sorted(ordered_vocab, key=lambda vocab: -vocab[-1])\n",
    "\n",
    "# unzip the terms, integer indices, and counts into separate lists\n",
    "ordered_terms, term_indices, term_counts = zip(*ordered_vocab)\n",
    "\n",
    "# create a DataFrame with the food2vec vectors as data,\n",
    "# and the terms as row labels\n",
    "word_vectors = pd.DataFrame(reo2vec.wv.vectors_norm[term_indices, :],\n",
    "                            index=ordered_terms)\n",
    "\n",
    "word_vectors.head()"
   ]
  },
  {
   "cell_type": "code",
   "execution_count": 42,
   "metadata": {},
   "outputs": [],
   "source": [
    "dist_matrix = pd.DataFrame(\n",
    "    np.matmul(word_vectors.values, word_vectors.values.transpose()),\n",
    "    columns=word_vectors.index, index = word_vectors.index)"
   ]
  },
  {
   "cell_type": "code",
   "execution_count": 43,
   "metadata": {},
   "outputs": [],
   "source": [
    "dist_matrix['word'] = dist_matrix.index\n",
    "dist_matrix = dist_matrix.reset_index(drop=True)\n",
    "dist_matrix = dist_matrix[['word'] + list(dist_matrix.columns)[:-1]]"
   ]
  },
  {
   "cell_type": "code",
   "execution_count": 44,
   "metadata": {},
   "outputs": [],
   "source": [
    "dist_matrix.to_csv(\"../data/dist_matrix.csv\", index = False)"
   ]
  },
  {
   "cell_type": "code",
   "execution_count": 45,
   "metadata": {},
   "outputs": [
    {
     "data": {
      "text/html": [
       "<div>\n",
       "<style scoped>\n",
       "    .dataframe tbody tr th:only-of-type {\n",
       "        vertical-align: middle;\n",
       "    }\n",
       "\n",
       "    .dataframe tbody tr th {\n",
       "        vertical-align: top;\n",
       "    }\n",
       "\n",
       "    .dataframe thead th {\n",
       "        text-align: right;\n",
       "    }\n",
       "</style>\n",
       "<table border=\"1\" class=\"dataframe\">\n",
       "  <thead>\n",
       "    <tr style=\"text-align: right;\">\n",
       "      <th></th>\n",
       "      <th>word</th>\n",
       "      <th>te</th>\n",
       "      <th>i</th>\n",
       "      <th>o</th>\n",
       "      <th>ngā</th>\n",
       "      <th>ki</th>\n",
       "      <th>a</th>\n",
       "      <th>ka</th>\n",
       "      <th>ko</th>\n",
       "      <th>e</th>\n",
       "      <th>...</th>\n",
       "      <th>hinematioro</th>\n",
       "      <th>kāenga</th>\n",
       "      <th>matutaera</th>\n",
       "      <th>hemonga</th>\n",
       "      <th>kupu_whakaari</th>\n",
       "      <th>mihikitekapua</th>\n",
       "      <th>pātiti</th>\n",
       "      <th>maharaia</th>\n",
       "      <th>mātāpono_tiriti</th>\n",
       "      <th>wai_ngārahu</th>\n",
       "    </tr>\n",
       "  </thead>\n",
       "  <tbody>\n",
       "    <tr>\n",
       "      <th>0</th>\n",
       "      <td>te</td>\n",
       "      <td>1.000000</td>\n",
       "      <td>0.628271</td>\n",
       "      <td>0.638123</td>\n",
       "      <td>0.618064</td>\n",
       "      <td>0.544520</td>\n",
       "      <td>0.433727</td>\n",
       "      <td>0.448624</td>\n",
       "      <td>0.386931</td>\n",
       "      <td>0.398505</td>\n",
       "      <td>...</td>\n",
       "      <td>0.292715</td>\n",
       "      <td>0.267812</td>\n",
       "      <td>0.354860</td>\n",
       "      <td>0.295029</td>\n",
       "      <td>0.300009</td>\n",
       "      <td>0.217460</td>\n",
       "      <td>0.348734</td>\n",
       "      <td>0.336682</td>\n",
       "      <td>0.329291</td>\n",
       "      <td>0.153970</td>\n",
       "    </tr>\n",
       "    <tr>\n",
       "      <th>1</th>\n",
       "      <td>i</td>\n",
       "      <td>0.628271</td>\n",
       "      <td>1.000000</td>\n",
       "      <td>0.618741</td>\n",
       "      <td>0.483214</td>\n",
       "      <td>0.629857</td>\n",
       "      <td>0.537903</td>\n",
       "      <td>0.496184</td>\n",
       "      <td>0.361675</td>\n",
       "      <td>0.474900</td>\n",
       "      <td>...</td>\n",
       "      <td>0.131130</td>\n",
       "      <td>0.340617</td>\n",
       "      <td>0.370729</td>\n",
       "      <td>0.363631</td>\n",
       "      <td>0.365941</td>\n",
       "      <td>0.247887</td>\n",
       "      <td>0.360679</td>\n",
       "      <td>0.319115</td>\n",
       "      <td>0.346018</td>\n",
       "      <td>0.099930</td>\n",
       "    </tr>\n",
       "    <tr>\n",
       "      <th>2</th>\n",
       "      <td>o</td>\n",
       "      <td>0.638123</td>\n",
       "      <td>0.618741</td>\n",
       "      <td>1.000000</td>\n",
       "      <td>0.462891</td>\n",
       "      <td>0.542783</td>\n",
       "      <td>0.396102</td>\n",
       "      <td>0.368187</td>\n",
       "      <td>0.500693</td>\n",
       "      <td>0.315246</td>\n",
       "      <td>...</td>\n",
       "      <td>0.235256</td>\n",
       "      <td>0.257259</td>\n",
       "      <td>0.259257</td>\n",
       "      <td>0.349017</td>\n",
       "      <td>0.253149</td>\n",
       "      <td>0.227215</td>\n",
       "      <td>0.264591</td>\n",
       "      <td>0.179456</td>\n",
       "      <td>0.187651</td>\n",
       "      <td>0.061806</td>\n",
       "    </tr>\n",
       "    <tr>\n",
       "      <th>3</th>\n",
       "      <td>ngā</td>\n",
       "      <td>0.618064</td>\n",
       "      <td>0.483214</td>\n",
       "      <td>0.462891</td>\n",
       "      <td>1.000000</td>\n",
       "      <td>0.430483</td>\n",
       "      <td>0.371863</td>\n",
       "      <td>0.354579</td>\n",
       "      <td>0.270213</td>\n",
       "      <td>0.396113</td>\n",
       "      <td>...</td>\n",
       "      <td>0.112666</td>\n",
       "      <td>0.190411</td>\n",
       "      <td>0.187832</td>\n",
       "      <td>0.162474</td>\n",
       "      <td>0.264946</td>\n",
       "      <td>0.228867</td>\n",
       "      <td>0.211053</td>\n",
       "      <td>0.299954</td>\n",
       "      <td>0.353003</td>\n",
       "      <td>0.117631</td>\n",
       "    </tr>\n",
       "    <tr>\n",
       "      <th>4</th>\n",
       "      <td>ki</td>\n",
       "      <td>0.544520</td>\n",
       "      <td>0.629857</td>\n",
       "      <td>0.542783</td>\n",
       "      <td>0.430483</td>\n",
       "      <td>1.000000</td>\n",
       "      <td>0.518243</td>\n",
       "      <td>0.457895</td>\n",
       "      <td>0.346322</td>\n",
       "      <td>0.410440</td>\n",
       "      <td>...</td>\n",
       "      <td>0.221359</td>\n",
       "      <td>0.334631</td>\n",
       "      <td>0.263795</td>\n",
       "      <td>0.270693</td>\n",
       "      <td>0.224532</td>\n",
       "      <td>0.244343</td>\n",
       "      <td>0.268656</td>\n",
       "      <td>0.257761</td>\n",
       "      <td>0.295939</td>\n",
       "      <td>0.074110</td>\n",
       "    </tr>\n",
       "  </tbody>\n",
       "</table>\n",
       "<p>5 rows × 3561 columns</p>\n",
       "</div>"
      ],
      "text/plain": [
       "  word        te         i         o       ngā        ki         a        ka  \\\n",
       "0   te  1.000000  0.628271  0.638123  0.618064  0.544520  0.433727  0.448624   \n",
       "1    i  0.628271  1.000000  0.618741  0.483214  0.629857  0.537903  0.496184   \n",
       "2    o  0.638123  0.618741  1.000000  0.462891  0.542783  0.396102  0.368187   \n",
       "3  ngā  0.618064  0.483214  0.462891  1.000000  0.430483  0.371863  0.354579   \n",
       "4   ki  0.544520  0.629857  0.542783  0.430483  1.000000  0.518243  0.457895   \n",
       "\n",
       "         ko         e     ...       hinematioro    kāenga  matutaera  \\\n",
       "0  0.386931  0.398505     ...          0.292715  0.267812   0.354860   \n",
       "1  0.361675  0.474900     ...          0.131130  0.340617   0.370729   \n",
       "2  0.500693  0.315246     ...          0.235256  0.257259   0.259257   \n",
       "3  0.270213  0.396113     ...          0.112666  0.190411   0.187832   \n",
       "4  0.346322  0.410440     ...          0.221359  0.334631   0.263795   \n",
       "\n",
       "    hemonga  kupu_whakaari  mihikitekapua    pātiti  maharaia  \\\n",
       "0  0.295029       0.300009       0.217460  0.348734  0.336682   \n",
       "1  0.363631       0.365941       0.247887  0.360679  0.319115   \n",
       "2  0.349017       0.253149       0.227215  0.264591  0.179456   \n",
       "3  0.162474       0.264946       0.228867  0.211053  0.299954   \n",
       "4  0.270693       0.224532       0.244343  0.268656  0.257761   \n",
       "\n",
       "   mātāpono_tiriti  wai_ngārahu  \n",
       "0         0.329291     0.153970  \n",
       "1         0.346018     0.099930  \n",
       "2         0.187651     0.061806  \n",
       "3         0.353003     0.117631  \n",
       "4         0.295939     0.074110  \n",
       "\n",
       "[5 rows x 3561 columns]"
      ]
     },
     "execution_count": 45,
     "metadata": {},
     "output_type": "execute_result"
    }
   ],
   "source": [
    "dist_matrix.head()"
   ]
  },
  {
   "cell_type": "markdown",
   "metadata": {},
   "source": [
    "## Word counts"
   ]
  },
  {
   "cell_type": "markdown",
   "metadata": {},
   "source": [
    "We can quickly assemble some word counts here to use later:"
   ]
  },
  {
   "cell_type": "code",
   "execution_count": 46,
   "metadata": {},
   "outputs": [],
   "source": [
    "nga_kupu = []\n",
    "for sent in trigram_sentences:\n",
    "    for kupu in sent:\n",
    "        nga_kupu.append(kupu)"
   ]
  },
  {
   "cell_type": "code",
   "execution_count": 47,
   "metadata": {},
   "outputs": [],
   "source": [
    "word_counts = (pd.Series(nga_kupu)\n",
    "     .value_counts()\n",
    "     .pipe(pd.DataFrame)\n",
    "     .reset_index()\n",
    ")\n",
    "\n",
    "word_counts.columns = ['word', 'word_count']"
   ]
  },
  {
   "cell_type": "code",
   "execution_count": 48,
   "metadata": {},
   "outputs": [
    {
     "data": {
      "text/html": [
       "<div>\n",
       "<style scoped>\n",
       "    .dataframe tbody tr th:only-of-type {\n",
       "        vertical-align: middle;\n",
       "    }\n",
       "\n",
       "    .dataframe tbody tr th {\n",
       "        vertical-align: top;\n",
       "    }\n",
       "\n",
       "    .dataframe thead th {\n",
       "        text-align: right;\n",
       "    }\n",
       "</style>\n",
       "<table border=\"1\" class=\"dataframe\">\n",
       "  <thead>\n",
       "    <tr style=\"text-align: right;\">\n",
       "      <th></th>\n",
       "      <th>word</th>\n",
       "      <th>word_count</th>\n",
       "    </tr>\n",
       "  </thead>\n",
       "  <tbody>\n",
       "    <tr>\n",
       "      <th>0</th>\n",
       "      <td>te</td>\n",
       "      <td>188333</td>\n",
       "    </tr>\n",
       "    <tr>\n",
       "      <th>1</th>\n",
       "      <td>i</td>\n",
       "      <td>116609</td>\n",
       "    </tr>\n",
       "    <tr>\n",
       "      <th>2</th>\n",
       "      <td>o</td>\n",
       "      <td>69513</td>\n",
       "    </tr>\n",
       "    <tr>\n",
       "      <th>3</th>\n",
       "      <td>ngā</td>\n",
       "      <td>56832</td>\n",
       "    </tr>\n",
       "    <tr>\n",
       "      <th>4</th>\n",
       "      <td>ki</td>\n",
       "      <td>56588</td>\n",
       "    </tr>\n",
       "  </tbody>\n",
       "</table>\n",
       "</div>"
      ],
      "text/plain": [
       "  word  word_count\n",
       "0   te      188333\n",
       "1    i      116609\n",
       "2    o       69513\n",
       "3  ngā       56832\n",
       "4   ki       56588"
      ]
     },
     "execution_count": 48,
     "metadata": {},
     "output_type": "execute_result"
    }
   ],
   "source": [
    "word_counts.head()"
   ]
  },
  {
   "cell_type": "markdown",
   "metadata": {},
   "source": [
    "## TSNE"
   ]
  },
  {
   "cell_type": "code",
   "execution_count": 49,
   "metadata": {},
   "outputs": [],
   "source": [
    "tsne_filepath = '../models/te_ara_tsne.model'\n",
    "tsne_vectors_filepath = '../models/tsne_vectors.npy'"
   ]
  },
  {
   "cell_type": "code",
   "execution_count": 51,
   "metadata": {},
   "outputs": [
    {
     "name": "stdout",
     "output_type": "stream",
     "text": [
      "CPU times: user 7min 24s, sys: 12.3 s, total: 7min 36s\n",
      "Wall time: 7min 36s\n"
     ]
    }
   ],
   "source": [
    "%%time\n",
    "if from_scratch or not os.path.exists(tsne_filepath) or not os.path.exists(tsne_vectors_filepath):\n",
    "    \n",
    "    tsne = TSNE()\n",
    "    tsne_vectors = tsne.fit_transform(dist_matrix.drop('word', 1).values)\n",
    "    \n",
    "    with open(tsne_filepath, 'wb') as f:\n",
    "        pickle.dump(tsne, f)\n",
    "\n",
    "    pd.np.save(tsne_vectors_filepath, tsne_vectors)\n",
    "\n",
    "else:\n",
    "    with open(tsne_filepath, 'rb') as f:\n",
    "        tsne = pickle.load(f)\n",
    "        tsne_vectors = pd.np.load(tsne_vectors_filepath)"
   ]
  },
  {
   "cell_type": "code",
   "execution_count": 52,
   "metadata": {},
   "outputs": [],
   "source": [
    "tsne_vectors = pd.DataFrame(tsne_vectors,\n",
    "                            index=pd.Index(dist_matrix.word),\n",
    "                            columns=[u'x_coord', u'y_coord'])"
   ]
  },
  {
   "cell_type": "code",
   "execution_count": 53,
   "metadata": {},
   "outputs": [],
   "source": [
    "tsne_vectors['word'] = tsne_vectors.index\n",
    "\n",
    "tsne_vectors.reset_index(drop=True)\n",
    "\n",
    "tsne_vectors = tsne_vectors.merge(word_counts, how = 'left', on = ['word'])\n",
    "\n",
    "tsne_vectors = tsne_vectors[['word', 'x_coord', 'y_coord', 'word_count']]"
   ]
  },
  {
   "cell_type": "code",
   "execution_count": 54,
   "metadata": {},
   "outputs": [],
   "source": [
    "tsne_vectors.to_csv(\"../data/tsne.csv\", index = False)"
   ]
  },
  {
   "cell_type": "code",
   "execution_count": 55,
   "metadata": {},
   "outputs": [
    {
     "data": {
      "text/html": [
       "<div>\n",
       "<style scoped>\n",
       "    .dataframe tbody tr th:only-of-type {\n",
       "        vertical-align: middle;\n",
       "    }\n",
       "\n",
       "    .dataframe tbody tr th {\n",
       "        vertical-align: top;\n",
       "    }\n",
       "\n",
       "    .dataframe thead th {\n",
       "        text-align: right;\n",
       "    }\n",
       "</style>\n",
       "<table border=\"1\" class=\"dataframe\">\n",
       "  <thead>\n",
       "    <tr style=\"text-align: right;\">\n",
       "      <th></th>\n",
       "      <th>word</th>\n",
       "      <th>x_coord</th>\n",
       "      <th>y_coord</th>\n",
       "      <th>word_count</th>\n",
       "    </tr>\n",
       "  </thead>\n",
       "  <tbody>\n",
       "    <tr>\n",
       "      <th>0</th>\n",
       "      <td>te</td>\n",
       "      <td>8.306958</td>\n",
       "      <td>1.840340</td>\n",
       "      <td>188333</td>\n",
       "    </tr>\n",
       "    <tr>\n",
       "      <th>1</th>\n",
       "      <td>i</td>\n",
       "      <td>8.057685</td>\n",
       "      <td>2.035390</td>\n",
       "      <td>116609</td>\n",
       "    </tr>\n",
       "    <tr>\n",
       "      <th>2</th>\n",
       "      <td>o</td>\n",
       "      <td>8.240121</td>\n",
       "      <td>2.187749</td>\n",
       "      <td>69513</td>\n",
       "    </tr>\n",
       "    <tr>\n",
       "      <th>3</th>\n",
       "      <td>ngā</td>\n",
       "      <td>8.679026</td>\n",
       "      <td>0.652699</td>\n",
       "      <td>56832</td>\n",
       "    </tr>\n",
       "    <tr>\n",
       "      <th>4</th>\n",
       "      <td>ki</td>\n",
       "      <td>7.344255</td>\n",
       "      <td>2.501331</td>\n",
       "      <td>56588</td>\n",
       "    </tr>\n",
       "  </tbody>\n",
       "</table>\n",
       "</div>"
      ],
      "text/plain": [
       "  word   x_coord   y_coord  word_count\n",
       "0   te  8.306958  1.840340      188333\n",
       "1    i  8.057685  2.035390      116609\n",
       "2    o  8.240121  2.187749       69513\n",
       "3  ngā  8.679026  0.652699       56832\n",
       "4   ki  7.344255  2.501331       56588"
      ]
     },
     "execution_count": 55,
     "metadata": {},
     "output_type": "execute_result"
    }
   ],
   "source": [
    "tsne_vectors.head()"
   ]
  },
  {
   "cell_type": "code",
   "execution_count": 56,
   "metadata": {},
   "outputs": [
    {
     "data": {
      "text/plain": [
       "<matplotlib.axes._subplots.AxesSubplot at 0x7f82b4c90470>"
      ]
     },
     "execution_count": 56,
     "metadata": {},
     "output_type": "execute_result"
    },
    {
     "data": {
      "image/png": "[encoded data removed]",
      "text/plain": [
       "<Figure size 432x288 with 1 Axes>"
      ]
     },
     "metadata": {
      "needs_background": "light"
     },
     "output_type": "display_data"
    }
   ],
   "source": [
    "tsne_vectors.plot(kind = 'scatter', x = 'x_coord', y = 'y_coord')"
   ]
  },
  {
   "cell_type": "code",
   "execution_count": 57,
   "metadata": {},
   "outputs": [
    {
     "data": {
      "text/html": [
       "\n",
       "    <div class=\"bk-root\">\n",
       "        <a href=\"https://bokeh.pydata.org\" target=\"_blank\" class=\"bk-logo bk-logo-small bk-logo-notebook\"></a>\n",
       "        <span id=\"b43463f4-d623-4f12-a305-4ee6eec48695\">Loading BokehJS ...</span>\n",
       "    </div>"
      ]
     },
     "metadata": {},
     "output_type": "display_data"
    },
    {
     "data": {
      "application/javascript": [
       "\n",
       "(function(root) {\n",
       "  function now() {\n",
       "    return new Date();\n",
       "  }\n",
       "\n",
       "  var force = true;\n",
       "\n",
       "  if (typeof (root._bokeh_onload_callbacks) === \"undefined\" || force === true) {\n",
       "    root._bokeh_onload_callbacks = [];\n",
       "    root._bokeh_is_loading = undefined;\n",
       "  }\n",
       "\n",
       "  var JS_MIME_TYPE = 'application/javascript';\n",
       "  var HTML_MIME_TYPE = 'text/html';\n",
       "  var EXEC_MIME_TYPE = 'application/vnd.bokehjs_exec.v0+json';\n",
       "  var CLASS_NAME = 'output_bokeh rendered_html';\n",
       "\n",
       "  /**\n",
       "   * Render data to the DOM node\n",
       "   */\n",
       "  function render(props, node) {\n",
       "    var script = document.createElement(\"script\");\n",
       "    node.appendChild(script);\n",
       "  }\n",
       "\n",
       "  /**\n",
       "   * Handle when an output is cleared or removed\n",
       "   */\n",
       "  function handleClearOutput(event, handle) {\n",
       "    var cell = handle.cell;\n",
       "\n",
       "    var id = cell.output_area._bokeh_element_id;\n",
       "    var server_id = cell.output_area._bokeh_server_id;\n",
       "    // Clean up Bokeh references\n",
       "    if (id != null && id in Bokeh.index) {\n",
       "      Bokeh.index[id].model.document.clear();\n",
       "      delete Bokeh.index[id];\n",
       "    }\n",
       "\n",
       "    if (server_id !== undefined) {\n",
       "      // Clean up Bokeh references\n",
       "      var cmd = \"from bokeh.io.state import curstate; print(curstate().uuid_to_server['\" + server_id + \"'].get_sessions()[0].document.roots[0]._id)\";\n",
       "      cell.notebook.kernel.execute(cmd, {\n",
       "        iopub: {\n",
       "          output: function(msg) {\n",
       "            var id = msg.content.text.trim();\n",
       "            if (id in Bokeh.index) {\n",
       "              Bokeh.index[id].model.document.clear();\n",
       "              delete Bokeh.index[id];\n",
       "            }\n",
       "          }\n",
       "        }\n",
       "      });\n",
       "      // Destroy server and session\n",
       "      var cmd = \"import bokeh.io.notebook as ion; ion.destroy_server('\" + server_id + \"')\";\n",
       "      cell.notebook.kernel.execute(cmd);\n",
       "    }\n",
       "  }\n",
       "\n",
       "  /**\n",
       "   * Handle when a new output is added\n",
       "   */\n",
       "  function handleAddOutput(event, handle) {\n",
       "    var output_area = handle.output_area;\n",
       "    var output = handle.output;\n",
       "\n",
       "    // limit handleAddOutput to display_data with EXEC_MIME_TYPE content only\n",
       "    if ((output.output_type != \"display_data\") || (!output.data.hasOwnProperty(EXEC_MIME_TYPE))) {\n",
       "      return\n",
       "    }\n",
       "\n",
       "    var toinsert = output_area.element.find(\".\" + CLASS_NAME.split(' ')[0]);\n",
       "\n",
       "    if (output.metadata[EXEC_MIME_TYPE][\"id\"] !== undefined) {\n",
       "      toinsert[toinsert.length - 1].firstChild.textContent = output.data[JS_MIME_TYPE];\n",
       "      // store reference to embed id on output_area\n",
       "      output_area._bokeh_element_id = output.metadata[EXEC_MIME_TYPE][\"id\"];\n",
       "    }\n",
       "    if (output.metadata[EXEC_MIME_TYPE][\"server_id\"] !== undefined) {\n",
       "      var bk_div = document.createElement(\"div\");\n",
       "      bk_div.innerHTML = output.data[HTML_MIME_TYPE];\n",
       "      var script_attrs = bk_div.children[0].attributes;\n",
       "      for (var i = 0; i < script_attrs.length; i++) {\n",
       "        toinsert[toinsert.length - 1].firstChild.setAttribute(script_attrs[i].name, script_attrs[i].value);\n",
       "      }\n",
       "      // store reference to server id on output_area\n",
       "      output_area._bokeh_server_id = output.metadata[EXEC_MIME_TYPE][\"server_id\"];\n",
       "    }\n",
       "  }\n",
       "\n",
       "  function register_renderer(events, OutputArea) {\n",
       "\n",
       "    function append_mime(data, metadata, element) {\n",
       "      // create a DOM node to render to\n",
       "      var toinsert = this.create_output_subarea(\n",
       "        metadata,\n",
       "        CLASS_NAME,\n",
       "        EXEC_MIME_TYPE\n",
       "      );\n",
       "      this.keyboard_manager.register_events(toinsert);\n",
       "      // Render to node\n",
       "      var props = {data: data, metadata: metadata[EXEC_MIME_TYPE]};\n",
       "      render(props, toinsert[toinsert.length - 1]);\n",
       "      element.append(toinsert);\n",
       "      return toinsert\n",
       "    }\n",
       "\n",
       "    /* Handle when an output is cleared or removed */\n",
       "    events.on('clear_output.CodeCell', handleClearOutput);\n",
       "    events.on('delete.Cell', handleClearOutput);\n",
       "\n",
       "    /* Handle when a new output is added */\n",
       "    events.on('output_added.OutputArea', handleAddOutput);\n",
       "\n",
       "    /**\n",
       "     * Register the mime type and append_mime function with output_area\n",
       "     */\n",
       "    OutputArea.prototype.register_mime_type(EXEC_MIME_TYPE, append_mime, {\n",
       "      /* Is output safe? */\n",
       "      safe: true,\n",
       "      /* Index of renderer in `output_area.display_order` */\n",
       "      index: 0\n",
       "    });\n",
       "  }\n",
       "\n",
       "  // register the mime type if in Jupyter Notebook environment and previously unregistered\n",
       "  if (root.Jupyter !== undefined) {\n",
       "    var events = require('base/js/events');\n",
       "    var OutputArea = require('notebook/js/outputarea').OutputArea;\n",
       "\n",
       "    if (OutputArea.prototype.mime_types().indexOf(EXEC_MIME_TYPE) == -1) {\n",
       "      register_renderer(events, OutputArea);\n",
       "    }\n",
       "  }\n",
       "\n",
       "  \n",
       "  if (typeof (root._bokeh_timeout) === \"undefined\" || force === true) {\n",
       "    root._bokeh_timeout = Date.now() + 5000;\n",
       "    root._bokeh_failed_load = false;\n",
       "  }\n",
       "\n",
       "  var NB_LOAD_WARNING = {'data': {'text/html':\n",
       "     \"<div style='background-color: #fdd'>\\n\"+\n",
       "     \"<p>\\n\"+\n",
       "     \"BokehJS does not appear to have successfully loaded. If loading BokehJS from CDN, this \\n\"+\n",
       "     \"may be due to a slow or bad network connection. Possible fixes:\\n\"+\n",
       "     \"</p>\\n\"+\n",
       "     \"<ul>\\n\"+\n",
       "     \"<li>re-rerun `output_notebook()` to attempt to load from CDN again, or</li>\\n\"+\n",
       "     \"<li>use INLINE resources instead, as so:</li>\\n\"+\n",
       "     \"</ul>\\n\"+\n",
       "     \"<code>\\n\"+\n",
       "     \"from bokeh.resources import INLINE\\n\"+\n",
       "     \"output_notebook(resources=INLINE)\\n\"+\n",
       "     \"</code>\\n\"+\n",
       "     \"</div>\"}};\n",
       "\n",
       "  function display_loaded() {\n",
       "    var el = document.getElementById(\"b43463f4-d623-4f12-a305-4ee6eec48695\");\n",
       "    if (el != null) {\n",
       "      el.textContent = \"BokehJS is loading...\";\n",
       "    }\n",
       "    if (root.Bokeh !== undefined) {\n",
       "      if (el != null) {\n",
       "        el.textContent = \"BokehJS \" + root.Bokeh.version + \" successfully loaded.\";\n",
       "      }\n",
       "    } else if (Date.now() < root._bokeh_timeout) {\n",
       "      setTimeout(display_loaded, 100)\n",
       "    }\n",
       "  }\n",
       "\n",
       "\n",
       "  function run_callbacks() {\n",
       "    try {\n",
       "      root._bokeh_onload_callbacks.forEach(function(callback) { callback() });\n",
       "    }\n",
       "    finally {\n",
       "      delete root._bokeh_onload_callbacks\n",
       "    }\n",
       "    console.info(\"Bokeh: all callbacks have finished\");\n",
       "  }\n",
       "\n",
       "  function load_libs(js_urls, callback) {\n",
       "    root._bokeh_onload_callbacks.push(callback);\n",
       "    if (root._bokeh_is_loading > 0) {\n",
       "      console.log(\"Bokeh: BokehJS is being loaded, scheduling callback at\", now());\n",
       "      return null;\n",
       "    }\n",
       "    if (js_urls == null || js_urls.length === 0) {\n",
       "      run_callbacks();\n",
       "      return null;\n",
       "    }\n",
       "    console.log(\"Bokeh: BokehJS not loaded, scheduling load and callback at\", now());\n",
       "    root._bokeh_is_loading = js_urls.length;\n",
       "    for (var i = 0; i < js_urls.length; i++) {\n",
       "      var url = js_urls[i];\n",
       "      var s = document.createElement('script');\n",
       "      s.src = url;\n",
       "      s.async = false;\n",
       "      s.onreadystatechange = s.onload = function() {\n",
       "        root._bokeh_is_loading--;\n",
       "        if (root._bokeh_is_loading === 0) {\n",
       "          console.log(\"Bokeh: all BokehJS libraries loaded\");\n",
       "          run_callbacks()\n",
       "        }\n",
       "      };\n",
       "      s.onerror = function() {\n",
       "        console.warn(\"failed to load library \" + url);\n",
       "      };\n",
       "      console.log(\"Bokeh: injecting script tag for BokehJS library: \", url);\n",
       "      document.getElementsByTagName(\"head\")[0].appendChild(s);\n",
       "    }\n",
       "  };var element = document.getElementById(\"b43463f4-d623-4f12-a305-4ee6eec48695\");\n",
       "  if (element == null) {\n",
       "    console.log(\"Bokeh: ERROR: autoload.js configured with elementid 'b43463f4-d623-4f12-a305-4ee6eec48695' but no matching script tag was found. \")\n",
       "    return false;\n",
       "  }\n",
       "\n",
       "  var js_urls = [\"https://cdn.pydata.org/bokeh/release/bokeh-0.13.0.min.js\", \"https://cdn.pydata.org/bokeh/release/bokeh-widgets-0.13.0.min.js\", \"https://cdn.pydata.org/bokeh/release/bokeh-tables-0.13.0.min.js\", \"https://cdn.pydata.org/bokeh/release/bokeh-gl-0.13.0.min.js\"];\n",
       "\n",
       "  var inline_js = [\n",
       "    function(Bokeh) {\n",
       "      Bokeh.set_log_level(\"info\");\n",
       "    },\n",
       "    \n",
       "    function(Bokeh) {\n",
       "      \n",
       "    },\n",
       "    function(Bokeh) {\n",
       "      console.log(\"Bokeh: injecting CSS: https://cdn.pydata.org/bokeh/release/bokeh-0.13.0.min.css\");\n",
       "      Bokeh.embed.inject_css(\"https://cdn.pydata.org/bokeh/release/bokeh-0.13.0.min.css\");\n",
       "      console.log(\"Bokeh: injecting CSS: https://cdn.pydata.org/bokeh/release/bokeh-widgets-0.13.0.min.css\");\n",
       "      Bokeh.embed.inject_css(\"https://cdn.pydata.org/bokeh/release/bokeh-widgets-0.13.0.min.css\");\n",
       "      console.log(\"Bokeh: injecting CSS: https://cdn.pydata.org/bokeh/release/bokeh-tables-0.13.0.min.css\");\n",
       "      Bokeh.embed.inject_css(\"https://cdn.pydata.org/bokeh/release/bokeh-tables-0.13.0.min.css\");\n",
       "    }\n",
       "  ];\n",
       "\n",
       "  function run_inline_js() {\n",
       "    \n",
       "    if ((root.Bokeh !== undefined) || (force === true)) {\n",
       "      for (var i = 0; i < inline_js.length; i++) {\n",
       "        inline_js[i].call(root, root.Bokeh);\n",
       "      }if (force === true) {\n",
       "        display_loaded();\n",
       "      }} else if (Date.now() < root._bokeh_timeout) {\n",
       "      setTimeout(run_inline_js, 100);\n",
       "    } else if (!root._bokeh_failed_load) {\n",
       "      console.log(\"Bokeh: BokehJS failed to load within specified timeout.\");\n",
       "      root._bokeh_failed_load = true;\n",
       "    } else if (force !== true) {\n",
       "      var cell = $(document.getElementById(\"b43463f4-d623-4f12-a305-4ee6eec48695\")).parents('.cell').data().cell;\n",
       "      cell.output_area.append_execute_result(NB_LOAD_WARNING)\n",
       "    }\n",
       "\n",
       "  }\n",
       "\n",
       "  if (root._bokeh_is_loading === 0) {\n",
       "    console.log(\"Bokeh: BokehJS loaded, going straight to plotting\");\n",
       "    run_inline_js();\n",
       "  } else {\n",
       "    load_libs(js_urls, function() {\n",
       "      console.log(\"Bokeh: BokehJS plotting callback run at\", now());\n",
       "      run_inline_js();\n",
       "    });\n",
       "  }\n",
       "}(window));"
      ],
      "application/vnd.bokehjs_load.v0+json": "\n(function(root) {\n  function now() {\n    return new Date();\n  }\n\n  var force = true;\n\n  if (typeof (root._bokeh_onload_callbacks) === \"undefined\" || force === true) {\n    root._bokeh_onload_callbacks = [];\n    root._bokeh_is_loading = undefined;\n  }\n\n  \n\n  \n  if (typeof (root._bokeh_timeout) === \"undefined\" || force === true) {\n    root._bokeh_timeout = Date.now() + 5000;\n    root._bokeh_failed_load = false;\n  }\n\n  var NB_LOAD_WARNING = {'data': {'text/html':\n     \"<div style='background-color: #fdd'>\\n\"+\n     \"<p>\\n\"+\n     \"BokehJS does not appear to have successfully loaded. If loading BokehJS from CDN, this \\n\"+\n     \"may be due to a slow or bad network connection. Possible fixes:\\n\"+\n     \"</p>\\n\"+\n     \"<ul>\\n\"+\n     \"<li>re-rerun `output_notebook()` to attempt to load from CDN again, or</li>\\n\"+\n     \"<li>use INLINE resources instead, as so:</li>\\n\"+\n     \"</ul>\\n\"+\n     \"<code>\\n\"+\n     \"from bokeh.resources import INLINE\\n\"+\n     \"output_notebook(resources=INLINE)\\n\"+\n     \"</code>\\n\"+\n     \"</div>\"}};\n\n  function display_loaded() {\n    var el = document.getElementById(\"b43463f4-d623-4f12-a305-4ee6eec48695\");\n    if (el != null) {\n      el.textContent = \"BokehJS is loading...\";\n    }\n    if (root.Bokeh !== undefined) {\n      if (el != null) {\n        el.textContent = \"BokehJS \" + root.Bokeh.version + \" successfully loaded.\";\n      }\n    } else if (Date.now() < root._bokeh_timeout) {\n      setTimeout(display_loaded, 100)\n    }\n  }\n\n\n  function run_callbacks() {\n    try {\n      root._bokeh_onload_callbacks.forEach(function(callback) { callback() });\n    }\n    finally {\n      delete root._bokeh_onload_callbacks\n    }\n    console.info(\"Bokeh: all callbacks have finished\");\n  }\n\n  function load_libs(js_urls, callback) {\n    root._bokeh_onload_callbacks.push(callback);\n    if (root._bokeh_is_loading > 0) {\n      console.log(\"Bokeh: BokehJS is being loaded, scheduling callback at\", now());\n      return null;\n    }\n    if (js_urls == null || js_urls.length === 0) {\n      run_callbacks();\n      return null;\n    }\n    console.log(\"Bokeh: BokehJS not loaded, scheduling load and callback at\", now());\n    root._bokeh_is_loading = js_urls.length;\n    for (var i = 0; i < js_urls.length; i++) {\n      var url = js_urls[i];\n      var s = document.createElement('script');\n      s.src = url;\n      s.async = false;\n      s.onreadystatechange = s.onload = function() {\n        root._bokeh_is_loading--;\n        if (root._bokeh_is_loading === 0) {\n          console.log(\"Bokeh: all BokehJS libraries loaded\");\n          run_callbacks()\n        }\n      };\n      s.onerror = function() {\n        console.warn(\"failed to load library \" + url);\n      };\n      console.log(\"Bokeh: injecting script tag for BokehJS library: \", url);\n      document.getElementsByTagName(\"head\")[0].appendChild(s);\n    }\n  };var element = document.getElementById(\"b43463f4-d623-4f12-a305-4ee6eec48695\");\n  if (element == null) {\n    console.log(\"Bokeh: ERROR: autoload.js configured with elementid 'b43463f4-d623-4f12-a305-4ee6eec48695' but no matching script tag was found. \")\n    return false;\n  }\n\n  var js_urls = [\"https://cdn.pydata.org/bokeh/release/bokeh-0.13.0.min.js\", \"https://cdn.pydata.org/bokeh/release/bokeh-widgets-0.13.0.min.js\", \"https://cdn.pydata.org/bokeh/release/bokeh-tables-0.13.0.min.js\", \"https://cdn.pydata.org/bokeh/release/bokeh-gl-0.13.0.min.js\"];\n\n  var inline_js = [\n    function(Bokeh) {\n      Bokeh.set_log_level(\"info\");\n    },\n    \n    function(Bokeh) {\n      \n    },\n    function(Bokeh) {\n      console.log(\"Bokeh: injecting CSS: https://cdn.pydata.org/bokeh/release/bokeh-0.13.0.min.css\");\n      Bokeh.embed.inject_css(\"https://cdn.pydata.org/bokeh/release/bokeh-0.13.0.min.css\");\n      console.log(\"Bokeh: injecting CSS: https://cdn.pydata.org/bokeh/release/bokeh-widgets-0.13.0.min.css\");\n      Bokeh.embed.inject_css(\"https://cdn.pydata.org/bokeh/release/bokeh-widgets-0.13.0.min.css\");\n      console.log(\"Bokeh: injecting CSS: https://cdn.pydata.org/bokeh/release/bokeh-tables-0.13.0.min.css\");\n      Bokeh.embed.inject_css(\"https://cdn.pydata.org/bokeh/release/bokeh-tables-0.13.0.min.css\");\n    }\n  ];\n\n  function run_inline_js() {\n    \n    if ((root.Bokeh !== undefined) || (force === true)) {\n      for (var i = 0; i < inline_js.length; i++) {\n        inline_js[i].call(root, root.Bokeh);\n      }if (force === true) {\n        display_loaded();\n      }} else if (Date.now() < root._bokeh_timeout) {\n      setTimeout(run_inline_js, 100);\n    } else if (!root._bokeh_failed_load) {\n      console.log(\"Bokeh: BokehJS failed to load within specified timeout.\");\n      root._bokeh_failed_load = true;\n    } else if (force !== true) {\n      var cell = $(document.getElementById(\"b43463f4-d623-4f12-a305-4ee6eec48695\")).parents('.cell').data().cell;\n      cell.output_area.append_execute_result(NB_LOAD_WARNING)\n    }\n\n  }\n\n  if (root._bokeh_is_loading === 0) {\n    console.log(\"Bokeh: BokehJS loaded, going straight to plotting\");\n    run_inline_js();\n  } else {\n    load_libs(js_urls, function() {\n      console.log(\"Bokeh: BokehJS plotting callback run at\", now());\n      run_inline_js();\n    });\n  }\n}(window));"
     },
     "metadata": {},
     "output_type": "display_data"
    }
   ],
   "source": [
    "from bokeh.plotting import figure, show, output_notebook\n",
    "from bokeh.models import HoverTool, ColumnDataSource, value\n",
    "from bokeh.io.export import file_html\n",
    "\n",
    "output_notebook()"
   ]
  },
  {
   "cell_type": "code",
   "execution_count": 58,
   "metadata": {},
   "outputs": [
    {
     "data": {
      "text/html": [
       "\n",
       "\n",
       "\n",
       "\n",
       "\n",
       "\n",
       "  <div class=\"bk-root\" id=\"e293793c-f70b-4026-b047-058d6f5c1868\"></div>\n"
      ]
     },
     "metadata": {},
     "output_type": "display_data"
    },
    {
     "data": {
      "application/javascript": [
       "(function(root) {\n",
       "  function embed_document(root) {\n",
       "    \n",
       "  var docs_json = {\"ed2046f4-f5dc-4c5f-8f4a-348519a1da98\":{\"roots\":{\"references\":[{\"attributes\":{},\"id\":\"ee97217b-4a87-424f-8ee4-50fbc7adf196\",\"type\":\"LinearScale\"},{\"attributes\":{\"bottom_units\":\"screen\",\"fill_alpha\":{\"value\":0.5},\"fill_color\":{\"value\":\"lightgrey\"},\"left_units\":\"screen\",\"level\":\"overlay\",\"line_alpha\":{\"value\":1.0},\"line_color\":{\"value\":\"black\"},\"line_dash\":[4,4],\"line_width\":{\"value\":2},\"plot\":null,\"render_mode\":\"css\",\"right_units\":\"screen\",\"top_units\":\"screen\"},\"id\":\"ffc4b576-896a-4a32-af11-445c85913993\",\"type\":\"BoxAnnotation\"},{\"attributes\":{},\"id\":\"52f967d9-fb80-46d5-b8b3-5f432f8459a0\",\"type\":\"BasicTickFormatter\"},{\"attributes\":{\"formatter\":{\"id\":\"52f967d9-fb80-46d5-b8b3-5f432f8459a0\",\"type\":\"BasicTickFormatter\"},\"plot\":{\"id\":\"f561d03d-8e1e-471b-b856-b1154ce271fe\",\"subtype\":\"Figure\",\"type\":\"Plot\"},\"ticker\":{\"id\":\"68e44057-a5a6-45ae-9aaa-02256b307626\",\"type\":\"BasicTicker\"},\"visible\":false},\"id\":\"7ba53c79-a543-49fa-8369-f923cc625ba1\",\"type\":\"LinearAxis\"},{\"attributes\":{},\"id\":\"eaa102f1-5842-4752-8b88-766779934ad6\",\"type\":\"BasicTickFormatter\"},{\"attributes\":{},\"id\":\"68e44057-a5a6-45ae-9aaa-02256b307626\",\"type\":\"BasicTicker\"},{\"attributes\":{},\"id\":\"293c3589-e9f6-46c0-aafd-3806195b69b1\",\"type\":\"UnionRenderers\"},{\"attributes\":{\"callback\":null},\"id\":\"a667c435-5a44-4c09-a06e-3c78dccbac45\",\"type\":\"DataRange1d\"},{\"attributes\":{\"grid_line_color\":{\"value\":null},\"plot\":{\"id\":\"f561d03d-8e1e-471b-b856-b1154ce271fe\",\"subtype\":\"Figure\",\"type\":\"Plot\"},\"ticker\":{\"id\":\"68e44057-a5a6-45ae-9aaa-02256b307626\",\"type\":\"BasicTicker\"}},\"id\":\"b0321b25-0d5a-4379-8aaf-323b0935e584\",\"type\":\"Grid\"},{\"attributes\":{\"formatter\":{\"id\":\"eaa102f1-5842-4752-8b88-766779934ad6\",\"type\":\"BasicTickFormatter\"},\"plot\":{\"id\":\"f561d03d-8e1e-471b-b856-b1154ce271fe\",\"subtype\":\"Figure\",\"type\":\"Plot\"},\"ticker\":{\"id\":\"3e05bd23-a220-42d8-ae7a-47a5c5cf6080\",\"type\":\"BasicTicker\"},\"visible\":false},\"id\":\"f3a90c40-8d97-49a0-b4bb-df917a74e11e\",\"type\":\"LinearAxis\"},{\"attributes\":{\"active_drag\":\"auto\",\"active_inspect\":\"auto\",\"active_multi\":null,\"active_scroll\":{\"id\":\"c31ff733-42b9-47b1-a4c5-69e082736360\",\"type\":\"WheelZoomTool\"},\"active_tap\":\"auto\",\"tools\":[{\"id\":\"c8028a05-0725-4947-b94d-0a75c723b2c3\",\"type\":\"PanTool\"},{\"id\":\"c31ff733-42b9-47b1-a4c5-69e082736360\",\"type\":\"WheelZoomTool\"},{\"id\":\"1339995c-8649-48cd-9a57-24dd073dba42\",\"type\":\"BoxZoomTool\"},{\"id\":\"7bf50e88-8be2-4a4a-ae36-299b65fef9bb\",\"type\":\"BoxSelectTool\"},{\"id\":\"dfadfd5b-b218-4c9c-9270-43fd48496949\",\"type\":\"ResetTool\"},{\"id\":\"ead13164-838c-4003-8456-ba348960016c\",\"type\":\"HoverTool\"}]},\"id\":\"c245edc8-c842-42e9-aebf-cbbb0736b01e\",\"type\":\"Toolbar\"},{\"attributes\":{},\"id\":\"53102481-e572-4be4-ae07-080bc600af95\",\"type\":\"Selection\"},{\"attributes\":{},\"id\":\"3e05bd23-a220-42d8-ae7a-47a5c5cf6080\",\"type\":\"BasicTicker\"},{\"attributes\":{\"dimension\":1,\"grid_line_color\":{\"value\":null},\"plot\":{\"id\":\"f561d03d-8e1e-471b-b856-b1154ce271fe\",\"subtype\":\"Figure\",\"type\":\"Plot\"},\"ticker\":{\"id\":\"3e05bd23-a220-42d8-ae7a-47a5c5cf6080\",\"type\":\"BasicTicker\"}},\"id\":\"76c8e481-b283-4db1-a37c-3fd1c5ecfdd5\",\"type\":\"Grid\"},{\"attributes\":{\"below\":[{\"id\":\"7ba53c79-a543-49fa-8369-f923cc625ba1\",\"type\":\"LinearAxis\"}],\"left\":[{\"id\":\"f3a90c40-8d97-49a0-b4bb-df917a74e11e\",\"type\":\"LinearAxis\"}],\"outline_line_color\":{\"value\":null},\"plot_height\":800,\"plot_width\":800,\"renderers\":[{\"id\":\"7ba53c79-a543-49fa-8369-f923cc625ba1\",\"type\":\"LinearAxis\"},{\"id\":\"b0321b25-0d5a-4379-8aaf-323b0935e584\",\"type\":\"Grid\"},{\"id\":\"f3a90c40-8d97-49a0-b4bb-df917a74e11e\",\"type\":\"LinearAxis\"},{\"id\":\"76c8e481-b283-4db1-a37c-3fd1c5ecfdd5\",\"type\":\"Grid\"},{\"id\":\"ffc4b576-896a-4a32-af11-445c85913993\",\"type\":\"BoxAnnotation\"},{\"id\":\"3b416300-1c33-4b5b-8c90-5c9039e8ed60\",\"type\":\"BoxAnnotation\"},{\"id\":\"7db4c41a-830a-4518-9328-9dff42b49df6\",\"type\":\"GlyphRenderer\"}],\"title\":{\"id\":\"04a195e5-c933-4640-a5fe-55fc080b5634\",\"type\":\"Title\"},\"toolbar\":{\"id\":\"c245edc8-c842-42e9-aebf-cbbb0736b01e\",\"type\":\"Toolbar\"},\"x_range\":{\"id\":\"a667c435-5a44-4c09-a06e-3c78dccbac45\",\"type\":\"DataRange1d\"},\"x_scale\":{\"id\":\"b4c0e9c0-06b5-4242-82d4-54d3f7361766\",\"type\":\"LinearScale\"},\"y_range\":{\"id\":\"fa03919a-c6f0-40bf-a331-73ae0486df3a\",\"type\":\"DataRange1d\"},\"y_scale\":{\"id\":\"ee97217b-4a87-424f-8ee4-50fbc7adf196\",\"type\":\"LinearScale\"}},\"id\":\"f561d03d-8e1e-471b-b856-b1154ce271fe\",\"subtype\":\"Figure\",\"type\":\"Plot\"},{\"attributes\":{\"source\":{\"id\":\"ae005570-2fe5-4508-98b7-4a9b4a785301\",\"type\":\"ColumnDataSource\"}},\"id\":\"100d2005-4119-4f7c-801b-02491ae21968\",\"type\":\"CDSView\"},{\"attributes\":{\"callback\":null,\"data\":{\"index\":[0,1,2,3,4,5,6,7,8,9,10,11,12,13,14,15,16,17,18,19,20,21,22,23,24,25,26,27,28,29,30,31,32,33,34,35,36,37,38,39,40,41,42,43,44,45,46,47,48,49,50,51,52,53,54,55,56,57,58,59,60,61,62,63,64,65,66,67,68,69,70,71,72,73,74,75,76,77,78,79,80,81,82,83,84,85,86,87,88,89,90,91,92,93,94,95,96,97,98,99,100,101,102,103,104,105,106,107,108,109,110,111,112,113,114,115,116,117,118,119,120,121,122,123,124,125,126,127,128,129,130,131,132,133,134,135,136,137,138,139,140,141,142,143,144,145,146,147,148,149,150,151,152,153,154,155,156,157,158,159,160,161,162,163,164,165,166,167,168,169,170,171,172,173,174,175,176,177,178,179,180,181,182,183,184,185,186,187,188,189,190,191,192,193,194,195,196,197,198,199,200,201,202,203,204,205,206,207,208,209,210,211,212,213,214,215,216,217,218,219,220,221,222,223,224,225,226,227,228,229,230,231,232,233,234,235,236,237,238,239,240,241,242,243,244,245,246,247,248,249,250,251,252,253,254,255,256,257,258,259,260,261,262,263,264,265,266,267,268,269,270,271,272,273,274,275,276,277,278,279,280,281,282,283,284,285,286,287,288,289,290,291,292,293,294,295,296,297,298,299,300,301,302,303,304,305,306,307,308,309,310,311,312,313,314,315,316,317,318,319,320,321,322,323,324,325,326,327,328,329,330,331,332,333,334,335,336,337,338,339,340,341,342,343,344,345,346,347,348,349,350,351,352,353,354,355,356,357,358,359,360,361,362,363,364,365,366,367,368,369,370,371,372,373,374,375,376,377,378,379,380,381,382,383,384,385,386,387,388,389,390,391,392,393,394,395,396,397,398,399,400,401,402,403,404,405,406,407,408,409,410,411,412,413,414,415,416,417,418,419,420,421,422,423,424,425,426,427,428,429,430,431,432,433,434,435,436,437,438,439,440,441,442,443,444,445,446,447,448,449,450,451,452,453,454,455,456,457,458,459,460,461,462,463,464,465,466,467,468,469,470,471,472,473,474,475,476,477,478,479,480,481,482,483,484,485,486,487,488,489,490,491,492,493,494,495,496,497,498,499,500,501,502,503,504,505,506,507,508,509,510,511,512,513,514,515,516,517,518,519,520,521,522,523,524,525,526,527,528,529,530,531,532,533,534,535,536,537,538,539,540,541,542,543,544,545,546,547,548,549,550,551,552,553,554,555,556,557,558,559,560,561,562,563,564,565,566,567,568,569,570,571,572,573,574,575,576,577,578,579,580,581,582,583,584,585,586,587,588,589,590,591,592,593,594,595,596,597,598,599,600,601,602,603,604,605,606,607,608,609,610,611,612,613,614,615,616,617,618,619,620,621,622,623,624,625,626,627,628,629,630,631,632,633,634,635,636,637,638,639,640,641,642,643,644,645,646,647,648,649,650,651,652,653,654,655,656,657,658,659,660,661,662,663,664,665,666,667,668,669,670,671,672,673,674,675,676,677,678,679,680,681,682,683,684,685,686,687,688,689,690,691,692,693,694,695,696,697,698,699,700,701,702,703,704,705,706,707,708,709,710,711,712,713,714,715,716,717,718,719,720,721,722,723,724,725,726,727,728,729,730,731,732,733,734,735,736,737,738,739,740,741,742,743,744,745,746,747,748,749,750,751,752,753,754,755,756,757,758,759,760,761,762,763,764,765,766,767,768,769,770,771,772,773,774,775,776,777,778,779,780,781,782,783,784,785,786,787,788,789,790,791,792,793,794,795,796,797,798,799,800,801,802,803,804,805,806,807,808,809,810,811,812,813,814,815,816,817,818,819,820,821,822,823,824,825,826,827,828,829,830,831,832,833,834,835,836,837,838,839,840,841,842,843,844,845,846,847,848,849,850,851,852,853,854,855,856,857,858,859,860,861,862,863,864,865,866,867,868,869,870,871,872,873,874,875,876,877,878,879,880,881,882,883,884,885,886,887,888,889,890,891,892,893,894,895,896,897,898,899,900,901,902,903,904,905,906,907,908,909,910,911,912,913,914,915,916,917,918,919,920,921,922,923,924,925,926,927,928,929,930,931,932,933,934,935,936,937,938,939,940,941,942,943,944,945,946,947,948,949,950,951,952,953,954,955,956,957,958,959,960,961,962,963,964,965,966,967,968,969,970,971,972,973,974,975,976,977,978,979,980,981,982,983,984,985,986,987,988,989,990,991,992,993,994,995,996,997,998,999,1000,1001,1002,1003,1004,1005,1006,1007,1008,1009,1010,1011,1012,1013,1014,1015,1016,1017,1018,1019,1020,1021,1022,1023,1024,1025,1026,1027,1028,1029,1030,1031,1032,1033,1034,1035,1036,1037,1038,1039,1040,1041,1042,1043,1044,1045,1046,1047,1048,1049,1050,1051,1052,1053,1054,1055,1056,1057,1058,1059,1060,1061,1062,1063,1064,1065,1066,1067,1068,1069,1070,1071,1072,1073,1074,1075,1076,1077,1078,1079,1080,1081,1082,1083,1084,1085,1086,1087,1088,1089,1090,1091,1092,1093,1094,1095,1096,1097,1098,1099,1100,1101,1102,1103,1104,1105,1106,1107,1108,1109,1110,1111,1112,1113,1114,1115,1116,1117,1118,1119,1120,1121,1122,1123,1124,1125,1126,1127,1128,1129,1130,1131,1132,1133,1134,1135,1136,1137,1138,1139,1140,1141,1142,1143,1144,1145,1146,1147,1148,1149,1150,1151,1152,1153,1154,1155,1156,1157,1158,1159,1160,1161,1162,1163,1164,1165,1166,1167,1168,1169,1170,1171,1172,1173,1174,1175,1176,1177,1178,1179,1180,1181,1182,1183,1184,1185,1186,1187,1188,1189,1190,1191,1192,1193,1194,1195,1196,1197,1198,1199,1200,1201,1202,1203,1204,1205,1206,1207,1208,1209,1210,1211,1212,1213,1214,1215,1216,1217,1218,1219,1220,1221,1222,1223,1224,1225,1226,1227,1228,1229,1230,1231,1232,1233,1234,1235,1236,1237,1238,1239,1240,1241,1242,1243,1244,1245,1246,1247,1248,1249,1250,1251,1252,1253,1254,1255,1256,1257,1258,1259,1260,1261,1262,1263,1264,1265,1266,1267,1268,1269,1270,1271,1272,1273,1274,1275,1276,1277,1278,1279,1280,1281,1282,1283,1284,1285,1286,1287,1288,1289,1290,1291,1292,1293,1294,1295,1296,1297,1298,1299,1300,1301,1302,1303,1304,1305,1306,1307,1308,1309,1310,1311,1312,1313,1314,1315,1316,1317,1318,1319,1320,1321,1322,1323,1324,1325,1326,1327,1328,1329,1330,1331,1332,1333,1334,1335,1336,1337,1338,1339,1340,1341,1342,1343,1344,1345,1346,1347,1348,1349,1350,1351,1352,1353,1354,1355,1356,1357,1358,1359,1360,1361,1362,1363,1364,1365,1366,1367,1368,1369,1370,1371,1372,1373,1374,1375,1376,1377,1378,1379,1380,1381,1382,1383,1384,1385,1386,1387,1388,1389,1390,1391,1392,1393,1394,1395,1396,1397,1398,1399,1400,1401,1402,1403,1404,1405,1406,1407,1408,1409,1410,1411,1412,1413,1414,1415,1416,1417,1418,1419,1420,1421,1422,1423,1424,1425,1426,1427,1428,1429,1430,1431,1432,1433,1434,1435,1436,1437,1438,1439,1440,1441,1442,1443,1444,1445,1446,1447,1448,1449,1450,1451,1452,1453,1454,1455,1456,1457,1458,1459,1460,1461,1462,1463,1464,1465,1466,1467,1468,1469,1470,1471,1472,1473,1474,1475,1476,1477,1478,1479,1480,1481,1482,1483,1484,1485,1486,1487,1488,1489,1490,1491,1492,1493,1494,1495,1496,1497,1498,1499,1500,1501,1502,1503,1504,1505,1506,1507,1508,1509,1510,1511,1512,1513,1514,1515,1516,1517,1518,1519,1520,1521,1522,1523,1524,1525,1526,1527,1528,1529,1530,1531,1532,1533,1534,1535,1536,1537,1538,1539,1540,1541,1542,1543,1544,1545,1546,1547,1548,1549,1550,1551,1552,1553,1554,1555,1556,1557,1558,1559,1560,1561,1562,1563,1564,1565,1566,1567,1568,1569,1570,1571,1572,1573,1574,1575,1576,1577,1578,1579,1580,1581,1582,1583,1584,1585,1586,1587,1588,1589,1590,1591,1592,1593,1594,1595,1596,1597,1598,1599,1600,1601,1602,1603,1604,1605,1606,1607,1608,1609,1610,1611,1612,1613,1614,1615,1616,1617,1618,1619,1620,1621,1622,1623,1624,1625,1626,1627,1628,1629,1630,1631,1632,1633,1634,1635,1636,1637,1638,1639,1640,1641,1642,1643,1644,1645,1646,1647,1648,1649,1650,1651,1652,1653,1654,1655,1656,1657,1658,1659,1660,1661,1662,1663,1664,1665,1666,1667,1668,1669,1670,1671,1672,1673,1674,1675,1676,1677,1678,1679,1680,1681,1682,1683,1684,1685,1686,1687,1688,1689,1690,1691,1692,1693,1694,1695,1696,1697,1698,1699,1700,1701,1702,1703,1704,1705,1706,1707,1708,1709,1710,1711,1712,1713,1714,1715,1716,1717,1718,1719,1720,1721,1722,1723,1724,1725,1726,1727,1728,1729,1730,1731,1732,1733,1734,1735,1736,1737,1738,1739,1740,1741,1742,1743,1744,1745,1746,1747,1748,1749,1750,1751,1752,1753,1754,1755,1756,1757,1758,1759,1760,1761,1762,1763,1764,1765,1766,1767,1768,1769,1770,1771,1772,1773,1774,1775,1776,1777,1778,1779,1780,1781,1782,1783,1784,1785,1786,1787,1788,1789,1790,1791,1792,1793,1794,1795,1796,1797,1798,1799,1800,1801,1802,1803,1804,1805,1806,1807,1808,1809,1810,1811,1812,1813,1814,1815,1816,1817,1818,1819,1820,1821,1822,1823,1824,1825,1826,1827,1828,1829,1830,1831,1832,1833,1834,1835,1836,1837,1838,1839,1840,1841,1842,1843,1844,1845,1846,1847,1848,1849,1850,1851,1852,1853,1854,1855,1856,1857,1858,1859,1860,1861,1862,1863,1864,1865,1866,1867,1868,1869,1870,1871,1872,1873,1874,1875,1876,1877,1878,1879,1880,1881,1882,1883,1884,1885,1886,1887,1888,1889,1890,1891,1892,1893,1894,1895,1896,1897,1898,1899,1900,1901,1902,1903,1904,1905,1906,1907,1908,1909,1910,1911,1912,1913,1914,1915,1916,1917,1918,1919,1920,1921,1922,1923,1924,1925,1926,1927,1928,1929,1930,1931,1932,1933,1934,1935,1936,1937,1938,1939,1940,1941,1942,1943,1944,1945,1946,1947,1948,1949,1950,1951,1952,1953,1954,1955,1956,1957,1958,1959,1960,1961,1962,1963,1964,1965,1966,1967,1968,1969,1970,1971,1972,1973,1974,1975,1976,1977,1978,1979,1980,1981,1982,1983,1984,1985,1986,1987,1988,1989,1990,1991,1992,1993,1994,1995,1996,1997,1998,1999,2000,2001,2002,2003,2004,2005,2006,2007,2008,2009,2010,2011,2012,2013,2014,2015,2016,2017,2018,2019,2020,2021,2022,2023,2024,2025,2026,2027,2028,2029,2030,2031,2032,2033,2034,2035,2036,2037,2038,2039,2040,2041,2042,2043,2044,2045,2046,2047,2048,2049,2050,2051,2052,2053,2054,2055,2056,2057,2058,2059,2060,2061,2062,2063,2064,2065,2066,2067,2068,2069,2070,2071,2072,2073,2074,2075,2076,2077,2078,2079,2080,2081,2082,2083,2084,2085,2086,2087,2088,2089,2090,2091,2092,2093,2094,2095,2096,2097,2098,2099,2100,2101,2102,2103,2104,2105,2106,2107,2108,2109,2110,2111,2112,2113,2114,2115,2116,2117,2118,2119,2120,2121,2122,2123,2124,2125,2126,2127,2128,2129,2130,2131,2132,2133,2134,2135,2136,2137,2138,2139,2140,2141,2142,2143,2144,2145,2146,2147,2148,2149,2150,2151,2152,2153,2154,2155,2156,2157,2158,2159,2160,2161,2162,2163,2164,2165,2166,2167,2168,2169,2170,2171,2172,2173,2174,2175,2176,2177,2178,2179,2180,2181,2182,2183,2184,2185,2186,2187,2188,2189,2190,2191,2192,2193,2194,2195,2196,2197,2198,2199,2200,2201,2202,2203,2204,2205,2206,2207,2208,2209,2210,2211,2212,2213,2214,2215,2216,2217,2218,2219,2220,2221,2222,2223,2224,2225,2226,2227,2228,2229,2230,2231,2232,2233,2234,2235,2236,2237,2238,2239,2240,2241,2242,2243,2244,2245,2246,2247,2248,2249,2250,2251,2252,2253,2254,2255,2256,2257,2258,2259,2260,2261,2262,2263,2264,2265,2266,2267,2268,2269,2270,2271,2272,2273,2274,2275,2276,2277,2278,2279,2280,2281,2282,2283,2284,2285,2286,2287,2288,2289,2290,2291,2292,2293,2294,2295,2296,2297,2298,2299,2300,2301,2302,2303,2304,2305,2306,2307,2308,2309,2310,2311,2312,2313,2314,2315,2316,2317,2318,2319,2320,2321,2322,2323,2324,2325,2326,2327,2328,2329,2330,2331,2332,2333,2334,2335,2336,2337,2338,2339,2340,2341,2342,2343,2344,2345,2346,2347,2348,2349,2350,2351,2352,2353,2354,2355,2356,2357,2358,2359,2360,2361,2362,2363,2364,2365,2366,2367,2368,2369,2370,2371,2372,2373,2374,2375,2376,2377,2378,2379,2380,2381,2382,2383,2384,2385,2386,2387,2388,2389,2390,2391,2392,2393,2394,2395,2396,2397,2398,2399,2400,2401,2402,2403,2404,2405,2406,2407,2408,2409,2410,2411,2412,2413,2414,2415,2416,2417,2418,2419,2420,2421,2422,2423,2424,2425,2426,2427,2428,2429,2430,2431,2432,2433,2434,2435,2436,2437,2438,2439,2440,2441,2442,2443,2444,2445,2446,2447,2448,2449,2450,2451,2452,2453,2454,2455,2456,2457,2458,2459,2460,2461,2462,2463,2464,2465,2466,2467,2468,2469,2470,2471,2472,2473,2474,2475,2476,2477,2478,2479,2480,2481,2482,2483,2484,2485,2486,2487,2488,2489,2490,2491,2492,2493,2494,2495,2496,2497,2498,2499,2500,2501,2502,2503,2504,2505,2506,2507,2508,2509,2510,2511,2512,2513,2514,2515,2516,2517,2518,2519,2520,2521,2522,2523,2524,2525,2526,2527,2528,2529,2530,2531,2532,2533,2534,2535,2536,2537,2538,2539,2540,2541,2542,2543,2544,2545,2546,2547,2548,2549,2550,2551,2552,2553,2554,2555,2556,2557,2558,2559,2560,2561,2562,2563,2564,2565,2566,2567,2568,2569,2570,2571,2572,2573,2574,2575,2576,2577,2578,2579,2580,2581,2582,2583,2584,2585,2586,2587,2588,2589,2590,2591,2592,2593,2594,2595,2596,2597,2598,2599,2600,2601,2602,2603,2604,2605,2606,2607,2608,2609,2610,2611,2612,2613,2614,2615,2616,2617,2618,2619,2620,2621,2622,2623,2624,2625,2626,2627,2628,2629,2630,2631,2632,2633,2634,2635,2636,2637,2638,2639,2640,2641,2642,2643,2644,2645,2646,2647,2648,2649,2650,2651,2652,2653,2654,2655,2656,2657,2658,2659,2660,2661,2662,2663,2664,2665,2666,2667,2668,2669,2670,2671,2672,2673,2674,2675,2676,2677,2678,2679,2680,2681,2682,2683,2684,2685,2686,2687,2688,2689,2690,2691,2692,2693,2694,2695,2696,2697,2698,2699,2700,2701,2702,2703,2704,2705,2706,2707,2708,2709,2710,2711,2712,2713,2714,2715,2716,2717,2718,2719,2720,2721,2722,2723,2724,2725,2726,2727,2728,2729,2730,2731,2732,2733,2734,2735,2736,2737,2738,2739,2740,2741,2742,2743,2744,2745,2746,2747,2748,2749,2750,2751,2752,2753,2754,2755,2756,2757,2758,2759,2760,2761,2762,2763,2764,2765,2766,2767,2768,2769,2770,2771,2772,2773,2774,2775,2776,2777,2778,2779,2780,2781,2782,2783,2784,2785,2786,2787,2788,2789,2790,2791,2792,2793,2794,2795,2796,2797,2798,2799,2800,2801,2802,2803,2804,2805,2806,2807,2808,2809,2810,2811,2812,2813,2814,2815,2816,2817,2818,2819,2820,2821,2822,2823,2824,2825,2826,2827,2828,2829,2830,2831,2832,2833,2834,2835,2836,2837,2838,2839,2840,2841,2842,2843,2844,2845,2846,2847,2848,2849,2850,2851,2852,2853,2854,2855,2856,2857,2858,2859,2860,2861,2862,2863,2864,2865,2866,2867,2868,2869,2870,2871,2872,2873,2874,2875,2876,2877,2878,2879,2880,2881,2882,2883,2884,2885,2886,2887,2888,2889,2890,2891,2892,2893,2894,2895,2896,2897,2898,2899,2900,2901,2902,2903,2904,2905,2906,2907,2908,2909,2910,2911,2912,2913,2914,2915,2916,2917,2918,2919,2920,2921,2922,2923,2924,2925,2926,2927,2928,2929,2930,2931,2932,2933,2934,2935,2936,2937,2938,2939,2940,2941,2942,2943,2944,2945,2946,2947,2948,2949,2950,2951,2952,2953,2954,2955,2956,2957,2958,2959,2960,2961,2962,2963,2964,2965,2966,2967,2968,2969,2970,2971,2972,2973,2974,2975,2976,2977,2978,2979,2980,2981,2982,2983,2984,2985,2986,2987,2988,2989,2990,2991,2992,2993,2994,2995,2996,2997,2998,2999,3000,3001,3002,3003,3004,3005,3006,3007,3008,3009,3010,3011,3012,3013,3014,3015,3016,3017,3018,3019,3020,3021,3022,3023,3024,3025,3026,3027,3028,3029,3030,3031,3032,3033,3034,3035,3036,3037,3038,3039,3040,3041,3042,3043,3044,3045,3046,3047,3048,3049,3050,3051,3052,3053,3054,3055,3056,3057,3058,3059,3060,3061,3062,3063,3064,3065,3066,3067,3068,3069,3070,3071,3072,3073,3074,3075,3076,3077,3078,3079,3080,3081,3082,3083,3084,3085,3086,3087,3088,3089,3090,3091,3092,3093,3094,3095,3096,3097,3098,3099,3100,3101,3102,3103,3104,3105,3106,3107,3108,3109,3110,3111,3112,3113,3114,3115,3116,3117,3118,3119,3120,3121,3122,3123,3124,3125,3126,3127,3128,3129,3130,3131,3132,3133,3134,3135,3136,3137,3138,3139,3140,3141,3142,3143,3144,3145,3146,3147,3148,3149,3150,3151,3152,3153,3154,3155,3156,3157,3158,3159,3160,3161,3162,3163,3164,3165,3166,3167,3168,3169,3170,3171,3172,3173,3174,3175,3176,3177,3178,3179,3180,3181,3182,3183,3184,3185,3186,3187,3188,3189,3190,3191,3192,3193,3194,3195,3196,3197,3198,3199,3200,3201,3202,3203,3204,3205,3206,3207,3208,3209,3210,3211,3212,3213,3214,3215,3216,3217,3218,3219,3220,3221,3222,3223,3224,3225,3226,3227,3228,3229,3230,3231,3232,3233,3234,3235,3236,3237,3238,3239,3240,3241,3242,3243,3244,3245,3246,3247,3248,3249,3250,3251,3252,3253,3254,3255,3256,3257,3258,3259,3260,3261,3262,3263,3264,3265,3266,3267,3268,3269,3270,3271,3272,3273,3274,3275,3276,3277,3278,3279,3280,3281,3282,3283,3284,3285,3286,3287,3288,3289,3290,3291,3292,3293,3294,3295,3296,3297,3298,3299,3300,3301,3302,3303,3304,3305,3306,3307,3308,3309,3310,3311,3312,3313,3314,3315,3316,3317,3318,3319,3320,3321,3322,3323,3324,3325,3326,3327,3328,3329,3330,3331,3332,3333,3334,3335,3336,3337,3338,3339,3340,3341,3342,3343,3344,3345,3346,3347,3348,3349,3350,3351,3352,3353,3354,3355,3356,3357,3358,3359,3360,3361,3362,3363,3364,3365,3366,3367,3368,3369,3370,3371,3372,3373,3374,3375,3376,3377,3378,3379,3380,3381,3382,3383,3384,3385,3386,3387,3388,3389,3390,3391,3392,3393,3394,3395,3396,3397,3398,3399,3400,3401,3402,3403,3404,3405,3406,3407,3408,3409,3410,3411,3412,3413,3414,3415,3416,3417,3418,3419,3420,3421,3422,3423,3424,3425,3426,3427,3428,3429,3430,3431,3432,3433,3434,3435,3436,3437,3438,3439,3440,3441,3442,3443,3444,3445,3446,3447,3448,3449,3450,3451,3452,3453,3454,3455,3456,3457,3458,3459,3460,3461,3462,3463,3464,3465,3466,3467,3468,3469,3470,3471,3472,3473,3474,3475,3476,3477,3478,3479,3480,3481,3482,3483,3484,3485,3486,3487,3488,3489,3490,3491,3492,3493,3494,3495,3496,3497,3498,3499,3500,3501,3502,3503,3504,3505,3506,3507,3508,3509,3510,3511,3512,3513,3514,3515,3516,3517,3518,3519,3520,3521,3522,3523,3524,3525,3526,3527,3528,3529,3530,3531,3532,3533,3534,3535,3536,3537,3538,3539,3540,3541,3542,3543,3544,3545,3546,3547,3548,3549,3550,3551,3552,3553,3554,3555,3556,3557,3558,3559],\"word\":[\"te\",\"i\",\"o\",\"ng\\u0101\",\"ki\",\"a\",\"ka\",\"ko\",\"e\",\"he\",\"tau\",\"me\",\"ana\",\"ia\",\"m\\u0101ori\",\"atu\",\"mai\",\"m\\u014d\",\"n\\u014d\",\"ai\",\"hei\",\"\\u0101\",\"an\\u014d\",\"mahi\",\"n\\u0101\",\"hoki\",\"nei\",\"t\\u014dna\",\"kia\",\"tana\",\"whenua\",\"iwi\",\"t\\u0113tahi\",\"tonu\",\"r\\u0101tou\",\"kei\",\"t\\u0113nei\",\"r\\u0101ua\",\"noho\",\"r\\u0101\",\"ake\",\"w\\u0101\",\"k\\u014drero\",\"\\u0113tahi\",\"nui\",\"haere\",\"mea\",\"kua\",\"roto\",\"m\\u0101\",\"k\\u0113\",\"runga\",\"tangata\",\"taua\",\"p\\u0101keh\\u0101\",\"rawa\",\"muri\",\"\\u014dna\",\"aotearoa\",\"t\\u016b\",\"whai\",\"tae\",\"k\\u0101ore\",\"ar\\u0101\",\"p\\u0101\",\"whare\",\"rangatira\",\"mate\",\"t\\u0113r\\u0101\",\"tekau\",\"wh\\u0101nau\",\"t\\u0101\",\"w\\u0101hi\",\"k\\u0101wanatanga\",\"\\u0113nei\",\"mana\",\"r\\u0101nei\",\"tuatahi\",\"tikanga\",\"reira\",\"tino\",\"waka\",\"k\\u0101inga\",\"kaupapa\",\"take\",\"rua\",\"pakanga\",\"katoa\",\"mau\",\"kore\",\"riro\",\"mua\",\"puta\",\"ahakoa\",\"ao\",\"kaha\",\"k\\u0101tahi\",\"tamariki\",\"tohu\",\"\\u0101na\",\"wahine\",\"r\\u014dp\\u016b\",\"reo\",\"kai\",\"rohe\",\"hunga\",\"taha\",\"kura\",\"hui\",\"noa\",\"whakahaere\",\"t\\u0101ngata\",\"\\u0113ngari\",\"whakaaro\",\"ture\",\"heoi\",\"n\\u0101na\",\"\\u0101hua\",\"raro\",\"p\\u0113r\\u0101\",\"r\\u0101tau\",\"maha\",\"ng\\u0101ti\",\"kitea\",\"toa\",\"pai\",\"marae\",\"\\u012bngoa\",\"matua\",\"r\\u0101kau\",\"t\\u0113n\\u0101\",\"t\\u016branga\",\"awa\",\"hoko\",\"rau\",\"takiw\\u0101\",\"waikato\",\"marama\",\"tama\",\"waenganui\",\"tiriti\",\"\\u014d_r\\u0101tou\",\"k\\u012b\",\"roa\",\"t\\u012bmata\",\"t\\u0113tehi\",\"ingoa\",\"tata\",\"momo\",\"whakairo\",\"heke\",\"hap\\u016b\",\"wai\",\"taonga\",\"kotahi\",\"hua\",\"t\\u0101na\",\"whakat\\u016bria\",\"tauira\",\"\\u0113r\\u0101\",\"pea\",\"ora\",\"t\\u0101ne\",\"mutu\",\"waiata\",\"w\\u0101hine\",\"nuinga\",\"hanga\",\"whakat\\u016b\",\"moana\",\"utu\",\"rongo\",\"waitangi\",\"tono\",\"aua\",\"motu\",\"tohunga\",\"uru\",\"h\\u014dia\",\"t\\u0101one\",\"whakaatu\",\"tuku\",\"taea\",\"taranaki\",\"kupu\",\"\\u0101whina\",\"w\\u0101hanga\",\"tonga\",\"ng\\u0101i_tahu\",\"riri\",\"whawhai\",\"manu\",\"moni\",\"whakaae\",\"mema\",\"hou\",\"t\\u014d_r\\u0101tou\",\"rangi\",\"toi\",\"p\\u016b\",\"uri\",\"t\\u014d\",\"tahi\",\"hiahia\",\"moe\",\"k\\u012bia\",\"m\\u0101tauranga\",\"rere\",\"tautoko\",\"konei\",\"m\\u014dhio\",\"whakapapa\",\"karauna\",\"rite\",\"taenga\",\"tika\",\"tam\\u0101hine\",\"minita\",\"tipu\",\"moutere\",\"arawa\",\"t\\u014dmua\",\"kite\",\"hau\",\"tari\",\"anake\",\"ahu\",\"h\\u0101hi\",\"pakeke\",\"r\\u0101tana\",\"tapu\",\"aha\",\"k\\u012bhai\",\"pukapuka\",\"hai\",\"tukuna\",\"ng\\u0101ti_porou\",\"rahi\",\"ako\",\"whakatau\",\"atua\",\"k\\u012bngitanga\",\"toru\",\"tokorua\",\"huri\",\"\\u0101huatanga\",\"m\\u014dna\",\"haerenga\",\"\\u0113tehi\",\"matenga\",\"engari\",\"taka\",\"whanganui\",\"k\\u012bngi\",\"whakapono\",\"t\\u0101karo\",\"hinga\",\"koia\",\"wh\\u0101nui\",\"maunga\",\"kooti\",\"n\\u0101wai\",\"tai_r\\u0101whiti\",\"koinei\",\"t\\u012bmatanga\",\"tukua\",\"m\\u014dhiotia\",\"ika\",\"rotorua\",\"mahue\",\"mutunga\",\"komiti\",\"hangaia\",\"t\\u016bturu\",\"kaunihera\",\"whanganuiatara\",\"tiaki\",\"whakamahia\",\"kaum\\u0101tua\",\"p\\u0101remata\",\"karakia\",\"rongonui\",\"tai_tokerau\",\"m\\u0101na\",\"hokona\",\"p\\u0101mu\",\"ope\",\"\\u0101karana\",\"whakamutunga\",\"wairarapa\",\"moananuiakiwa\",\"whare_w\\u0101nanga\",\"tuarua\",\"iho\",\"ngaro\",\"p\\u0113nei\",\"puhi\",\"tahuri\",\"wh\\u0101ia\",\"papa\",\"tini\",\"mihinare\",\"whakah\\u0113\",\"ingarangi\",\"whakaahua\",\"k\\u014dti_whenua_m\\u0101ori\",\"ope_taua\",\"tamaiti\",\"tokomaha\",\"\\u0101ta\",\"rerek\\u0113\",\"ng\\u0101i\",\"rauparaha\",\"ara\",\"n\\u014dna\",\"k\\u0101re\",\"noa_iho\",\"hoa\",\"kai\\u0101rahi\",\"huarahi\",\"whakataetae\",\"t\\u012bma\",\"whiwhi\",\"takoto\",\"waho\",\"k\\u014dti\",\"raki\",\"patu\",\"tatauranga\",\"p\\u014d\",\"ker\\u0113me\",\"kotahitanga\",\"ng\\u0101ti_toa\",\"whai_w\\u0101hi\",\"tipuna\",\"p\\u014dneke\",\"kaipuke\",\"tuhi\",\"t\\u0101makimakaurau\",\"kaimahi\",\"k\\u014dhatu\",\"wh\\u0101ngai\",\"hokinga\",\"kamupene\",\"iti\",\"kaitiaki\",\"ikaam\\u0101ui\",\"ehara\",\"mei\",\"tapaina\",\"whakarite\",\"t\\u016bhoe\",\"whakamahi\",\"kanohi\",\"patua\",\"p\\u0101nga\",\"wiremu\",\"ng\\u0101ti_kahungunu\",\"hune\",\"wh\\u0101\",\"kore_rawa\",\"eke\",\"poraka\",\"\\u016b\",\"m\\u0101ngai\",\"whakapae\",\"wehe\",\"k\\u0101kahu\",\"\\u0101ti_awa\",\"otir\\u0101\",\"whakam\\u0101rama\",\"pupuri\",\"\\u0101hei\",\"rautau\",\"niu_t\\u012breni\",\"\\u0101iwi\",\"ngahere\",\"tainui\",\"pou\",\"ngata\",\"raruraru\",\"\\u0101rahi\",\"kawe\",\"kaiwhakahaere\",\"whakahokia\",\"whanaunga\",\"k\\u016bmara\",\"neke_atu\",\"mahia\",\"poari\",\"\\u0101perira\",\"hawaiki\",\"pounamu\",\"tua_atu\",\"m\\u0101rama\",\"ng\\u0101ti_raukawa\",\"t\\u016btaki\",\"oti\",\"t\\u012bpuna\",\"tohutohu\",\"piki\",\"p\\u014dti\",\"t\\u014drangap\\u016b\",\"t\\u016bnga\",\"whare_karakia\",\"haki\",\"tauranga\",\"in\\u0101\",\"t\\u016bru\",\"nuku\",\"whakataunga\",\"whakaritea\",\"p\\u0101nui\",\"maehe\",\"wairua\",\"whiti\",\"h\\u014diho\",\"k\\u014drero_tuku_iho\",\"kino\",\"\\u0101piha\",\"kaihaut\\u016b\",\"k\\u0101wana\",\"whakaaetia\",\"p\\u0113puere\",\"ng\\u0101ti_maniapoto\",\"m\\u0101ui\",\"\\u014d\",\"ahitereiria\",\"k\\u014dmihana\",\"whakanui\",\"ahi\",\"haka\",\"h\\u0101nuere\",\"h\\u016brae\",\"taki\",\"whakatakoto\",\"hokianga\",\"tae_noa\",\"whanga\",\"mokopuna\",\"noema\",\"t\\u014d_r\\u0101ua\",\"hononga\",\"hoariri\",\"karaitiana\",\"t\\u0101w\\u0101hi\",\"waipounamu\",\"oketopa\",\"t\\u012bhema\",\"tokotoru\",\"k\\u0101reti\",\"puea\",\"tawhito\",\"tuhinga\",\"tonoa\",\"tuna\",\"tuakana\",\"tere\",\"tinana\",\"aroha\",\"t\\u0101whiao\",\"\\u014drau\",\"hauora\",\"titiro\",\"matauam\\u0101ui\",\"aro\",\"h\\u0101unga\",\"tohor\\u0101\",\"kuini\",\"hokohoko\",\"t\\u014dna_whaea\",\"oranga\",\"karanga\",\"hapori\",\"r\\u016bnanga\",\"nga\",\"p\\u0113whairangi\",\"whakawhiti\",\"heretaunga\",\"uaua\",\"kau\",\"r\\u0101whiti\",\"puta_noa\",\"ng\\u0101puhi\",\"t\\u0101maki\",\"wai_pounamu\",\"tai\",\"tangi\",\"kur\\u012b\",\"hepetema\",\"hauhau\",\"taup\\u014d\",\"taniwha\",\"na\",\"kiore\",\"pokap\\u016b\",\"tangohia\",\"whakahau\",\"rata\",\"toko\",\"waiho\",\"ringa\",\"k\\u0113tia\",\"peret\\u0101nia\",\"haina\",\"wairoa\",\"\\u0101kuhata\",\"h\\u014du\",\"tira\",\"ina\",\"tonutia\",\"k\\u0101ti\",\"aute\",\"tawhiti\",\"uta\",\"moea\",\"whakatipu\",\"t\\u0113r\\u0101_pea\",\"whare_taonga\",\"waenga\",\"whakawhiwhia\",\"p\\u014dmare\",\"raupatu\",\"whakaari\",\"pau\",\"ariki\",\"urup\\u0101\",\"hoatu\",\"manuhiri\",\"au\",\"p\\u0101tata\",\"putanga\",\"h\\u0113\",\"tutuki\",\"taupori\",\"ng\\u0101ti_t\\u016bwharetoa\",\"whaea\",\"t\\u014dna_p\\u0101p\\u0101\",\"whakatika\",\"eka\",\"motuhake\",\"ng\\u0101ti_wh\\u0101tua\",\"hopu\",\"h\\u0113nare\",\"w\\u0101nanga\",\"\\u00a3\",\"koe\",\"\\u0101rohe\",\"manaaki\",\"moko\",\"peka\",\"whakaora\",\"whakaako\",\"whakauru\",\"tuhituhi\",\"\\u0101pirana_ngata\",\"whakat\\u0101ne\",\"hoani\",\"tauiwi\",\"\\u014drite\",\"r\\u0101rangi\",\"k\\u0101pene\",\"poropiti\",\"tupu\",\"waihoki\",\"m\\u0101tua\",\"pakanga_tuarua\",\"rangit\\u0101ne\",\"wherowhero\",\"tangihanga\",\"whakaaturanga\",\"uniana\",\"m\\u0101ra\",\"m\\u012bhana\",\"tumuaki\",\"whaik\\u014drero\",\"\\u014dt\\u0101kou\",\"tohua\",\"h\\u0113keretari\",\"whakarongo\",\"harakeke\",\"muri_iho\",\"kia_kaua\",\"teina\",\"t\\u0101ia\",\"utua\",\"whakahoki\",\"kawea\",\"toro\",\"whakam\\u0101tau\",\"pae\",\"tohe\",\"neke\",\"kararehe\",\"k\\u0101whia\",\"karangatia\",\"h\\u014dtaka\",\"pito\",\"m\\u0101m\\u0101\",\"ono\",\"wharenui\",\"whakaputa\",\"inar\\u0101\",\"kupe\",\"tango\",\"\\u014d_r\\u0101tau\",\"painga\",\"hauraki\",\"ng\\u0101ti_awa\",\"rapu\",\"kuhu\",\"pirimia\",\"mehemea\",\"maori\",\"mere\",\"hokonga\",\"tiamana\",\"tuhia\",\"wehenga\",\"rangatahi\",\"ng\\u0101kau\",\"aroaro\",\"reta\",\"h\\u012bkoi\",\"eruera\",\"t\\u014d_r\\u0101tau\",\"kiri\",\"taitara\",\"here\",\"whakakotahi\",\"k\\u014diwi\",\"m\\u0101karini\",\"taumata\",\"hokowhitu\",\"hekenga\",\"mauri\",\"hea\",\"r\\u0101hui\",\"kimi\",\"rongo\\u0101\",\"h\\u012b_ika\",\"taiao\",\"whakar\\u0113rea\",\"kapa\",\"t\\u012btokowaru\",\"tana_p\\u0101p\\u0101\",\"ngana\",\"hono\",\"r\\u012bhi\",\"nama\",\"maket\\u016b\",\"whakaeke\",\"whakahirahira\",\"n\\u0101ianei\",\"m\\u0113n\\u0101\",\"whakamana\",\"tuahine\",\"kawa\",\"tiki\",\"rangihaeata\",\"kainga\",\"rangahau\",\"rangim\\u0101rie\",\"m\\u014drehu\",\"mauria\",\"n\\u016bpepa\",\"mihi\",\"tokowh\\u0101\",\"kaiwhakaw\\u0101\",\"mita\",\"petihana\",\"k\\u0101hui\",\"amerika\",\"one\",\"h\\u0101ngai\",\"karaka\",\"ahuriri\",\"h\\u014dne\",\"puni\",\"koroua\",\"ng\\u0101ti_apa\",\"p\\u012bhopa\",\"haria\",\"pirihimana\",\"h\\u014dhipera\",\"tupuna\",\"p\\u016bkenga\",\"hia\",\"k\\u0101hore\",\"t\\u0101tai\",\"t\\u0101kuta\",\"\\u014dna_m\\u0101tua\",\"p\\u014dwhiri\",\"urewera\",\"taketake\",\"moenga\",\"karapu\",\"kitenga\",\"mahuta\",\"taputapu\",\"t\\u0101piri\",\"paremata\",\"ua\",\"rima\",\"p\\u0101ora\",\"waitaha\",\"toka\",\"piri\",\"timi_kara\",\"ng\\u0101tahi\",\"akona\",\"k\\u014dkiri\",\"parihaka\",\"to\",\"m\\u0101hia\",\"p\\u016bmau\",\"mema_p\\u0101remata\",\"\\u014dna_hoa\",\"t\\u016bp\\u0101paku\",\"h\\u0101puku\",\"kahungunu\",\"puku\",\"p\\u016btea\",\"awe\",\"tuatoru\",\"k\\u014dtiro\",\"h\\u0101kari\",\"puna\",\"whare_p\\u0101remata\",\"pire\",\"taunga\",\"whai_p\\u0101nga\",\"huhua\",\"nunui\",\"koha\",\"takahi\",\"takutai\",\"waru\",\"waihanga\",\"whakaputaina\",\"r\\u0101nana\",\"t\\u0101nga\",\"whet\\u016b\",\"r\\u012bwai\",\"wiki\",\"w\\u0101tea\",\"pakari\",\"\\u014dtaki\",\"t\\u014dtika\",\"tai_hau\\u0101uru\",\"tautokona\",\"kait\\u0101karo\",\"wero\",\"whakat\\u014dhea\",\"kapa_haka\",\"n\\u014dhia\",\"pikitia\",\"kete\",\"p\\u016brongo\",\"poih\\u0101kena\",\"\\u0101rai\",\"ng\\u0101ti_tama\",\"kaituhi\",\"tauhokohoko\",\"pai_m\\u0101rire\",\"kuia\",\"paenga\",\"taitama\",\"taku\",\"whakaekea\",\"niupepa\",\"t\\u016bmomo\",\"h\\u0101kinakina\",\"t\\u016bpuna\",\"rangi_h\\u012broa\",\"puke\",\"kapiti\",\"taraipiunara\",\"m\\u0101rena\",\"k\\u014d\",\"ahuwhenua\",\"mahinga\",\"whitu\",\"aukati\",\"\\u0101taahua\",\"m\\u0101t\\u0101mua\",\"mihingare\",\"kuraina\",\"papat\\u016b\\u0101nuku\",\"whaka\\u016b\",\"ng\\u0101i_t\\u016bhoe\",\"tuawhenua\",\"ng\\u0101ti_ruanui\",\"matariki\",\"p\\u016br\\u0101kau\",\"wehi\",\"hari\",\"rauru\",\"p\\u016btake\",\"paikea\",\"t\\u0113nei_whakaahua\",\"\\u014d_r\\u0101ua\",\"m\\u0101tou\",\"whakaritenga\",\"waitara\",\"p\\u0101ngia\",\"h\\u0113mi\",\"\\u016bpoko\",\"mana_motuhake\",\"p\\u0101p\\u0101\",\"wera\",\"rironga\",\"taha_mau\\u012b\",\"kaipupuri\",\"whakat\\u016bnga\",\"r\\u014dp\\u016b_whakamana\",\"whakatikatika\",\"wh\\u0101iti\",\"kiriata\",\"h\\u014dri\",\"keepa\",\"taiaroa\",\"kerei\",\"hiki\",\"waha\",\"rohe_p\\u014dtae\",\"huruhuru\",\"h\\u0101pai\",\"taka_rawa\",\"heoti\",\"whiriwhiri\",\"p\\u0113hea\",\"ranginui\",\"mau_p\\u016b\",\"waewae\",\"t\\u016branganuiakiwa\",\"akoranga\",\"poaka\",\"kupenga\",\"paunga\",\"wh\\u0101inga\",\"whakaata\",\"whakautu\",\"wairau\",\"tirohanga\",\"poari_kaitiaki\",\"ngahuru\",\"teihana\",\"anei\",\"pepa\",\"h\\u014dne_heke\",\"herea\",\"koir\\u0101\",\"ir\\u0101mutu\",\"ng\\u0101ruaw\\u0101hia\",\"p\\u014dtatau\",\"mano\",\"h\\u014drapa\",\"hoahoa\",\"\\u014dp\\u014dtiki\",\"hirini\",\"puehu\",\"ata\",\"nohoanga\",\"whakatauk\\u012b\",\"raranga\",\"mahara\",\"whakaaturia\",\"ihu\",\"hoe\",\"\\u014dhinemutu\",\"maru\",\"puritia\",\"kaua\",\"whutupaoro\",\"k\\u014dura\",\"haumi\",\"t\\u016brangawaewae\",\"\\u0101motu\",\"\\u014dtautahi\",\"hara\",\"toki\",\"tangaroa\",\"tuku_iho\",\"waiapu\",\"ng\\u0101ti_maru\",\"pononga\",\"hongi\",\"w\\u012bw\\u012b\",\"r\\u014dp\\u016b_reipa\",\"m\\u014dmona\",\"ahurea\",\"waipiro\",\"mata\",\"\\u014dna_whanaunga\",\"tanumia\",\"hinengaro\",\"rangatiratanga\",\"kaing\\u0101rahu\",\"h\\u0101hi_mihinare\",\"maata\",\"whakaaetanga\",\"tautohe\",\"hikurangi\",\"whakaputanga\",\"kake\",\"whakatakotoria\",\"kawenga\",\"heke_iho\",\"kaiapoi\",\"whakanoho\",\"\\u0101tete\",\"anga\",\"tuwhera\",\"whiu\",\"pono\",\"puka\",\"waharoa\",\"moa\",\"whakan\\u014dhia\",\"poto\",\"kaiako\",\"korok\\u012b\",\"taumaha\",\"mahere\",\"auaha\",\"t\\u0101mihana\",\"kaik\\u014drero\",\"mautohe\",\"maungap\\u014dhatu\",\"ahau\",\"kaiwhakaako\",\"tat\\u016b\",\"takahia\",\"kaipara\",\"k\\u014drerotia\",\"pakaru\",\"t\\u012bt\\u012b\",\"t\\u014dtara\",\"pei\",\"kura_tuarua\",\"p\\u014duri\",\"tirotiro\",\"whiua\",\"raru\",\"whakahaerenga\",\"m\\u0101tenga\",\"hanganga\",\"teitei\",\"korowai\",\"hongi_hika\",\"rawatia\",\"p\\u0101p\\u0101wai\",\"huna\",\"whakarewarewa\",\"reo_irirangi\",\"taiwhanga\",\"pae_maunga\",\"paku\",\"whakangahau\",\"hopukina\",\"whakaheke\",\"raukawa\",\"m\\u0101r\\u014d\",\"aitu\\u0101\",\"\\u0101konga\",\"wh\\u0101nautanga\",\"\\u014dr\\u0101kei\",\"ngaki\",\"whanake\",\"h\\u012btori\",\"t\\u0101kitimu\",\"r\\u016bri\",\"t\\u016bhourangi\",\"heuheu\",\"m\\u0101ramatanga\",\"of\",\"moriori\",\"whakamau\",\"waihangatia\",\"whina\",\"taura\",\"moananui\",\"t\\u016broro\",\"nuitia\",\"ng\\u0101ti_mutunga\",\"putu\",\"matiu\",\"t\\u014dmuri\",\"wh\\u0101ng\\u0101rei\",\"taha_tonga\",\"karere\",\"wharekauri\",\"inoi\",\"pareihe\",\"tirohia\",\"whakam\\u0101tautau\",\"whenua_r\\u0101hui\",\"moanaatoitehuatahi\",\"tongariro\",\"ari\\u0101\",\"oneone\",\"hinu\",\"aotea\",\"t\\u016bmanako\",\"akiaki\",\"tiro\",\"h\\u0101hi_r\\u0101tana\",\"k\\u0113mu\",\"kauwhau\",\"m\\u012bharo\",\"taha_matau\",\"mataatua\",\"rongowhakaata\",\"m\\u014dteatea\",\"hia_k\\u0113_nei\",\"taha_r\\u0101whiti\",\"hainatanga\",\"turi\",\"horo\",\"mete\",\"matakite\",\"ng\\u0101rara\",\"rongopai\",\"manawa\",\"m\\u0101t\\u0101pono\",\"the\",\"t\\u016bruhi\",\"poronihia\",\"\\u014dhanga\",\"rarawa\",\"atawhai\",\"maniapoto\",\"taone\",\"whakat\\u014d\",\"para\",\"tihi\",\"tipua\",\"maihi\",\"p\\u0101tea\",\"huaina\",\"whakat\\u016bhia\",\"mua\\u016bpoko\",\"w\\u012b\",\"r\\u0113weti\",\"t\\u016bwharetoa\",\"takoha\",\"p\\u0113hi\",\"tautohetohe\",\"whakaekenga\",\"taot\\u016b\",\"t\\u016bmatanui\",\"tito\",\"whakakorea\",\"perehitini\",\"meinga\",\"k\\u0101wai\",\"kaporeihana\",\"tuar\\u0101\",\"whero\",\"whakatipuranga\",\"rerenga\",\"kaihoko\",\"taiwhenua\",\"oati\",\"kauhoe\",\"tahu\",\"whakamaharatanga\",\"k\\u0113hi\",\"tokorima\",\"ahumahi\",\"kawiti\",\"r\\u016b\\u0101toki\",\"mau_hereheretia\",\"huringa\",\"tuakiri\",\"\\u0101wherika\",\"m\\u0101ia\",\"manawat\\u016b\",\"rangit\\u0101ke\",\"r\\u014dia\",\"heria\",\"whatu\",\"muru\",\"taiohi\",\"murua\",\"hipi\",\"tahuna\",\"r\\u012bpeka\",\"rangit\\u012bkei\",\"ao_hou\",\"uenuku\",\"tung\\u0101ne\",\"m\\u0101harahara\",\"whao\",\"mohi\",\"whakakapi\",\"ng\\u0101ti_whakaue\",\"rangona\",\"taupatupatu\",\"raumati\",\"kahu\",\"p\\u014dh\\u0113h\\u0113\",\"whakatutuki\",\"hipa\",\"whakakitenga\",\"nehua\",\"koror\\u0101reka\",\"whakaakoranga\",\"rohe_nunui\",\"hue\",\"takitahi\",\"tatari\",\"\\u016bhia\",\"herehere\",\"tokomaru\",\"m\\u0101tau\",\"ruat\\u0101huna\",\"karangahia\",\"nui_whakaharahara\",\"whakatairanga\",\"matatau\",\"toto\",\"whakahua\",\"m\\u0101taki\",\"mananui\",\"par\\u0101one\",\"pupuhi\",\"r\\u0113kohu\",\"p\\u0113ne\",\"tao\",\"wikit\\u014dria\",\"mahere_whenua\",\"kapua\",\"whakapau\",\"n\\u0113hi\",\"whakaarahia\",\"whaka\\u012bngoatia\",\"apataki\",\"\\u0101wangawanga\",\"ringaringa\",\"whanaketanga\",\"waikanae\",\"p\\u0101tai\",\"w\\u0101_poto\",\"kereopa\",\"pine\",\"m\\u0101taitai\",\"murihiku\",\"muka\",\"uri_whakaheke\",\"rarotonga\",\"r\\u0101huitia\",\"paipera\",\"kaikohe\",\"tara\",\"awakairangi\",\"kair\\u016bri\",\"uku\",\"kawau\",\"\\u0113tita\",\"whakaurua\",\"t\\u012bkina\",\"katoatia\",\"kaik\\u014dura\",\"mat\\u0101\",\"t\\u016bpono\",\"p\\u016bmanawa\",\"pango\",\"kapu\",\"m\\u0101rika\",\"mataku\",\"whakat\\u016bpato\",\"poi\",\"m\\u0101nihera\",\"umanga\",\"haeretia\",\"parekura\",\"p\\u016baha\",\"manukau\",\"patuone\",\"huia\",\"ng\\u0101rahu\",\"h\\u0101hi_ringat\\u016b\",\"whakamutua\",\"inu\",\"m\\u014dhiotanga\",\"ng\\u0101wari\",\"tapa\",\"pare\",\"whakanuia\",\"tamatea\",\"hainatia\",\"raro_iho\",\"paea\",\"rerek\\u0113tanga\",\"reipa\",\"aruhe\",\"moehau\",\"takurua\",\"p\\u016bnaha\",\"mo\",\"patunga\",\"manaia\",\"whare_herehere\",\"whakangungu\",\"rewa\",\"kanikani\",\"kaitohutohu\",\"moanaatoi\",\"p\\u014dtitia\",\"riu\",\"hurihia\",\"pouaka_whakaata\",\"kauhau\",\"tut\\u016b\",\"hiko\",\"whakatuwheratanga\",\"puoro\",\"t\\u0113\",\"mira\",\"h\\u016bnuku\",\"\\u016bnga\",\"t\\u0101raia\",\"whakaara\",\"k\\u016biti\",\"kahurangi\",\"whati\",\"whakaarotia\",\"wawao\",\"takutai_moana\",\"p\\u016bmau_tonu\",\"w\\u012b_tako\",\"taonga_puoro\",\"kaumoana\",\"par\\u0101oa\",\"tua\",\"tukutuku\",\"whakatauria\",\"aho\",\"tarawera\",\"panaia\",\"huihuinga\",\"whakatuwheratia\",\"kara\",\"pana\",\"hauhake\",\"h\\u012bnaki\",\"whakaw\\u0101tea\",\"paki\",\"pari\",\"koutou\",\"nene\",\"ipu\",\"tokowhitu\",\"roroa\",\"k\\u014dhanga_reo\",\"\\u0101piti_atu\",\"whakapau_kaha\",\"mahinga_kai\",\"taiaha\",\"whanaungatanga\",\"huinga\",\"tahiti\",\"pitihana\",\"t\\u016bmatauenga\",\"kawakawa\",\"makawe\",\"ng\\u0101ti_hine\",\"\\u012bh\\u0101ia\",\"ng\\u0101ti_hau\\u0101\",\"wh\\u0101nauaapanui\",\"r\\u0101pata\",\"kuini_wikit\\u014dria\",\"ratonga\",\"momoho\",\"wharep\\u014duri\",\"w\\u0113tahi\",\"h\\u0113ni\",\"taing\\u0101kawa\",\"kirikiri\",\"kiwi\",\"kiko\",\"whakam\\u0101ori\",\"waitaua\",\"kuki\",\"p\\u016bhia\",\"p\\u0113neti\",\"mamae\",\"kohi\",\"meiha\",\"takawaenga\",\"kai\\u0101whina\",\"waimarie\",\"manene\",\"ririki\",\"ingarihi\",\"tai_poutini\",\"whakarere\",\"pahi\",\"rerew\\u0113\",\"iwa\",\"patupaiarehe\",\"katorika\",\"tokoono\",\"whakaminenga\",\"mahana\",\"kua_oti_k\\u0113\",\"m\\u0101ui_p\\u014dmare\",\"reka\",\"huakina\",\"rangi\\u0101tea\",\"t\\u0101karo_whutupaoro\",\"kani\",\"\\u012bnia\",\"meri\",\"taro\",\"p\\u0101taka\",\"tahua\",\"ritenga\",\"tamatekapua\",\"ea\",\"kotahi_anake\",\"noatia\",\"reanga\",\"whakamanahia\",\"hang\\u0101\",\"ope_h\\u014dia\",\"taihoa_ake\",\"matau\",\"kaitiakitanga\",\"h\\u014dhonu\",\"orokohanga\",\"wahap\\u016b\",\"mokomoko\",\"papanga\",\"kaiwhakairo\",\"parata\",\"t\\u0101mati\",\"\\u0101whinatia\",\"whakamaumaharatanga\",\"m\\u0101ero\",\"hohou\",\"piripi\",\"whatui\\u0101piti\",\"\\u0101pirana\",\"m\\u0101uiui\",\"m\\u0101taatua\",\"hawaii\",\"toenga\",\"taunaha\",\"arataki\",\"punga\",\"taha_raki\",\"\\u014dtepoti\",\"rewi\",\"hira\",\"teira\",\"puia\",\"hemo\",\"t\\u016bhawaiki\",\"w\\u012b_pere\",\"whakaw\\u0101\",\"aitangaam\\u0101haki\",\"t\\u0101reha\",\"p\\u014dkiha\",\"hokihoki\",\"muriwhenua\",\"titoa\",\"tohi\",\"tino_rangatiratanga\",\"hinganga\",\"manaakitia\",\"kirikiriroa\",\"mutunga_iho\",\"poroporoaki\",\"t\\u014dia\",\"p\\u014dtiki\",\"whakatakariri\",\"waikaremoana\",\"pouaru\",\"whakakore\",\"w\\u0101tene\",\"and\",\"h\\u0113tana\",\"tuawh\\u0101\",\"tukunga\",\"wahine_tuarua\",\"mau_herehere\",\"hora\",\"heketea\",\"repo\",\"k\\u016bpapa\",\"heamana\",\"m\\u0101hunga\",\"ngaio\",\"toroa\",\"aup\\u014duri\",\"ao_m\\u0101rama\",\"t\\u016bhono\",\"kaiwaiata\",\"paratene\",\"hoa_rangatira\",\"maria\",\"taonui\",\"urunga\",\"kerer\\u016b\",\"nanao\",\"niho\",\"mura\",\"hato\",\"toronga\",\"kaiwhakam\\u0101rama_reo\",\"huaki\",\"whakatuwhera\",\"otinga\",\"taro_ake\",\"kati\",\"whakatetonga\",\"whanonga\",\"whakawhanake\",\"m\\u0101totoru\",\"hiwi\",\"\\u0101hia\",\"mauhere\",\"kauri\",\"m\\u0113tara\",\"m\\u012bhini\",\"pakihi\",\"k\\u0101nara\",\"k\\u0101kano\",\"k\\u0101k\\u0101\",\"wehea\",\"taringa\",\"whakairotia\",\"hau\\u0101uru\",\"whakam\\u014dhio\",\"amorangi\",\"k\\u014drerohia\",\"\\u0101rahina\",\"p\\u016btiki\",\"puea_h\\u0113rangi\",\"puketapu\",\"whakat\\u0101\",\"k\\u014dawa\",\"waitohu\",\"kua_oti\",\"tikanga_tuku_iho\",\"taha_wairua\",\"oma\",\"tat\\u016b_rawa\",\"ekenga\",\"pita\",\"t\\u012bma_whutupaoro\",\"iriiri\",\"purei\",\"ng\\u0101ti_m\\u0101moe\",\"whakahaerea\",\"kiromita\",\"haurua\",\"t\\u0101tou\",\"kohia\",\"k\\u0101pene_kuki\",\"mokoia\",\"aronga\",\"taina\",\"waiariki\",\"torotoro\",\"hura\",\"ruru\",\"turakina\",\"amuamu\",\"huata\",\"hurinui\",\"k\\u014dhuru\",\"maung\\u0101rongo\",\"tomoana\",\"taut\\u0101whi\",\"pirihi\",\"\\u016bpokoiri\",\"tahataha\",\"tuanui\",\"huri_noa\",\"matua_k\\u0113k\\u0113\",\"koroni\",\"huihui\",\"whakahoahoa\",\"\\u014d_mua\",\"tiuka\",\"t\\u016brongo\",\"whakahaua\",\"r\\u0101hiri\",\"h\\u0101ora\",\"kae\",\"whare_tapere\",\"tohunga_whakairo\",\"whakam\\u012bharo\",\"whakawahia\",\"p\\u0101riha\",\"n\\u0113pia\",\"t\\u016btata\",\"tokoiti\",\"poupou\",\"mau\\u012b\",\"whakapaipai\",\"no\",\"m\\u014dkau\",\"nukutaurua\",\"whatanui\",\"whatahoro\",\"hiahiatia\",\"tuhituhinga\",\"p\\u0101ho\",\"rori\",\"t\\u016bao\",\"haut\\u016b\",\"p\\u0101nuitia\",\"r\\u0101wiri\",\"ruarua_nei\",\"kaiwhakam\\u0101ori\",\"tiakitai\",\"mamaku\",\"makere\",\"rotoiti\",\"r\\u0113inga\",\"t\\u0101tahi\",\"whakatangi\",\"rautaki\",\"tomo\",\"takea_mai\",\"manat\\u016b\",\"tuki\",\"maioro\",\"kaitautoko\",\"keri\",\"takere\",\"kokoraho\",\"hiku\",\"haerea\",\"tahup\\u014dtiki\",\"wawata\",\"rawakore\",\"ng\\u0101toroirangi\",\"t\\u0101huna\",\"k\\u014drerorero\",\"whakawh\\u0101nau\",\"p\\u0101rekareka\",\"r\\u014d\",\"horowhenua\",\"ng\\u0101ti_p\\u0101oa\",\"rohe_p\\u014dti\",\"roera\",\"taiopenga\",\"whakat\\u016bt\\u016b\",\"h\\u014dnore\",\"parore\",\"uwhi\",\"wawe\",\"hao\",\"nekeneke\",\"kait\\u0101\",\"taitamariki\",\"t\\u012bmataria\",\"whakarato\",\"pakupaku\",\"marangai\",\"an\\u014dtia\",\"m\\u014dkai\",\"tatau\",\"waim\\u0101rama\",\"whakapakari\",\"t\\u016b\\u0101papa\",\"kaing\\u0101kau\",\"hu\\u0101nga\",\"whakaakona\",\"takat\\u016b\",\"whakahauhau\",\"m\\u014dkena\",\"h\\u0101unga_t\\u0113r\\u0101\",\"taunaki\",\"\\u0101kau\",\"p\\u014dtae\",\"\\u016bawa\",\"komiti_whakahaere\",\"whakap\\u016bmau\",\"tinihanga\",\"k\\u0101wana_h\\u014dri_kerei\",\"waimate\",\"koreneho\",\"whakatupuranga\",\"nanakia\",\"m\\u0101hanga\",\"tuatahitanga\",\"kurahaup\\u014d\",\"t\\u016b\\u0101hua\",\"kaitito\",\"rina\",\"moetara\",\"tauhou\",\"wh\\u0101nuitia\",\"oro\",\"whakaruru\",\"tohungia\",\"r\\u012bki\",\"kohinga\",\"in\\u0101ianei\",\"ohorere\",\"ng\\u0101ti_kur\\u012b\",\"k\\u014dhungahunga\",\"k\\u0101wana_tianara\",\"h\\u016b\",\"h\\u014dhepa\",\"ahurei\",\"p\\u016btahi\",\"waka_ama\",\"pikinga\",\"whakahaerehia\",\"\\u0101rikarika\",\"paheke\",\"whakamahara\",\"rakiura\",\"r\\u014dp\\u016b_h\\u0101hi_mihinare\",\"whakahaeretia\",\"whakamaua\",\"ahiahi\",\"nekehia\",\"peita\",\"tautiaki\",\"whai_hiranga\",\"r\\u012bpoata\",\"ng\\u0101motu\",\"iwikau\",\"p\\u0101taihia\",\"p\\u0101r\\u0101wai\",\"kaihokohoko\",\"purewa\",\"onamata\",\"pere\",\"koi\",\"\\u014dkawa\",\"ngaru\",\"k\\u016brae\",\"\\u014dna_tu\\u0101kana\",\"t\\u016btakitanga\",\"k\\u014dwhiringa\",\"kere\",\"tamahau\",\"tekau_m\\u0101_waru\",\"wheoro\",\"k\\u0101k\\u0101riki\",\"$_miriona\",\"rangik\\u0101heke\",\"wh\\u0101rua\",\"tuatahitia\",\"nawe\",\"\\u0101ture\",\"m\\u0101kete\",\"tiakina\",\"hoa_wahine\",\"pia\",\"t\\u012bpene\",\"tinirau\",\"meatia\",\"r\\u0113hita\",\"w\\u0101kana\",\"p\\u014dtitanga\",\"whaanga\",\"kaihau\",\"kohikohi\",\"kaih\\u014dpara\",\"h\\u012b\",\"awhi\",\"whakatapua\",\"uhi\",\"iti_noa\",\"k\\u014dwhai\",\"w\\u0101riu\",\"t\\u0101ngia\",\"tahumaero\",\"whakakaha\",\"kaimoana\",\"rongomaiwahine\",\"whara\",\"irirangi\",\"t\\u0101ke\",\"p\\u016boho\",\"m\\u0101renatanga\",\"w\\u012bata\",\"r\\u014dpiha\",\"ruarua\",\"t\\u012b\",\"porirua\",\"makariri\",\"\\u012bnanga\",\"witi\",\"tumu\",\"raupatutia\",\"manaakitanga\",\"pani\",\"t\\u0101_moko\",\"tokaanu\",\"waihotia\",\"marut\\u016bahu\",\"tai_tonga\",\"rauemi\",\"kaunihera_\\u0101rohe\",\"whakawhitiwhiti_k\\u014drero\",\"whakaarohia\",\"h\\u0101hi_m\\u014dmona\",\"porourangi\",\"k\\u014dkiritia\",\"iriiria\",\"papahurihia\",\"h\\u0101moa\",\"keria\",\"whakataka\",\"wait\\u014dtara\",\"t\\u0101pae\",\"\\u014dh\\u0101k\\u012b\",\"t\\u0101hae\",\"ruahine\",\"hapa\",\"matemate\",\"kait\\u014drangap\\u016b\",\"r\\u014dp\\u016b_t\\u014drangap\\u016b\",\"tame\",\"r\\u012briri\",\"taunakitanga\",\"wh\\u0101riki\",\"m\\u0101ngere\",\"oho\",\"\\u016bropi\",\"whakapaetia\",\"ng\\u0101ti_pikiao\",\"kawenata\",\"ringat\\u016b\",\"\\u0101perahama\",\"t\\u0101poi\",\"h\\u014dt\\u0113ra\",\"taare\",\"r\\u0101niera\",\"tupeka\",\"whakapai\",\"whakahuatia\",\"t\\u014dku\",\"m\\u0101tao\",\"korero\",\"t\\u016bkinotia\",\"h\\u014dri_kerei\",\"whakapaunga\",\"horouta\",\"takenga_mai\",\"rongohia\",\"waimana\",\"korekore\",\"t\\u016bkino\",\"p\\u012brangi\",\"p\\u016boru\",\"piupiu\",\"kaunihera_ture\",\"r\\u016bma\",\"mate_kohi\",\"tikitiki\",\"awatere\",\"kurup\\u014d\",\"men\\u0101\",\"t\\u0101ite\",\"p\\u012btama\",\"t\\u014dpia\",\"kapi\",\"tareka\",\"whakamahinga\",\"poua\",\"takina\",\"p\\u0101una\",\"t\\u016btohu\",\"waaka\",\"whiria\",\"m\\u0101takitaki\",\"tai\\u0101whio\",\"tapahi\",\"k\\u0101hui_ariki\",\"pepeha\",\"totohe\",\"karangatanga\",\"hao_ika\",\"n\\u014dhanga\",\"w\\u0113ra\",\"nohoia\",\"\\u014dr\\u0101kau\",\"r\\u014dp\\u016b_w\\u0101hine_toko\",\"nukupewapewa\",\"ng\\u0101tuere\",\"huka\",\"pungarehu\",\"miriona\",\"p\\u0113ke\",\"meihana\",\"utaina\",\"waea\",\"maroke\",\"m\\u0101nuka\",\"tana_hoa_wahine\",\"awaawa\",\"koa\",\"ruka\",\"k\\u0101wai_rangatira\",\"whakaoti\",\"waerengaahika\",\"\\u012bngoa_karanga\",\"p\\u012bhopatanga\",\"nehu\",\"h\\u014dpara\",\"h\\u0101ng\\u012b\",\"unu\",\"k\\u016bare\",\"marau\",\"p\\u0101oa\",\"muia\",\"whakahou\",\"rawe\",\"k\\u014dhanga\",\"p\\u014drangahau\",\"mauheretia\",\"n\\u014d_kon\\u0101\",\"nehe\",\"pouaka\",\"whakak\\u012b\",\"p\\u014dhiri\",\"whakapaua\",\"penihana\",\"kakari\",\"k\\u012b_taurangi\",\"kaikiri\",\"papak\\u0101inga\",\"n\\u016b_p\\u0101remata\",\"t\\u016b\\u012b\",\"kuki_airani\",\"p\\u0101ua\",\"p\\u0101_tuna\",\"h\\u014dtoke\",\"maramara\",\"hei_\\u0101teha\",\"k\\u0101eaea\",\"k\\u014dp\\u016b\",\"wh\\u0101ea\",\"kaitono\",\"poti\",\"ipurangi\",\"ngahau\",\"r\\u0113hia\",\"ng\\u0101ti_ira\",\"karu_wh\\u0101\",\"p\\u014dhara\",\"arihia\",\"auau_tonu\",\"h\\u0101hi_w\\u0113teriana\",\"panoni\",\"waipuke\",\"kak\\u012b\",\"waih\\u012b\",\"t\\u016bt\\u016b\",\"k\\u0101p\\u0101\",\"maranga\",\"kaipakihi\",\"tia\",\"koiora\",\"hakaroa\",\"tomokanga\",\"mea_tapa\",\"whakaingoatia\",\"reo_ingarihi\",\"whakak\\u012bk\\u012b\",\"pukumahi\",\"paheketanga\",\"pua\",\"hikawera\",\"zealand\",\"t\\u016bhua\",\"whaitua\",\"raukura\",\"t\\u016bpato\",\"iti_iho\",\"p\\u014dwhiritia\",\"whakawhitia\",\"temepara\",\"muriwai\",\"tukia\",\"papa_r\\u0101kau\",\"n\\u016bhaka\",\"horomona\",\"t\\u016bpaea\",\"horet\\u0101\",\"ng\\u0101ti_kuia\",\"t\\u0101pihana\",\"kaiwhakaatu\",\"pairi\",\"heri\",\"katia\",\"t\\u0101whai\",\"tawa\",\"mang\\u014d\",\"takahi_manat\\u0101rua\",\"k\\u014dnae_nei\",\"k\\u014dnae_whakap\\u0101_atu\",\"\\u0101tau\",\"t\\u014dp\\u016b\",\"kokoru\",\"r\\u0101kaihaut\\u016b\",\"tauihu\",\"\\u0101teha\",\"rewi_maniapoto\",\"whakaiti\",\"waiatatia\",\"t\\u0101whirim\\u0101tea\",\"pahure\",\"whakangao\",\"h\\u012bkaka\",\"whakawhiu\",\"karahipi\",\"kaka\",\"k\\u0101ri\",\"whakapuaki\",\"kaiwawao\",\"whenuanui\",\"paraihe\",\"hana\",\"hoi_an\\u014d\",\"hera\",\"kohi_moni\",\"h\\u0101hi_mihingare\",\"kaute\",\"p\\u0101pori\",\"iriirihia\",\"whakatipuria\",\"t\\u014dmuatanga\",\"whakat\\u014dp\\u016b\",\"uara\",\"r\\u0101pata_wahawaha\",\"ruku\",\"waitemat\\u0101\",\"panakareao\",\"act\",\"m\\u0101_rima\",\"toe\",\"pipiriki\",\"rua_k\\u0113nana\",\"h\\u016bp\\u0113nui\",\"tekoteko\",\"mahue_iho\",\"hukarere\",\"maungatautari\",\"r\\u016bm\\u0101tiki\",\"t\\u0101niko\",\"tauiratia\",\"whakataua\",\"maumahara\",\"m\\u012bti\",\"ruatapu\",\"whakamutu\",\"tima\",\"ratou\",\"takat\\u0101pui\",\"horapa\",\"\\u012bhipa\",\"houhia\",\"t\\u016bhaere\",\"\\u0101naru\",\"whakanohonoho\",\"k\\u014dwhiria\",\"h\\u012broki\",\"harawira\",\"p\\u0101mamao\",\"k\\u012bnaki\",\"whaitiri\",\"ihu_oneone\",\"kupu_whakarite\",\"maunganui\",\"roanga\",\"pitoone\",\"koianei\",\"whakawh\\u0101nui\",\"\\u0101ringa\",\"tunu\",\"whakatinana\",\"waka_hourua\",\"tapuwae\",\"m\\u0101nia\",\"poutini\",\"whakawai\",\"r\\u0101t\\u0101\",\"koura\",\"rongomau\",\"waitohi\",\"whakateraki\",\"t\\u016breiti\",\"whakatipua\",\"tukinga\",\"emepaea\",\"tuarima\",\"h\\u0101hi_katorika\",\"ng\\u0101ti_tar\\u0101whai\",\"karaipiture\",\"k\\u014d_tata\",\"t\\u0113nehi\",\"kaiwhiwhi\",\"\\u0101perire\",\"p\\u0101napa\",\"maramataka\",\"pipi\",\"k\\u014dnae_n\\u014d_sound\",\"ruatara\",\"\\u0101huarangi\",\"whakatere\",\"t\\u016bt\\u0101nekai\",\"toanga\",\"whangaroa\",\"ngutu\",\"\\u0101ti_haunuiap\\u0101p\\u0101rangi\",\"kakama\",\"haramai\",\"p\\u016btaiao\",\"papa_tongarewa\",\"whakarunga\",\"panguru\",\"tapahia\",\"\\u014dna_t\\u016bpuna\",\"whakatupu\",\"\\u0101tairangikaahu\",\"horoi\",\"marea\",\"pout\\u0101peta\",\"whakaoranga\",\"toit\\u016b\",\"patu_tohor\\u0101\",\"whare_paremata\",\"whakamihi\",\"pakimaero\",\"whakamua\",\"uiui\",\"maih\\u0101roa\",\"raihana\",\"aotearoa_th_m\\u0101ori\",\"w\\u0113teriana\",\"t\\u016bmate\",\"mete_k\\u012bngi\",\"k\\u012ba\",\"korenga\",\"whakawhitinga\",\"porowini\",\"whakawhirinaki\",\"rangitoto\",\"k\\u0101\",\"ohu\",\"ra\",\"rae\",\"murunga\",\"kitea_tonutia\",\"k\\u0113keno\",\"ng\\u0101wh\\u0101\",\"tuahiwi\",\"tangohia_t\\u0113nei_whakaahua\",\"h\\u0101wera\",\"m\\u0101kutu\",\"m\\u014drearea\",\"pane\",\"io\",\"whakam\\u0101oritanga\",\"kon\\u0101\",\"taurekareka\",\"whakakotahitanga\",\"n\\u0101hinara\",\"m\\u0101ori_n\\u014d_t\\u0113hea\",\"pau_katoa\",\"peehi\",\"ii\",\"materoa\",\"ng\\u0101kaunui\",\"p\\u0113n\\u0101\",\"parani\",\"whakatahi\",\"\\u012bhaka\",\"whakapakoko\",\"parau\",\"m\\u014dhiotia_wh\\u0101nuitia\",\"t\\u0101mati_w\\u0101ka_nene\",\"taha_whakarunga\",\"tuatara\",\"t\\u016bpuhi\",\"rima_tekau\",\"awatea\",\"rama\",\"mere_pounamu\",\"white\",\"kaihanga\",\"tukituki\",\"whare_pupuri_taonga\",\"hangarau\",\"m\\u0101rire\",\"h\\u014dro\",\"akoako\",\"taura_here\",\"moutoa\",\"kirikiti\",\"ohaoha\",\"k\\u0101peneheihana\",\"kawep\\u014d\",\"whutup\\u014dro\",\"takaanui\",\"kaihopu\",\"weka\",\"werohia\",\"huahua\",\"hinemoa\",\"wh\\u012bt\\u012b\",\"kait\\u0101ia\",\"taihoa\",\"whakapuakanga\",\"taupiri\",\"mema_paremata\",\"wao\",\"tu\\u0101kana\",\"t\\u0101rai\",\"akomanga\",\"r\\u0101paki\",\"huatau\",\"p\\u016bhipi\",\"uira\",\"taurua\",\"p\\u016bkawa\",\"minenga\",\"k\\u014dwhiri\",\"itiiti\",\"karipori\",\"whakatangitangi\",\"t\\u016bnui\\u0101rangi\",\"apanui\",\"k\\u014dti_whenua\",\"rangihiwinui\",\"ahorangi\",\"ngoi\",\"p\\u0113pene\",\"rotohiko\",\"utanga\",\"hangaa\",\"k\\u0101nga\",\"t\\u0101_\\u0101pirana_ngata\",\"miraka_kau\",\"tunu_kai\",\"kari\",\"kaiwhakaw\\u0101_matua\",\"wh\\u0101ingaroa\",\"m\\u0101rakerake\",\"whakatata\",\"mangak\\u0101hia\",\"karaiti\",\"\\u0101waha\",\"wh\\u0101ng\\u0101r\\u0101\",\"paru\",\"auahatia\",\"tana_taina\",\"waka_huia\",\"whakangungua\",\"ng\\u0101herehere\",\"are\",\"whakaemi\",\"\\u0113\",\"m\\u0101tanga\",\"pipitea\",\"horonuku\",\"tohea\",\"ng\\u0101i_tai\",\"tamaiharanui\",\"karetai\",\"piki_t\\u016branga\",\"araroa\",\"tauwh\\u0101inga\",\"arapeta\",\"airini\",\"h\\u012bria\",\"kekeno\",\"tenei\",\"m\\u0101ra_kai\",\"whirinaki\",\"wheketere\",\"awarua\",\"whakamataku\",\"aorangi\",\"whakamanatia\",\"whakairia\",\"wh\\u0101tonga\",\"p\\u016bt\\u014drino\",\"k\\u014dauau\",\"tokotoko\",\"whakahokinga\",\"hikairo\",\"kanawa\",\"h\\u0101whe\",\"t\\u0101puke\",\"whaiwhai\",\"whakakorehia\",\"wiremu_k\\u012bngi\",\"taurima\",\"erueti\",\"whiwhinga\",\"iharaira\",\"m\\u0101torohanga\",\"\\u014driwa\",\"ruapuke\",\"pukehinahina\",\"r\\u012bria\",\"r\\u0101tapu\",\"k\\u014dnohete\",\"tana_hoa_t\\u0101ne\",\"puni_h\\u014dia\",\"niniwa\",\"waahi\",\"kauhanganui\",\"h\\u0113nare_matua\",\"maraea\",\"pinepine\",\"k\\u014dpae\",\"arongia\",\"p\\u012b\",\"taetae\",\"hanganga_ture\",\"w\\u0101w\\u0101hi\",\"p\\u016btea_taurewa\",\"p\\u0101mu_hipi\",\"iri\",\"taumau\",\"maunga_tapu\",\"putunga\",\"kaipatu_tohor\\u0101\",\"whakawhitiwhiti\",\"whana\",\"utunga\",\"whakaoriori\",\"auau\",\"kauae\",\"papai\\u014dia\",\"kohu\",\"oreore\",\"rotoatara\",\"whakamatea\",\"ngau\",\"paihere\",\"roimata\",\"tona\",\"pokanoa\",\"whakamaumahara\",\"manawanui\",\"taui\",\"tangihia\",\"eru\",\"mahi_t\\u0101poi\",\"pak\\u016b\",\"whakapai_ake\",\"ng\\u0101tahitia\",\"kaitaka\",\"k\\u0101mura\",\"tahup\\u014dtiki_wiremu_r\\u0101tana\",\"wahanui\",\"r\\u016btene\",\"p\\u0101tara\",\"r\\u0101rangi_\\u012bngoa\",\"komiti_\\u0101iwi\",\"erihana\",\"p\\u012bhama\",\"kaiwhakaw\\u0101_takiw\\u0101\",\"p\\u0101tuki\",\"whakamanaia\",\"purua\",\"whakawhiwhi\",\"paina\",\"r\\u0101ngai\",\"kapi_katoa\",\"arahura\",\"moanaaraukawa\",\"hiruh\\u0101rama\",\"p\\u0101_t\\u016bwatawata\",\"poro_r\\u0101kau\",\"toremi\",\"aukatia\",\"manut\\u016bk\\u0113\",\"k\\u014dhua\",\"kakenga\",\"hine\",\"whakah\\u0113ngia\",\"ao_hurihuri\",\"k\\u0101pia\",\"auahi\",\"hoa_t\\u0101ne\",\"taiapa\",\"r\\u016b\",\"p\\u016bk\\u0101k\\u012b\",\"t\\u0101rewa\",\"awherika\",\"mahau\",\"pene\",\"whakak\\u0101horetia\",\"rangat\\u016b\",\"koroneihana\",\"wharekai\",\"\\u0101kina\",\"wairua_tapu\",\"t\\u014dna_k\\u014dk\\u0101\",\"whakataunga_tiriti\",\"tirarau\",\"nireaha\",\"haerehuka\",\"ohanga\",\"pau_noa\",\"purei_whutupaoro\",\"k\\u0101tipa\",\"karangatanga_hap\\u016b\",\"k\\u0101wana_kerei\",\"titonga\",\"kapa_\\u014dpango\",\"miro\",\"t\\u016bhura\",\"matika\",\"ng\\u0101ti_kahu\",\"takenga\",\"oriori\",\"taha_whakararo\",\"whakaea\",\"whakam\\u0101ramatia\",\"t\\u016bmataiti\",\"pakiwaitara\",\"waiomatatini\",\"t\\u014dna_wh\\u0101ea\",\"kuku\",\"p\\u0101_harakeke\",\"kukume\",\"moemoe\\u0101\",\"taumarunui\",\"ahukaram\\u016b\",\"arikinui\",\"\\u0101ki\",\"whatua\",\"whakaara_ake\",\"whakapiri\",\"rokohanga\",\"tahua_moni\",\"turaki\",\"tohungat\\u0101\",\"waituhi\",\"tohungatanga\",\"paipa\",\"waiwhet\\u016b\",\"kuti_hipi\",\"tomokia\",\"ua_haum\\u0113ne\",\"w\\u0113piha\",\"peia\",\"puri\",\"iriaka\",\"eramiha\",\"awaitaia\",\"pito_tonga\",\"t\\u0101pirihia\",\"k\\u014danga\",\"whakatenatena\",\"\\u0113nei_t\\u016bmomo\",\"taumahatanga\",\"pirongia\",\"\\u012bhenga\",\"wehewehe\",\"t\\u016branganui\",\"taonga_tuku_iho\",\"nohonoho\",\"piriti\",\"matat\\u0101\",\"whakaruruhau\",\"ira\",\"wh\\u0101nako\",\"wh\\u0101rangi\",\"awhitia\",\"whakarata\",\"weriweri\",\"tu\\u0101hine\",\"whangapar\\u0101oa\",\"karo\",\"ng\\u0101tokimatawhaorua\",\"\\u014dhiwa\",\"hotunui\",\"mereana\",\"parirau\",\"kairangahau\",\"t\\u0101rai_waka\",\"whakataungia\",\"kawerau\",\"pokap\\u016btanga\",\"m\\u0101ehe\",\"w\\u012bti\",\"whare_patu_m\\u012bti\",\"tito_waiata\",\"hape\",\"whanaunga_tata\",\"poutama\",\"waiohua\",\"murupaenga\",\"p\\u0101nuitanga\",\"rangihau\",\"huhua_noa\",\"h\\u0101ereere\",\"ng\\u0101rimu\",\"whakam\\u0101m\\u0101\",\"h\\u0101re\",\"h\\u0101riata\",\"ng\\u0101tata\",\"paraire\",\"p\\u014dtangaroa\",\"tohungatoi\",\"t\\u0101whiti\",\"tahatika\",\"r\\u0113hitatia\",\"tiwhikete\",\"angitu\",\"otaota\",\"ano\",\"t\\u0101nenuiarangi\",\"t\\u0101paea\",\"kao\",\"pakake\",\"whata\",\"marara\",\"hoturoa\",\"pup\\u016b_ake\",\"m\\u0101kereti\",\"poro\",\"namu\",\"hinenuitep\\u014d\",\"t\\u016b\\u0101hu\",\"pakitara\",\"maka\",\"whakam\\u0101ramatanga\",\"whakamoea\",\"whakap\\u0101keh\\u0101\",\"m\\u014dkihi\",\"whaiwhai_tohor\\u0101\",\"p\\u0101ti\",\"tokowaru\",\"piana\",\"kape\",\"tokohia\",\"awanuiarangi\",\"whakat\\u016branga\",\"tiram\\u014drehu\",\"raumoa\",\"piripono\",\"ranga\",\"ng\\u0101tai\",\"k\\u014dk\\u0101\",\"r\\u016btene_k\\u0101nara\",\"\\u0101potoro\",\"whakaaetanga_\\u0101pukapuka\",\"whakawahinga\",\"hare\",\"m\\u0101tene\",\"tenetahi\",\"whakatipu_kai\",\"toharite\",\"piharau\",\"t\\u014dtaranui\",\"arumoni\",\"arotake\",\"miraka\",\"r\\u012bhitia\",\"rapa\",\"papai\",\"manga\",\"w\\u0101hanga_tuarua\",\"ine\",\"takaparawh\\u0101\",\"kakau\",\"papatahi\",\"eke_h\\u014diho\",\"pakihiwi\",\"t\\u0101wharau\",\"hihiri\",\"tatau_pounamu\",\"kata\",\"whakamomori\",\"hihiko\",\"memeha\",\"in\",\"angaanga\",\"waip\\u0101\",\"autaia\",\"tamatoa\",\"kirihimete\",\"w\\u0101hia\",\"ruatepupuke\",\"ama\",\"h\\u014dtera\",\"k\\u0101wanatanga_reipa\",\"paihia\",\"herewini\",\"makit\\u0101nara\",\"tao\\u016b\",\"\\u014dm\\u0101hu\",\"t\\u016bt\\u0101mure\",\"k\\u014dkiritanga\",\"keita\",\"kutikuti_hipi\",\"katerina\",\"t\\u0101huhu_k\\u014drero\",\"ani\",\"h\\u014dne_t\\u014dia\",\"atua_wera\",\"taea_noatia\",\"tumu_k\\u014drero\",\"tapaa\",\"hopu_manu\",\"kerikeri\",\"rarauhe\",\"ngaronga\",\"hunga_whai_p\\u0101nga\",\"ruat\\u014dria\",\"ma\",\"auahatanga\",\"ikeike\",\"tohetohe\",\"paranihi\",\"kaupare\",\"p\\u016briri\",\"hauturu\",\"ngoikore\",\"k\\u014dk\\u014dwai\",\"aranga\",\"urupare\",\"tanu\",\"waipoua\",\"rona\",\"heru\",\"waiata_rongonui\",\"p\\u016boro\",\"tuawhitu\",\"kaikauhau\",\"kariri\",\"perehi\",\"awamutu\",\"teko\",\"kauwhata\",\"k\\u012bngi_t\\u0101whiao\",\"mangat\\u0101whiri\",\"hui_\\u0101tau\",\"ng\\u0101ti_p\\u016bkeko\",\"k\\u0101re_kau\",\"huanga\",\"henare\",\"tukanga\",\"tautau\",\"tunua\",\"aka\",\"kina\",\"whakapono_karaitiana\",\"kaip\\u0101mu\",\"akaroa\",\"\\u0101raiteuru\",\"tohu_k\\u0101kahi\",\"whakarerek\\u0113\",\"k\\u014dti_matua\",\"h\\u0101miora\",\"takahanga\",\"rito\",\"reti\",\"h\\u0101mua\",\"wh\\u0101wh\\u0101\",\"\\u0101wh\\u0101\",\"m\\u0101hinaarangi\",\"\\u014dkahu\",\"wheke\",\"paeroa\",\"aitangaahauiti\",\"t\\u0101roaroa\",\"kahukura\",\"apakura\",\"whakamate\",\"ao_t\\u016broa\",\"ongaonga\",\"wareware\",\"rongokako\",\"whakataki\",\"t\\u0101ua\",\"whiro\",\"waiata_tangi\",\"whakaora_t\\u016broro\",\"\\u0101ta_titiro\",\"hiriwa\",\"wh\\u0101ngaia\",\"whakah\\u012bh\\u012b\",\"ngangahau\",\"taura_whiri\",\"hararei\",\"taikaha\",\"whiri\",\"kuru\",\"rei\",\"pakiwaituhi\",\"kairangi\",\"whakarau\",\"w\\u016bru\",\"kura_m\\u012bhana\",\"mate_pukupuku\",\"k\\u014dti_p\\u012bra\",\"motu_wh\\u0101nui\",\"iti_noa_iho\",\"p\\u0101rongo\",\"m\\u014dhaka\",\"ng\\u0101ti_manawa\",\"\\u016bpokooteika\",\"whakawhere\",\"mere_rikiriki\",\"haihana\",\"whakariterite\",\"r\\u0113ti\",\"tuini\",\"uauatanga\",\"\\u012bngoa_k\\u0101rangaranga\",\"\\u012bhakara\",\"pirihimana_mau_p\\u016b\",\"riperata\",\"h\\u014dmai\",\"whakakata\",\"\\u0101naha\",\"w\\u0113tere\",\"ker\\u0113hi\",\"w\\u012b_repa\",\"tio\",\"kik\\u012b\",\"rino\",\"pihi\",\"whitinga\",\"paku_noa\",\"whakamanatanga\",\"tauranga_ika\",\"whakaw\\u0101kanga\",\"t\\u0101mi\",\"takotoranga\",\"teka\",\"wharepuni\",\"whakam\\u0101\",\"ruanui\",\"peke\",\"arahina\",\"ahunga\",\"korokoro\",\"tipuna_taketake\",\"aru\",\"kaukau\",\"pakiaka\",\"t\\u0101huhu\",\"karapotia\",\"ao_h\\u014du\",\"rehua\",\"maitai\",\"tarata\",\"huraina\",\"whakapuakina\",\"whakatauhia\",\"haeretanga\",\"whakarewa\",\"ahu_whakamua\",\"kaihoe\",\"m\\u0101haki\",\"tuakiritanga_\\u0101iwi\",\"raro_an\\u014d_whakaatuhia\",\"reimana\",\"whakap\\u0101ha\",\"kooti_arikirangi\",\"tau\\u0101\",\"ng\\u0101ti_mahuta\",\"whakaekengia\",\"k\\u012bngi_korok\\u012b\",\"p\\u0101hotanga\",\"mea_t\\u0101puke\",\"manukura\",\"kaitirotiro\",\"p\\u0101rete\",\"ina_koa\",\"kaikauwhau\",\"\\u014dna_m\\u014dhiotanga\",\"wini\",\"matamata\",\"whakahaungia\",\"hikapuhi\",\"eruera_tirik\\u0101tene\",\"t\\u0101ke_kur\\u012b\",\"m\\u0113\",\"h\\u0101pimana\",\"maimoa\",\"papakura\",\"whakarerek\\u0113tanga\",\"t\\u0101tari\",\"otiia\",\"wh\\u0101nau\\u0101apanui\",\"hauwarea\",\"riki\",\"waia\",\"mokemoke\",\"t\\u0113_taea\",\"wai\\u014dmio\",\"t\\u0101tai_whakapapa\",\"ng\\u0101ti_tamater\\u0101\",\"t\\u0101puketia\",\"tumeke\",\"t\\u0101mia\",\"ono_marama\",\"hahau\",\"nehunga\",\"whakatere_waka\",\"karawhiua\",\"k\\u016bititanga\",\"t\\u0101t\\u0101\",\"t\\u014dp\\u016btanga\",\"p\\u0101ka\",\"karawhiu\",\"ng\\u0101ti_p\\u016bkenga\",\"hoari\",\"kaip\\u014dti\",\"mangu\",\"h\\u0101hi_karaitiana\",\"r\\u0101w\\u0101hi\",\"p\\u0101p\\u0101ho\",\"t\\u016bwhare\",\"an\\u0101\",\"whakah\\u014dnore\",\"moeraki\",\"hone\",\"aowera\",\"manahi\",\"rewharewha\",\"hai_mema\",\"taupua\",\"korowha\",\"tohu_paetahi\",\"ng\\u0101kau_pono\",\"pure\",\"ngare\",\"t\\u016branganuiarua\",\"rangit\\u0101hau\",\"nuka\",\"niupepa_reo_m\\u0101ori\",\"hia_mano\",\"tapawh\\u0101\",\"tah\\u0101\",\"tuitui\",\"hia_rau\",\"ahi_k\\u0101\",\"rahinga\",\"taiepa\",\"r\\u014dre\",\"m\\u0101ra_k\\u016bmara\",\"whakaingoa\",\"h\\u0101ngai_p\\u016b\",\"h\\u012b_ake\",\"takirua\",\"kapo\",\"whiriwhiringa\",\"whakap\\u0101\",\"hikitia\",\"t\\u0101paetanga\",\"wairere\",\"awahou\",\"matapihi\",\"homai\",\"p\\u014dtaka\",\"p\\u016beru\",\"ruapehu\",\"were\",\"wairaka\",\"\\u0101piti\",\"ng\\u0101i_tara\",\"\\u014dnewa\",\"ira_tangata\",\"t\\u0101whaki\",\"ng\\u0101ti_rangiwewehi\",\"poron\\u012bhia\",\"whakamarumaru\",\"aku\",\"t\\u016broa\",\"manako\",\"horonga\",\"p\\u0101kia\",\"papa_t\\u0101karo\",\"t\\u0101tua\",\"kitea_nuitia\",\"toi_whakaari\",\"k\\u0101whena\",\"tautohetia\",\"new\",\"pakarutanga_mai\",\"whakawh\\u0101nau_tamariki\",\"mekemeke\",\"waih\\u012brere\",\"rangahautanga\",\"kaiwhaka\\u016b\",\"\\u014dtorohanga\",\"heuheu_t\\u016bkino\",\"taum\\u0101rere\",\"putaputa\",\"parekuratia\",\"hepi\",\"motunui\",\"pukerangiora\",\"punanga\",\"hahaup\\u014dro\",\"whakaaengia\",\"tohunga_t\\u0101_moko\",\"hei_kaiwhakauru\",\"hineipaketia\",\"houk\\u0101mau\",\"\\u0101naua\",\"hanataua\",\"minarapa\",\"moheni\",\"haurongo\",\"heihei\",\"wh\\u012bwhiwhi\",\"ruarua_noa\",\"whakarerea\",\"pukuriri\",\"takahuri\",\"pirau\",\"tamahau_mahupuku\",\"huhuti\",\"nukutawhiti\",\"t\\u0101neatua\",\"kiwa\",\"m\\u0101kereti_papakura\",\"ruamano\",\"waihou\",\"whakanohoia\",\"hunga_rangatahi\",\"whakapaparanga\",\"pine_taiapa\",\"\\u014d_m\\u0101tou\",\"wanganui\",\"whakak\\u0101hore\",\"h\\u0101\",\"hui_whakanui\",\"whakatakotohia\",\"whakatauira\",\"t\\u016bm\\u016b\",\"p\\u012bhanga\",\"heip\\u016b\",\"w\\u0101pu\",\"whakararuraru\",\"whiriwhiria\",\"whakaatuhia\",\"haora\",\"waihangahia\",\"h\\u0101pua\",\"taum\\u0101hekeheke\",\"herenga\",\"raupatuhia\",\"waari\",\"r\\u014dp\\u016b_n\\u0101hinara\",\"motuk\\u0101\",\"tereina\",\"haurangi\",\"koti\",\"tamarikitanga\",\"p\\u0101nui_pukapuka\",\"pakeketanga\",\"nohanga\",\"papakupu\",\"paraikete\",\"p\\u0101huatia\",\"paura\",\"hei_waha_k\\u014drero\",\"rangihouhiri\",\"tohu_whakamaharatanga\",\"matak\\u0101tea\",\"poananga\",\"haukotia\",\"tamarau\",\"petipeti\",\"m\\u014dhio_wh\\u0101nuitia\",\"manuao\",\"rekoata\",\"waha_k\\u014drero\",\"motok\\u0101\",\"hautoa\",\"minitatanga\",\"auraki\",\"w\\u0101na\",\"herekiekie\",\"reremoana\",\"uamairangi\",\"ng\\u0101ti_hinepare\",\"turikatuku\",\"h\\u0101re_hongi\",\"\\u0101poro\",\"h\\u0101rata\",\"poropititanga\",\"rohu\",\"ng\\u0101pora\",\"n\\u0113ra\",\"ng\\u0101tapa\",\"\\u0113ria\",\"h\\u0101nara\",\"waitoa\",\"h\\u014dngere\",\"manu_tukutuku\",\"niu\",\"puanga\",\"taup\\u014dnuiatia\",\"paora\",\"piko\",\"ahuahu\",\"tamat\\u0101ne\",\"kaik\\u014dmihana\",\"whangaokeno\",\"$\",\"puare\",\"whakairi\",\"k\\u0101hakina\",\"ngira\",\"tohutohungia\",\"wh\\u0101ng\\u0101p\\u0113\",\"whakauta\",\"p\\u016bk\\u014drero\",\"kikokiko\",\"whakawehe\",\"kakara\",\"hineahuone\",\"ahatia\",\"kanga\",\"p\\u016bkeke\",\"titi\",\"kainoho\",\"kaiwhakarite\",\"paepae\",\"maumaharatanga\",\"whakahekenga\",\"toa_takitini\",\"tohatoha\",\"toha\",\"tonuhia\",\"taiwhanga_toi\",\"whakakaupapa\",\"uep\\u016b\",\"m\\u014dkete\",\"k\\u012bngi_h\\u014dri\",\"hahua\",\"maaka\",\"taratoa\",\"rangiot\\u016b\",\"pene_taka\",\"rangit\\u012baria\",\"whakam\\u0101oritia\",\"reiwhati\",\"kaiwhakauru\",\"whakap\\u0101_atu\",\"k\\u014dmihana_uiui\",\"kaiwhakataetae\",\"hore_kau\",\"h\\u012bnota\",\"aronui\",\"takohatia\",\"rore\",\"\\u012bngoa_iriiri\",\"popo\",\"ait\\u016b\",\"meha\",\"tumutara\",\"hopere\",\"\\u0101ria\",\"t\\u0101maki_paenga_hira\",\"maro\",\"pipiri\",\"haratua\",\"p\\u0101mu_miraka_kau\",\"paingia\",\"whakamoe\",\"nohonga\",\"moemoe\",\"t\\u014dh\\u0113\",\"t\\u012bkapa\",\"rangirua\",\"takahitanga\",\"whakamahana\",\"whaipara_tangata\",\"rangihoua\",\"hoea\",\"m\\u0101mari\",\"houmaitawhiti\",\"waitomo\",\"pu\\u0101wai\",\"waim\\u0101\",\"m\\u014dtatau\",\"m\\u0101whera\",\"haumaru\",\"k\\u0101rearea\",\"upoko\",\"tu\",\"naomia\",\"whakar\\u0101kai\",\"\\u014dna_p\\u016bmanawa\",\"t\\u0101piritia\",\"whatinga\",\"pokea\",\"\\u0101ta_tirohia\",\"haumia\",\"t\\u0113t\\u0113\",\"koru\",\"maringi\",\"kereama\",\"kohaina\",\"ng\\u0101ti_toarangatira\",\"puhiwahine\",\"poata\",\"make\",\"moumou\",\"ruawharo\",\"aratakina\",\"r\\u014dp\\u016b_paionia\",\"m\\u0101hita\",\"rorohiko\",\"whakawhitiwhiti_whakaaro\",\"t\\u0101ina\",\"r\\u014dp\\u016b_rangatahi\",\"ihi\",\"horopaki\",\"t\\u016bt\\u016b\\u0101\",\"whakah\\u0113tanga_hoko_whenua\",\"kura_m\\u0101hita\",\"tama_m\\u0101t\\u0101mua\",\"h\\u0113ni_materoa\",\"whakah\\u0113tia\",\"taut\\u014dhito\",\"kairaranga\",\"reiti\",\"whakaw\\u0101kia\",\"m\\u0101oritanga\",\"maioha\",\"tata_paunga\",\"karaihe\",\"okataina\",\"kani\\u0101takirau\",\"poukai\",\"aokapurangi\",\"korou\",\"karaitiana_takamoana\",\"h\\u0113nare_tomoana\",\"rangitaamo\",\"t\\u0101mairangi\",\"pakip\\u016bmeka\",\"panonitanga\",\"unuhia\",\"k\\u014dpura\",\"k\\u016baha\",\"p\\u016bp\\u016b\",\"whakat\\u014d_kai\",\"hae\",\"whakararo\",\"p\\u012bhopa_herewini\",\"patupatua\",\"parauri\",\"maharatanga\",\"tararua\",\"parapara\",\"patupatu\",\"whakat\\u016bngia\",\"matiu_rata\",\"tetahi\",\"t\\u016bwatawata\",\"maire\",\"kaupeka\",\"wharau\",\"paku_iho\",\"kiekie\",\"whakangaro\",\"kaum\\u0101tuatanga\",\"toitehuatahi\",\"huarere\",\"p\\u014dkia\",\"purotu\",\"r\\u0101hera\",\"\\u014dna_makawe\",\"rarohenga\",\"k\\u0113nana\",\"whakautua\",\"pou_haki\",\"rohenga\",\"polynesian\",\"mataara\",\"umuroa\",\"tahitia\",\"wairewa\",\"hoki_whakamuri\",\"\\u014d_r\\u0101tou_t\\u012bpuna\",\"tekau_m\\u0101_iwa\",\"whakairohia\",\"wairua_auaha\",\"whakahiato\",\"pah\\u012b\",\"urungi\",\"tipa\",\"tuwheratanga\",\"home\",\"whakarerek\\u0113tia\",\"h\\u012bra\",\"ihow\\u0101\",\"wh\\u0101nuitanga\",\"h\\u012bmene\",\"whitiorongomai\",\"p\\u0113pi\",\"kaiwhakaari\",\"\\u014dpera\",\"atamira\",\"m\\u0101tai\",\"p\\u0101kihiwhakatekatekaawaitaha\",\"katikati\",\"taipari\",\"tukumana\",\"pakangatia\",\"rangitukia\",\"rotomahana\",\"hohoro\",\"hineit\\u016brama\",\"itari\",\"huatahi\",\"rangap\\u016b\",\"\\u0101piha_toko\",\"m\\u012bria\",\"kiti\",\"piriniha\",\"wirihana\",\"whakatapu\",\"m\\u0101renatia\",\"whakap\\u0101p\\u0101\",\"t\\u0101hiwi\",\"whakaurunga\",\"whakaparahako\",\"pou_kara\",\"\\u0101kuanei_pea\",\"m\\u0101kere\",\"tirik\\u0101tene\",\"kakapi\",\"wharetutu\",\"n\\u0101kahi\",\"p\\u0101tete\",\"kaiwhakataki\",\"p\\u0101taka_kai\",\"whakam\\u0101tauria\",\"moana_uriuri\",\"p\\u0113r\\u0101tia\",\"rarahi\",\"raup\\u014d\",\"k\\u0101kahi\",\"t\\u0101mure\",\"h\\u012bkina\",\"whakanikoniko\",\"tokerau\",\"kaupapa_ahuwhenua\",\"ranei\",\"kikorangi\",\"koro\",\"torotoro_haere\",\"uia\",\"kuhuna\",\"whakakeke\",\"p\\u0113hia\",\"arotahi\",\"p\\u0101paku\",\"t\\u016bhuratia\",\"porowhita\",\"pakipaki\",\"t\\u016bkinotanga\",\"r\\u0101waho\",\"pakupaku_noa\",\"karu\",\"p\\u012bp\\u012bwharauroa\",\"n\\u0101n\\u0101\",\"ng\\u0101ti_ranginui\",\"korikori\",\"angit\\u016b\",\"tautohea\",\"witi_ihimaera\",\"ngati\",\"pirinoa\",\"tarea\",\"hunaia\",\"tou\",\"hiranga\",\"paewai\",\"w\\u0101w\\u0101hia\",\"tuia\",\"katinga\",\"tekaum\\u0101rua\",\"hauraro\",\"t\\u016brangi\",\"werawera\",\"hautaka\",\"poutini_ng\\u0101i_tahu\",\"wharekura\",\"koutu\",\"hainahia\",\"mate_manawa\",\"whakakorenga\",\"we\",\"pitoone_petone\",\"whakaputahia\",\"poronihia_tata\",\"tiketike\",\"uriohau\",\"rumaki\",\"takanga\",\"\\u0101pihai\",\"rukup\\u014d\",\"niu_tireni\",\"manawap\\u0101\",\"ng\\u0101piki\",\"taumutu\",\"tokoiwa\",\"waipukurau\",\"ure\",\"wera_hauraki\",\"waipatu\",\"k\\u014dhurutia\",\"ito\",\"w\\u0101kana_v\\u00f6lkner\",\"urutomo\",\"peti\",\"kereme\",\"puni_k\\u014dkiri\",\"tinitini\",\"komiti_tohutohu\",\"an\\u0101_k\\u0113\",\"kair\\u012bpoata\",\"erangi\",\"whakah\\u0101wea\",\"kirimina\",\"\\u0101kuanei\",\"h\\u012bpango\",\"tareahi\",\"takamoana\",\"tarap\\u012bpipi\",\"whakarauora\",\"marut\\u016b\\u0101hu\",\"moko_kauae\",\"tuini_ng\\u0101wai\",\"mahuru\",\"tahito\",\"pout\\u016bterangi\",\"moutere_ririki\",\"ipo\",\"\\u014dku\",\"makuru\",\"pukepuke\",\"whakat\\u014dngia\",\"raweke\",\"tapuae\",\"whakah\\u0101ngai\",\"kono\",\"aitanga\",\"anuanu\",\"m\\u014dunu\",\"ng\\u0101ti_r\\u0101hiri\",\"ruapekapeka\",\"ngaruroro\",\"k\\u014dnae\",\"koin\\u0101\",\"kahutiaterangi\",\"neher\\u0101\",\"ahurewa\",\"poho\",\"papatipu\",\"taurapa\",\"mahuika\",\"korimako\",\"nohinohi\",\"tui\",\"tope\",\"manu_aute\",\"tamariki_tokorima\",\"ahumoni\",\"whakahere\",\"whai_kiko\",\"tohia\",\"hineteiwaiwa\",\"whakarewaina\",\"whakater\\u0101whiti\",\"k\\u0101uta\",\"meneti\",\"p\\u0101hau\",\"torutoru\",\"hoahoanga\",\"huritau\",\"waihangatanga\",\"nekenga\",\"pita_pereiha\",\"k\\u0101rangaranga\",\"raupapa\",\"r\\u014dp\\u016b_poronihiana\",\"m\\u014dt\\u012bt\\u012b\",\"m\\u0101reikura\",\"p\\u012bkau\",\"raharuhi_rukup\\u014d\",\"mokopuna_tuarua\",\"t\\u016bria\",\"kaituku\",\"t\\u0101wai\",\"kaih\\u016b\",\"kohimarama\",\"aweawe\",\"h\\u016bnga\",\"hoani_waititi\",\"rota\",\"rika\",\"amohau\",\"whakataetaetanga\",\"m\\u0101horahora\",\"whaka\\u016bngia\",\"koaea\",\"r\\u0113nata_kawep\\u014d\",\"tukunga_iho\",\"piipi\",\"m\\u014dnita\",\"horotiu\",\"h\\u0101mi\",\"rangiuia\",\"rongonga\",\"rehutai\",\"whakanoa\",\"rangiip\\u0101ia\",\"ng\\u0101ti_koura\",\"wh\\u0101nau_pani\",\"whakataupuka\",\"tamahore\",\"topeora\",\"ororongo\",\"moka\",\"ahuone\",\"p\\u014dh\\u0101\",\"ururua\",\"whakat\\u014dkia\",\"kohit\\u0101tea\",\"k\\u014daro\",\"miriona_heketea\",\"h\\u0101tepe\",\"raorao\",\"t\\u014d_r\\u0101tou_tipuna\",\"porou\",\"wairaweke\",\"\\u0101tuhi\",\"\\u014dnoke\",\"aurere\",\"k\\u0101wanatanga_r\\u012bpera\",\"puihi\",\"mohoao\",\"mataora\",\"hoa_tauwh\\u0101inga\",\"waipapa\",\"rakataura\",\"t\\u016bturutia\",\"k\\u014drari\",\"whakap\\u014drearea\",\"puna_wai\",\"pekapeka\",\"haehae\",\"h\\u014dhonutanga\",\"kaip\\u0101nui\",\"whakatinanatanga\",\"t\\u0113hea\",\"aranga_ake\",\"r\\u012bpene\",\"takarangi\",\"whakamaru\",\"wh\\u0101ngaihia\",\"reihana\",\"t\\u0101heke\",\"piu\",\"nihoniho\",\"rangiriri\",\"mahinga_toi\",\"rua_mano\",\"pahemo\",\"\\u014dna_tung\\u0101ne\",\"taipua\",\"maheni\",\"mango\",\"rawa_hao_ika\",\"taimana\",\"tutunui\",\"perohuka\",\"whakaw\\u0101teatia\",\"hapanihi\",\"roanga_ake\",\"pirinihi\",\"taraiwa\",\"k\\u014dtimana\",\"reihi\",\"taituar\\u0101\",\"school\",\"t\\u0101ruru_nui\",\"maumaharatia\",\"t\\u0101kina\",\"t\\u016bruki\",\"whakawhiua\",\"wharekahika\",\"whatihua\",\"ngutuotemanu\",\"kaiwhiriwhiri\",\"huataki\",\"haowhenua\",\"whakapuaka\",\"t\\u016bheitia\",\"mahitahi\",\"\\u014drau_noa_iho\",\"wira\",\"tuaruatia\",\"whakahauhautia\",\"k\\u0101ti_koa\",\"taetae_ake\",\"mate_ohorere\",\"t\\u0113ina\",\"atamai\",\"tuhituhia\",\"whakawh\\u0101nuitia\",\"whakakapia\",\"ruki_kawiti\",\"pirimi\",\"k\\u014dhine\",\"p\\u014drere\",\"p\\u0101p\\u0101hia\",\"\\u014draukawa\",\"\\u0101perahama_taonui\",\"whakawh\\u0101nautanga\",\"\\u014dtene_p\\u012btau\",\"rangi_topeora\",\"eruini\",\"mahuki\",\"porot\\u0113hi\",\"kotahi_mano\",\"paopao\",\"mimiti\",\"t\\u0101here\",\"ngakia\",\"horahia\",\"m\\u014dkena_k\\u014dhere\",\"tapuika\",\"t\\u0101kiwira\",\"p\\u014dhutukawa\",\"taitapu\",\"whakatakotoranga\",\"ahipara\",\"hauwh\\u0101\",\"hurihuri\",\"marewa\",\"karoro\",\"wana\",\"uwha\",\"k\\u0101ta\",\"p\\u0101para\",\"pirita\",\"takaroa\",\"ruia\",\"kahikatea\",\"pito_raki\",\"m\\u0101t\\u0101puna\",\"mohi_t\\u016brei\",\"wait\\u0101kere\",\"hihi\",\"whakaorangia\",\"heuheu_t\\u016bkino_ii\",\"whai\\u0101ipo\",\"t\\u0101h\\u016b\",\"p\\u0101keke\",\"t\\u0101ne_mahuta\",\"h\\u014dh\\u0101\",\"whea\",\"whakaaraara\",\"whakaroto\",\"whakahemohemo\",\"kihikihi\",\"whio\",\"ng\\u0101rehu\",\"aoake\",\"rimurapa\",\"k\\u014drerotanga\",\"kapohia\",\"karapoti\",\"h\\u0113rangi\",\"karaehe\",\"h\\u012banga\",\"harakoa\",\"takatakahi\",\"ate\",\"whakakao\",\"hia_k\\u0113\",\"k\\u014dwhaiwhai\",\"miha\",\"k\\u0101nata\",\"whakararu\",\"kaunihera_whiriwhiri\",\"h\\u014drana\",\"t\\u014d_r\\u0101tou_hokinga\",\"taipakeke\",\"reorua\",\"tino_rawe\",\"manakohia\",\"waiata\\u0101ringa\",\"kawerauamaki\",\"t\\u0101_h\\u014dri_kerei\",\"m\\u0101huhukiterangi\",\"ng\\u0101wari_noa\",\"haukit\\u016branga\",\"kaing\\u0101kautia\",\"kokoti\",\"k\\u014dmihana_roera\",\"mautaranui\",\"kimihia\",\"wete\",\"ng\\u0101ti_rongomaiwahine\",\"peeti\",\"whakatekau\",\"p\\u0101k\\u014dwhai\",\"board\",\"urutau\",\"hanganga_hou\",\"porot\\u016b\",\"\\u0101kenehi\",\"heremia\",\"whakarae\",\"kauhanga_riri\",\"wharekauri_ar\\u0101\",\"t\\u0101pukena\",\"hata\",\"atirau\",\"meatanga\",\"r\\u0101wene\",\"h\\u014dia_m\\u014drehu\",\"arohaina\",\"\\u014dna_t\\u0113ina\",\"pereki\",\"h\\u016btana\",\"p\\u0113raka\",\"kai_waipiro\",\"hauk\\u0101inga\",\"tamariki_tokowh\\u0101\",\"h\\u014dk\\u012b\",\"tene\",\"pahikore\",\"tohu_whakah\\u014dnore\",\"hinematioro\",\"k\\u0101enga\",\"matutaera\",\"hemonga\",\"kupu_whakaari\",\"mihikitekapua\",\"p\\u0101titi\",\"maharaia\",\"m\\u0101t\\u0101pono_tiriti\",\"wai_ng\\u0101rahu\"],\"word_count\":[188333,116609,69513,56832,56588,41897,35280,33165,32280,23019,18967,17286,17161,16852,14124,13589,11889,11721,10443,9735,9352,8871,8711,8175,7917,7882,7656,7497,7448,7252,7200,7138,6702,6621,5781,5654,5545,5453,5408,5170,4967,4932,4590,4557,4405,4291,4190,4032,4009,3995,3660,3396,3357,3318,3105,3081,3080,3036,2941,2900,2755,2676,2641,2631,2623,2611,2585,2569,2464,2398,2375,2360,2355,2310,2303,2298,2265,2237,2170,2155,2103,2027,1988,1956,1949,1925,1918,1896,1880,1853,1852,1837,1830,1782,1739,1734,1720,1717,1714,1712,1711,1710,1673,1646,1625,1599,1584,1530,1525,1506,1504,1502,1469,1448,1444,1354,1339,1330,1327,1323,1318,1307,1258,1253,1248,1240,1217,1175,1163,1147,1136,1133,1126,1122,1117,1108,1105,1105,1103,1091,1086,1069,1060,1044,1043,1036,1032,1025,1021,1020,1002,997,995,990,989,984,984,975,972,965,963,962,962,961,957,953,948,946,946,941,931,929,920,912,891,891,890,878,878,871,848,842,835,831,807,800,795,794,768,766,763,759,758,756,749,746,744,744,739,739,738,736,732,725,724,717,705,701,699,694,689,684,681,677,667,661,661,657,656,649,646,645,639,636,636,628,626,624,624,620,610,605,604,602,602,600,599,593,591,591,588,587,586,570,565,565,565,564,562,559,548,547,545,545,543,535,531,528,525,525,519,518,515,513,512,509,504,503,502,494,494,494,491,488,488,487,486,480,480,477,476,476,476,475,474,473,469,466,465,465,463,463,462,461,454,454,451,450,448,448,447,445,445,445,444,444,444,443,441,440,439,439,437,436,436,436,433,429,429,428,428,428,427,424,422,422,419,419,419,418,417,417,417,416,415,413,412,409,406,406,400,396,396,396,395,395,392,392,392,391,388,388,387,385,384,384,383,381,380,377,377,374,369,369,367,366,366,365,365,362,362,358,358,358,352,352,351,351,348,347,347,345,345,345,343,340,338,336,335,335,335,334,334,333,333,333,332,330,329,329,326,326,326,324,322,322,321,320,320,319,317,316,316,316,315,314,313,313,312,311,309,307,307,305,305,304,303,302,302,300,300,300,300,300,299,299,298,298,297,296,296,294,293,292,291,290,288,287,287,287,286,285,285,285,284,283,283,282,281,281,281,280,280,279,279,278,276,276,276,275,275,274,274,274,274,273,273,273,273,271,271,271,270,269,269,266,265,265,264,264,264,263,263,263,262,261,261,260,259,259,258,257,257,256,256,255,255,253,252,252,251,251,249,248,247,246,245,245,243,243,243,242,241,241,238,238,237,236,236,236,236,235,235,235,234,234,234,234,233,229,229,229,228,227,226,226,225,225,225,224,224,224,224,223,223,222,222,222,221,220,220,218,218,217,216,215,215,215,215,213,212,212,211,211,211,211,209,209,209,208,207,207,206,206,206,206,205,204,204,204,203,203,203,202,202,202,202,201,200,200,200,199,198,198,197,197,196,196,196,195,195,194,194,193,193,193,193,192,192,192,191,191,191,190,189,189,188,188,188,188,187,187,187,187,186,185,185,185,184,184,183,183,183,183,183,183,182,182,181,181,181,181,181,181,180,180,180,179,179,179,178,178,177,177,176,176,176,176,175,175,175,175,174,174,173,173,173,173,172,172,172,172,172,172,172,171,171,171,171,171,171,171,170,170,170,170,169,169,169,168,168,168,168,168,168,167,167,167,167,167,166,166,166,166,166,165,165,165,165,164,164,163,163,163,162,162,161,161,161,160,159,159,159,158,158,158,158,158,158,158,158,157,157,157,157,156,156,156,156,155,155,155,154,154,154,153,153,153,153,153,153,153,153,152,152,151,151,151,150,150,150,150,150,149,148,148,148,148,148,147,147,147,147,147,147,147,147,147,146,146,146,146,146,145,145,145,145,145,144,144,143,143,143,143,143,143,142,142,142,141,140,140,140,139,139,139,139,139,139,139,139,139,139,138,138,138,137,137,137,137,136,136,136,136,135,135,135,134,134,134,134,134,134,134,134,134,133,133,133,133,133,132,132,132,132,132,131,131,131,131,131,130,130,130,130,130,130,129,129,129,129,129,128,128,128,127,127,127,127,127,127,126,126,126,126,126,126,126,126,126,125,125,125,125,125,125,125,125,125,125,125,124,124,124,124,124,123,123,123,123,123,123,122,122,122,122,122,122,121,121,121,121,121,120,120,120,120,120,120,120,120,120,119,119,119,119,119,118,118,118,118,117,117,117,117,116,116,116,116,116,116,116,116,116,116,116,116,115,115,115,114,114,114,114,114,114,113,113,112,112,112,112,112,112,112,112,112,112,111,111,111,111,111,111,111,111,110,110,110,110,110,110,110,110,110,109,109,109,109,109,108,108,108,108,108,108,108,108,108,108,107,107,107,107,107,107,106,106,106,106,106,105,105,105,105,105,105,105,105,104,104,104,104,104,103,103,103,103,103,103,103,103,103,103,103,102,102,102,102,102,102,102,102,102,102,102,102,101,101,101,101,101,101,101,101,100,100,100,100,100,100,100,100,100,99,99,99,99,99,99,98,98,98,98,98,97,97,97,97,97,97,97,97,97,97,97,97,97,97,97,96,96,96,96,96,96,96,96,96,96,95,95,95,95,95,95,95,95,95,94,94,94,94,94,94,94,94,94,94,94,93,93,93,93,93,93,93,93,93,92,92,92,92,92,92,92,92,91,91,91,91,91,91,91,91,91,91,91,91,91,91,91,90,90,90,90,90,89,89,89,89,89,89,89,89,88,88,88,88,88,88,88,88,88,88,87,87,87,87,87,87,87,87,87,87,87,87,86,86,86,86,86,86,86,86,86,86,86,86,85,85,85,85,85,85,85,85,85,85,84,84,84,84,84,84,84,84,84,84,84,84,84,84,84,83,83,83,83,83,83,83,83,83,83,83,82,82,82,82,82,82,82,82,82,82,82,82,82,81,81,81,81,81,81,81,81,81,81,81,81,81,81,81,81,81,81,81,81,81,81,80,80,80,80,80,80,80,80,80,80,80,80,80,80,80,79,79,79,79,79,79,79,79,79,79,79,78,78,78,78,78,78,78,78,78,78,77,77,77,77,77,77,77,77,77,77,77,77,77,76,76,76,76,76,76,76,76,76,76,76,76,76,76,76,76,76,76,76,75,75,75,75,75,75,75,75,75,75,74,74,74,74,74,74,74,74,74,74,74,74,74,74,73,73,73,73,73,73,73,73,73,73,73,73,73,73,73,73,73,72,72,72,72,72,72,72,72,72,72,72,72,72,72,72,72,72,71,71,71,71,71,71,71,70,70,70,70,70,70,70,70,70,70,70,70,70,70,70,70,70,69,69,69,69,69,69,69,69,69,69,69,68,68,68,68,68,68,68,68,68,68,68,68,68,68,68,68,68,67,67,67,67,67,67,67,67,67,67,67,67,67,67,67,67,67,67,67,67,67,67,66,66,66,66,66,66,66,66,66,66,66,66,66,66,66,66,66,66,66,66,65,65,65,65,65,65,65,65,65,65,65,65,65,65,65,65,65,65,65,65,65,64,64,64,64,64,64,64,64,64,64,64,64,64,63,63,63,63,63,63,63,63,63,63,63,63,63,63,63,63,63,63,63,63,63,63,62,62,62,62,62,62,62,62,62,62,62,62,62,62,62,62,62,62,62,62,62,62,61,61,61,61,61,61,61,61,61,61,61,61,61,61,61,61,61,61,61,61,60,60,60,60,60,60,60,60,60,60,60,60,60,60,60,60,60,59,59,59,59,59,59,59,59,59,59,59,59,59,59,59,59,59,59,59,59,59,58,58,58,58,58,58,58,58,58,58,58,58,58,57,57,57,57,57,57,57,57,57,57,57,57,57,57,57,57,57,57,57,56,56,56,56,56,56,56,56,56,56,56,56,56,56,56,56,56,56,56,56,56,55,55,55,55,55,55,55,55,55,55,55,55,55,55,55,55,55,55,55,55,55,55,55,55,54,54,54,54,54,54,54,54,54,54,54,54,54,54,54,54,54,54,54,54,54,54,54,54,54,54,54,54,53,53,53,53,53,53,53,53,53,53,53,53,53,53,53,53,53,53,53,53,53,53,53,53,53,53,53,53,52,52,52,52,52,52,52,52,52,52,52,52,52,52,52,52,52,52,52,52,52,52,52,52,51,51,51,51,51,51,51,51,51,51,51,51,51,51,51,51,51,51,51,50,50,50,50,50,50,50,50,50,50,50,50,50,50,50,50,50,50,50,50,50,50,50,50,49,49,49,49,49,49,49,49,49,49,49,49,49,49,49,49,49,49,49,49,49,48,48,48,48,48,48,48,48,48,48,48,48,48,48,48,48,48,48,48,48,48,48,48,48,48,48,48,48,48,48,48,48,48,48,48,48,48,48,48,48,47,47,47,47,47,47,47,47,47,47,47,47,47,47,47,47,47,47,47,47,47,47,47,47,47,47,47,47,47,47,47,47,47,47,47,47,47,46,46,46,46,46,46,46,46,46,46,46,46,46,46,46,46,46,46,46,46,46,46,46,46,46,46,46,46,46,46,46,46,46,46,46,46,46,46,45,45,45,45,45,45,45,45,45,45,45,45,45,45,45,45,45,45,45,45,45,45,45,45,45,45,45,45,45,45,45,45,45,45,45,45,44,44,44,44,44,44,44,44,44,44,44,44,44,44,44,44,44,44,44,44,44,44,44,44,44,44,44,44,44,44,44,44,44,44,44,44,44,44,44,43,43,43,43,43,43,43,43,43,43,43,43,43,43,43,43,43,43,43,43,43,43,43,43,43,43,43,43,43,43,43,43,43,43,43,42,42,42,42,42,42,42,42,42,42,42,42,42,42,42,42,42,42,42,42,42,42,42,42,42,42,42,41,41,41,41,41,41,41,41,41,41,41,41,41,41,41,41,41,41,41,41,41,41,41,41,41,41,41,41,41,41,41,41,41,41,40,40,40,40,40,40,40,40,40,40,40,40,40,40,40,40,40,40,40,40,40,40,40,40,40,40,40,40,40,40,40,40,40,40,40,40,40,39,39,39,39,39,39,39,39,39,39,39,39,39,39,39,39,39,39,39,39,39,39,39,39,39,39,39,39,39,39,39,39,39,39,39,39,39,39,39,39,39,38,38,38,38,38,38,38,38,38,38,38,38,38,38,38,38,38,38,38,38,38,38,38,38,38,38,38,38,38,38,38,38,38,38,38,38,38,38,38,38,38,38,38,38,38,38,38,38,38,38,38,37,37,37,37,37,37,37,37,37,37,37,37,37,37,37,37,37,37,37,37,37,37,37,37,37,37,37,37,37,37,37,37,37,37,37,37,37,37,37,37,37,37,37,37,37,37,37,36,36,36,36,36,36,36,36,36,36,36,36,36,36,36,36,36,36,36,36,36,36,36,36,36,36,36,36,36,36,36,36,36,36,36,36,36,36,36,36,36,35,35,35,35,35,35,35,35,35,35,35,35,35,35,35,35,35,35,35,35,35,35,35,35,35,35,35,35,35,35,35,35,35,35,35,35,35,35,35,35,35,35,35,35,35,35,35,35,35,35,35,35,35,35,35,34,34,34,34,34,34,34,34,34,34,34,34,34,34,34,34,34,34,34,34,34,34,34,34,34,34,34,34,34,34,34,34,34,34,34,34,34,34,34,34,34,34,34,34,34,34,34,33,33,33,33,33,33,33,33,33,33,33,33,33,33,33,33,33,33,33,33,33,33,33,33,33,33,33,33,33,33,33,33,33,33,33,33,33,33,33,33,33,33,33,33,33,33,33,33,33,33,32,32,32,32,32,32,32,32,32,32,32,32,32,32,32,32,32,32,32,32,32,32,32,32,32,32,32,32,32,32,32,32,32,32,32,32,32,32,32,32,32,32,31,31,31,31,31,31,31,31,31,31,31,31,31,31,31,31,31,31,31,31,31,31,31,31,31,31,31,31,31,31,31,31,31,31,31,31,31,31,31,31,31,31,31,31,31,31,31,31,31,31,31,31,31,31,31,31,31,31,31,31,31,31,31,31,31,31,31,31,31,31,31,31,31,31,31,31,30,30,30,30,30,30,30,30,30,30,30,30,30,30,30,30,30,30,30,30,30,30,30,30,30,30,30,30,30,30,30,30,30,30,30,30,30,30,30,30,30,30,30,30,30,30,30,30,30,30,30,30,30,30,30,30,30,30,30,30,30,30,30,29,29,29,29,29,29,29,29,29,29,29,29,29,29,29,29,29,29,29,29,29,29,29,29,29,29,29,29,29,29,29,29,29,29,29,29,29,29,29,29,29,29,29,29,29,29,29,29,29,29,29,29,29,28,28,28,28,28,28,28,28,28,28,28,28,28,28,28,28,28,28,28,28,28,28,28,28,28,28,28,28,28,28,28,28,28,28,28,28,28,28,28,28,28,28,28,28,28,28,28,28,28,28,28,28,28,28,28,28,28,28,28,28,28,28,28,28,28,28,28,28,28,28,28,28,28,28,27,27,27,27,27,27,27,27,27,27,27,27,27,27,27,27,27,27,27,27,27,27,27,27,27,27,27,27,27,27,27,27,27,27,27,27,27,27,27,27,27,27,27,27,27,27,27,27,27,27,27,27,27,27,27,27,27,27,27,27,27,27,27,27,27,27,27,27,27,27,27,27,27,27,27,27,27,27,27,27,27,27,27,27,27,27,27,27,26,26,26,26,26,26,26,26,26,26,26,26,26,26,26,26,26,26,26,26,26,26,26,26,26,26,26,26,26,26,26,26,26,26,26,26,26,26,26,26,26,26,26,26,26,26,26,26,26,26,26,26,26,26,26,26,26,26,26,26,26,26,26,26,26,25,25,25,25,25,25,25,25,25,25,25,25,25,25,25,25,25,25,25,25,25,25,25,25,25,25,25,25,25,25,25,25,25,25,25,25,25,25,25,25,25,25,25,25,25,25,25,25,25,25,25,25,25,25,25,25,25,25,25,25,25,25,25,25,25,25,25,25,25,25,25,25,25,25,25,25,25,25,25,24,24,24,24,24,24,24,24,24,24,24,24,24,24,24,24,24,24,24,24,24,24,24,24,24,24,24,24,24,24,24,24,24,24,24,24,24,24,24,24,24,24,24,24,24,24,24,24,24,24,24,24,24,24,24,24,24,24,24,24,24,24,24,24,24,24,24,24,24,24,24,24,24,24,24,24,24,24,24,24,24,24,24,24,24,24,24,24,24,24,24,24,24,24,24,24,23,23,23,23,23,23,23,23,23,23,23,23,23,23,23,23,23,23,23,23,23,23,23,23,23,23,23,23,23,23,23,23,23,23,23,23,23,23,23,23,23,23,23,23,23,23,23,23,23,23,23,23,23,23,23,23,23,23,23,23,23,23,23,23,23,23,23,23,23,23,23,23,23,23,23,23,23,23,23,23,23,23,23,23,23,23,23,23,23,23,23,23,23,23,23,23,23,23,23,22,22,22,22,22,22,22,22,22,22,22,22,22,22,22,22,22,22,22,22,22,22,22,22,22,22,22,22,22,22,22,22,22,22,22,22,22,22,22,22,22,22,22,22,22,22,22,22,22,22,22,22,22,22,22,22,22,22,22,22,22,22,22,22,22,22,22,22,22,22,22,22,22,22,22,22,22,22,22,22,22,22,22,22,22,22,22,22,22,22,21,21,21,21,21,21,21,21,21,21,21,21,21,21,21,21,21,21,21,21,21,21,21,21,21,21,21,21,21,21,21,21,21,21,21,21,21,21,21,21,21,21,21,21,21,21,21,21,21,21,21,21,21,21,21,21,21,21,21,21,21,21,21,21,21,21,21,21,21,21,21,21,21,21,21,21,21,21,21,21,21,21,21,21,21,21,21,21,21,21,21,21,21,21,21,21,21,21,21,21,21,21,20,20,20,20,20,20,20,20,20,20,20,20,20,20,20,20,20,20,20,20,20,20,20,20,20,20,20,20,20,20,20,20,20,20,20,20,20,20,20,20,20,20,20,20,20,20,20,20,20,20,20,20,20,20,20,20,20,20,20,20,20,20,20,20,20,20,20,20,20,20,20,20,20,20,20,20,20,20,20,20,20,20,20,20,20,20,20,20,20,20,20,20,20,20,20,20,20,20,20,20,20,20,20,20,20,20,20,20,20,20,20,20,20,20,20,20,20,20,20,20,20],\"x_coord\":{\"__ndarray__\":\"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\",\"dtype\":\"float32\",\"shape\":[3560]},\"y_coord\":{\"__ndarray__\":\"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\",\"dtype\":\"float32\",\"shape\":[3560]}},\"selected\":{\"id\":\"53102481-e572-4be4-ae07-080bc600af95\",\"type\":\"Selection\"},\"selection_policy\":{\"id\":\"293c3589-e9f6-46c0-aafd-3806195b69b1\",\"type\":\"UnionRenderers\"}},\"id\":\"ae005570-2fe5-4508-98b7-4a9b4a785301\",\"type\":\"ColumnDataSource\"},{\"attributes\":{},\"id\":\"c8028a05-0725-4947-b94d-0a75c723b2c3\",\"type\":\"PanTool\"},{\"attributes\":{\"data_source\":{\"id\":\"ae005570-2fe5-4508-98b7-4a9b4a785301\",\"type\":\"ColumnDataSource\"},\"glyph\":{\"id\":\"49606766-f584-40da-9367-a91d629e0e27\",\"type\":\"Circle\"},\"hover_glyph\":{\"id\":\"62efec41-e7b6-4359-b72c-30279a35ae69\",\"type\":\"Circle\"},\"muted_glyph\":null,\"nonselection_glyph\":{\"id\":\"c9342209-2421-494a-92f5-d02cd21e2fd3\",\"type\":\"Circle\"},\"selection_glyph\":null,\"view\":{\"id\":\"100d2005-4119-4f7c-801b-02491ae21968\",\"type\":\"CDSView\"}},\"id\":\"7db4c41a-830a-4518-9328-9dff42b49df6\",\"type\":\"GlyphRenderer\"},{\"attributes\":{},\"id\":\"c31ff733-42b9-47b1-a4c5-69e082736360\",\"type\":\"WheelZoomTool\"},{\"attributes\":{\"plot\":null,\"text\":\"t-SNE Word Embeddings\",\"text_font_size\":{\"value\":\"16pt\"}},\"id\":\"04a195e5-c933-4640-a5fe-55fc080b5634\",\"type\":\"Title\"},{\"attributes\":{\"callback\":null,\"renderers\":\"auto\",\"tooltips\":\"@word\"},\"id\":\"ead13164-838c-4003-8456-ba348960016c\",\"type\":\"HoverTool\"},{\"attributes\":{\"callback\":null},\"id\":\"fa03919a-c6f0-40bf-a331-73ae0486df3a\",\"type\":\"DataRange1d\"},{\"attributes\":{\"overlay\":{\"id\":\"ffc4b576-896a-4a32-af11-445c85913993\",\"type\":\"BoxAnnotation\"}},\"id\":\"1339995c-8649-48cd-9a57-24dd073dba42\",\"type\":\"BoxZoomTool\"},{\"attributes\":{\"callback\":null,\"overlay\":{\"id\":\"3b416300-1c33-4b5b-8c90-5c9039e8ed60\",\"type\":\"BoxAnnotation\"}},\"id\":\"7bf50e88-8be2-4a4a-ae36-299b65fef9bb\",\"type\":\"BoxSelectTool\"},{\"attributes\":{},\"id\":\"dfadfd5b-b218-4c9c-9270-43fd48496949\",\"type\":\"ResetTool\"},{\"attributes\":{},\"id\":\"b4c0e9c0-06b5-4242-82d4-54d3f7361766\",\"type\":\"LinearScale\"},{\"attributes\":{\"fill_alpha\":{\"value\":0.1},\"fill_color\":{\"value\":\"#1f77b4\"},\"line_alpha\":{\"value\":0.1},\"line_color\":{\"value\":\"#1f77b4\"},\"size\":{\"units\":\"screen\",\"value\":10},\"x\":{\"field\":\"x_coord\"},\"y\":{\"field\":\"y_coord\"}},\"id\":\"c9342209-2421-494a-92f5-d02cd21e2fd3\",\"type\":\"Circle\"},{\"attributes\":{\"fill_color\":{\"value\":\"#1f77b4\"},\"size\":{\"units\":\"screen\",\"value\":10},\"x\":{\"field\":\"x_coord\"},\"y\":{\"field\":\"y_coord\"}},\"id\":\"62efec41-e7b6-4359-b72c-30279a35ae69\",\"type\":\"Circle\"},{\"attributes\":{\"fill_alpha\":{\"value\":0.1},\"fill_color\":{\"value\":\"blue\"},\"line_alpha\":{\"value\":0.2},\"line_color\":{\"value\":\"blue\"},\"size\":{\"units\":\"screen\",\"value\":10},\"x\":{\"field\":\"x_coord\"},\"y\":{\"field\":\"y_coord\"}},\"id\":\"49606766-f584-40da-9367-a91d629e0e27\",\"type\":\"Circle\"},{\"attributes\":{\"bottom_units\":\"screen\",\"fill_alpha\":{\"value\":0.5},\"fill_color\":{\"value\":\"lightgrey\"},\"left_units\":\"screen\",\"level\":\"overlay\",\"line_alpha\":{\"value\":1.0},\"line_color\":{\"value\":\"black\"},\"line_dash\":[4,4],\"line_width\":{\"value\":2},\"plot\":null,\"render_mode\":\"css\",\"right_units\":\"screen\",\"top_units\":\"screen\"},\"id\":\"3b416300-1c33-4b5b-8c90-5c9039e8ed60\",\"type\":\"BoxAnnotation\"}],\"root_ids\":[\"f561d03d-8e1e-471b-b856-b1154ce271fe\"]},\"title\":\"Bokeh Application\",\"version\":\"0.13.0\"}};\n",
       "  var render_items = [{\"docid\":\"ed2046f4-f5dc-4c5f-8f4a-348519a1da98\",\"roots\":{\"f561d03d-8e1e-471b-b856-b1154ce271fe\":\"e293793c-f70b-4026-b047-058d6f5c1868\"}}];\n",
       "  root.Bokeh.embed.embed_items_notebook(docs_json, render_items);\n",
       "\n",
       "  }\n",
       "  if (root.Bokeh !== undefined) {\n",
       "    embed_document(root);\n",
       "  } else {\n",
       "    var attempts = 0;\n",
       "    var timer = setInterval(function(root) {\n",
       "      if (root.Bokeh !== undefined) {\n",
       "        embed_document(root);\n",
       "        clearInterval(timer);\n",
       "      }\n",
       "      attempts++;\n",
       "      if (attempts > 100) {\n",
       "        console.log(\"Bokeh: ERROR: Unable to run BokehJS code because BokehJS library is missing\")\n",
       "        clearInterval(timer);\n",
       "      }\n",
       "    }, 10, root)\n",
       "  }\n",
       "})(window);"
      ],
      "application/vnd.bokehjs_exec.v0+json": ""
     },
     "metadata": {
      "application/vnd.bokehjs_exec.v0+json": {
       "id": "f561d03d-8e1e-471b-b856-b1154ce271fe"
      }
     },
     "output_type": "display_data"
    }
   ],
   "source": [
    "# add our DataFrame as a ColumnDataSource for Bokeh\n",
    "plot_data = ColumnDataSource(tsne_vectors)\n",
    "\n",
    "# create the plot and configure the\n",
    "# title, dimensions, and tools\n",
    "tsne_plot = figure(title=u't-SNE Word Embeddings',\n",
    "                   plot_width = 800,\n",
    "                   plot_height = 800,\n",
    "                   tools= (u'pan, wheel_zoom, box_zoom,'\n",
    "                           u'box_select, reset'),\n",
    "                   active_scroll=u'wheel_zoom')\n",
    "\n",
    "# add a hover tool to display words on roll-over\n",
    "tsne_plot.add_tools( HoverTool(tooltips = u'@word') )\n",
    "\n",
    "# draw the words as circles on the plot\n",
    "tsne_plot.circle(u'x_coord', u'y_coord', source=plot_data,\n",
    "                 color=u'blue', line_alpha=0.2, fill_alpha=0.1,\n",
    "                 size=10, hover_line_color=u'black')\n",
    "\n",
    "# configure visual elements of the plot\n",
    "tsne_plot.title.text_font_size = value(u'16pt')\n",
    "tsne_plot.xaxis.visible = False\n",
    "tsne_plot.yaxis.visible = False\n",
    "tsne_plot.grid.grid_line_color = None\n",
    "tsne_plot.outline_line_color = None\n",
    "\n",
    "# engage!\n",
    "show(tsne_plot);"
   ]
  },
  {
   "cell_type": "markdown",
   "metadata": {},
   "source": [
    "# UMAP clustering"
   ]
  },
  {
   "cell_type": "code",
   "execution_count": 59,
   "metadata": {},
   "outputs": [],
   "source": [
    "umap_filepath = '../models/te_ara_umap.model'\n",
    "umap_vectors_filepath = '../models/umap_vectors.npy'"
   ]
  },
  {
   "cell_type": "code",
   "execution_count": 60,
   "metadata": {},
   "outputs": [
    {
     "name": "stdout",
     "output_type": "stream",
     "text": [
      "CPU times: user 31.4 ms, sys: 104 ms, total: 135 ms\n",
      "Wall time: 235 ms\n"
     ]
    }
   ],
   "source": [
    "%%time\n",
    "\n",
    "if from_scratch or not os.path.exists(umap_filepath):\n",
    "    \n",
    "    umap = UMAP()\n",
    "    umap_vectors = umap.fit_transform(dist_matrix.values)\n",
    "    \n",
    "    with open(umap_filepath, 'wb') as f:\n",
    "        pickle.dump(umap, f)\n",
    "\n",
    "    pd.np.save(umap_vectors_filepath, umap_vectors)\n",
    "\n",
    "else:\n",
    "    with open(umap_filepath, 'rb') as f:\n",
    "        tsne = pickle.load(f)\n",
    "\n",
    "umap_vectors = pd.np.load(umap_vectors_filepath)\n",
    "\n",
    "umap_vectors = pd.DataFrame(umap_vectors,\n",
    "                            index=pd.Index(dist_matrix.index),\n",
    "                            columns=[u'x_coord', u'y_coord'])\n",
    "\n",
    "umap_vectors['word'] = umap_vectors.index"
   ]
  },
  {
   "cell_type": "code",
   "execution_count": 61,
   "metadata": {},
   "outputs": [],
   "source": [
    "umap_vectors.reset_index(drop=True).to_csv(\"../data/umap.csv\", index = False)"
   ]
  },
  {
   "cell_type": "code",
   "execution_count": 62,
   "metadata": {},
   "outputs": [
    {
     "data": {
      "text/plain": [
       "<matplotlib.axes._subplots.AxesSubplot at 0x7f830a2ae6a0>"
      ]
     },
     "execution_count": 62,
     "metadata": {},
     "output_type": "execute_result"
    },
    {
     "data": {
      "image/png": "[encoded data removed]",
      "text/plain": [
       "<Figure size 432x288 with 1 Axes>"
      ]
     },
     "metadata": {
      "needs_background": "light"
     },
     "output_type": "display_data"
    }
   ],
   "source": [
    "umap_vectors.plot(kind = 'scatter', x = 'x_coord', y = 'y_coord')"
   ]
  },
  {
   "cell_type": "code",
   "execution_count": 63,
   "metadata": {},
   "outputs": [
    {
     "data": {
      "text/html": [
       "\n",
       "\n",
       "\n",
       "\n",
       "\n",
       "\n",
       "  <div class=\"bk-root\" id=\"c1a25d98-42ff-4d87-b5a1-ef5ec1682151\"></div>\n"
      ]
     },
     "metadata": {},
     "output_type": "display_data"
    },
    {
     "data": {
      "application/javascript": [
       "(function(root) {\n",
       "  function embed_document(root) {\n",
       "    \n",
       "  var docs_json = {\"8af2ca48-f1e1-4bb3-a6d7-c6c402aa5c0d\":{\"roots\":{\"references\":[{\"attributes\":{\"callback\":null},\"id\":\"5d0c1938-24f6-44e4-8e3b-a0dbdf7d99ba\",\"type\":\"DataRange1d\"},{\"attributes\":{\"callback\":null,\"overlay\":{\"id\":\"4377a1c3-2502-4ae7-85f2-8bf7004d471a\",\"type\":\"BoxAnnotation\"}},\"id\":\"f244a3a0-83c2-4185-a5d5-b3fd64d0a050\",\"type\":\"BoxSelectTool\"},{\"attributes\":{\"bottom_units\":\"screen\",\"fill_alpha\":{\"value\":0.5},\"fill_color\":{\"value\":\"lightgrey\"},\"left_units\":\"screen\",\"level\":\"overlay\",\"line_alpha\":{\"value\":1.0},\"line_color\":{\"value\":\"black\"},\"line_dash\":[4,4],\"line_width\":{\"value\":2},\"plot\":null,\"render_mode\":\"css\",\"right_units\":\"screen\",\"top_units\":\"screen\"},\"id\":\"5ab2a891-9e0e-4f47-9e42-b646fb0c8060\",\"type\":\"BoxAnnotation\"},{\"attributes\":{},\"id\":\"16957b37-6d0c-4327-b33d-ce3b9a94f6eb\",\"type\":\"BasicTicker\"},{\"attributes\":{},\"id\":\"c4d5b266-0992-4382-a02e-9b50229e2944\",\"type\":\"ResetTool\"},{\"attributes\":{\"plot\":null,\"text\":\"UMAP Word Embeddings\",\"text_font_size\":{\"value\":\"16pt\"}},\"id\":\"a74ad9c6-3b56-42f7-9d81-a3089ddbae4a\",\"type\":\"Title\"},{\"attributes\":{},\"id\":\"3f141f85-4d2c-48d7-869a-49b93c6537f9\",\"type\":\"UnionRenderers\"},{\"attributes\":{\"active_drag\":\"auto\",\"active_inspect\":\"auto\",\"active_multi\":null,\"active_scroll\":{\"id\":\"c26e0ad1-dd4e-4a48-a8b2-98536996d39b\",\"type\":\"WheelZoomTool\"},\"active_tap\":\"auto\",\"tools\":[{\"id\":\"bf12ff80-1cf6-484c-af6f-a2cccb475d0e\",\"type\":\"PanTool\"},{\"id\":\"c26e0ad1-dd4e-4a48-a8b2-98536996d39b\",\"type\":\"WheelZoomTool\"},{\"id\":\"53adeb71-5e57-4a89-a8ac-fd697be625e1\",\"type\":\"BoxZoomTool\"},{\"id\":\"f244a3a0-83c2-4185-a5d5-b3fd64d0a050\",\"type\":\"BoxSelectTool\"},{\"id\":\"c4d5b266-0992-4382-a02e-9b50229e2944\",\"type\":\"ResetTool\"},{\"id\":\"78205dc5-205a-4569-926d-7869e9341b16\",\"type\":\"HoverTool\"}]},\"id\":\"5e480767-5c95-47d0-ae6a-764bdd88ce87\",\"type\":\"Toolbar\"},{\"attributes\":{\"dimension\":1,\"grid_line_color\":{\"value\":null},\"plot\":{\"id\":\"8d23b74c-c6b4-49ad-bab0-0fcb48ac4272\",\"subtype\":\"Figure\",\"type\":\"Plot\"},\"ticker\":{\"id\":\"16957b37-6d0c-4327-b33d-ce3b9a94f6eb\",\"type\":\"BasicTicker\"}},\"id\":\"75ef5e69-4d94-44c0-ad3c-a5cfc71efdda\",\"type\":\"Grid\"},{\"attributes\":{\"formatter\":{\"id\":\"081649cb-1a56-4b59-bb70-378c9e885dd2\",\"type\":\"BasicTickFormatter\"},\"plot\":{\"id\":\"8d23b74c-c6b4-49ad-bab0-0fcb48ac4272\",\"subtype\":\"Figure\",\"type\":\"Plot\"},\"ticker\":{\"id\":\"16957b37-6d0c-4327-b33d-ce3b9a94f6eb\",\"type\":\"BasicTicker\"},\"visible\":false},\"id\":\"0bcc7b77-2194-4342-9138-f836bbfed253\",\"type\":\"LinearAxis\"},{\"attributes\":{},\"id\":\"081649cb-1a56-4b59-bb70-378c9e885dd2\",\"type\":\"BasicTickFormatter\"},{\"attributes\":{\"overlay\":{\"id\":\"5ab2a891-9e0e-4f47-9e42-b646fb0c8060\",\"type\":\"BoxAnnotation\"}},\"id\":\"53adeb71-5e57-4a89-a8ac-fd697be625e1\",\"type\":\"BoxZoomTool\"},{\"attributes\":{},\"id\":\"bf12ff80-1cf6-484c-af6f-a2cccb475d0e\",\"type\":\"PanTool\"},{\"attributes\":{\"callback\":null,\"renderers\":\"auto\",\"tooltips\":\"@word\"},\"id\":\"78205dc5-205a-4569-926d-7869e9341b16\",\"type\":\"HoverTool\"},{\"attributes\":{\"grid_line_color\":{\"value\":null},\"plot\":{\"id\":\"8d23b74c-c6b4-49ad-bab0-0fcb48ac4272\",\"subtype\":\"Figure\",\"type\":\"Plot\"},\"ticker\":{\"id\":\"73b52687-3a1f-484c-8a24-8ddf770f3b7a\",\"type\":\"BasicTicker\"}},\"id\":\"58ff8606-2cf7-41bc-890e-68fabde25aa1\",\"type\":\"Grid\"},{\"attributes\":{\"bottom_units\":\"screen\",\"fill_alpha\":{\"value\":0.5},\"fill_color\":{\"value\":\"lightgrey\"},\"left_units\":\"screen\",\"level\":\"overlay\",\"line_alpha\":{\"value\":1.0},\"line_color\":{\"value\":\"black\"},\"line_dash\":[4,4],\"line_width\":{\"value\":2},\"plot\":null,\"render_mode\":\"css\",\"right_units\":\"screen\",\"top_units\":\"screen\"},\"id\":\"4377a1c3-2502-4ae7-85f2-8bf7004d471a\",\"type\":\"BoxAnnotation\"},{\"attributes\":{\"fill_color\":{\"value\":\"#1f77b4\"},\"size\":{\"units\":\"screen\",\"value\":10},\"x\":{\"field\":\"x_coord\"},\"y\":{\"field\":\"y_coord\"}},\"id\":\"29690c16-23cf-430c-a8bc-ca3950f2d73d\",\"type\":\"Circle\"},{\"attributes\":{\"formatter\":{\"id\":\"2fa386e5-744b-4055-9e85-742ea8fd4c3f\",\"type\":\"BasicTickFormatter\"},\"plot\":{\"id\":\"8d23b74c-c6b4-49ad-bab0-0fcb48ac4272\",\"subtype\":\"Figure\",\"type\":\"Plot\"},\"ticker\":{\"id\":\"73b52687-3a1f-484c-8a24-8ddf770f3b7a\",\"type\":\"BasicTicker\"},\"visible\":false},\"id\":\"9dac54b7-4cdc-41c4-aba5-746066c394a5\",\"type\":\"LinearAxis\"},{\"attributes\":{\"fill_alpha\":{\"value\":0.1},\"fill_color\":{\"value\":\"#1f77b4\"},\"line_alpha\":{\"value\":0.1},\"line_color\":{\"value\":\"#1f77b4\"},\"size\":{\"units\":\"screen\",\"value\":10},\"x\":{\"field\":\"x_coord\"},\"y\":{\"field\":\"y_coord\"}},\"id\":\"307e2efd-48c9-459a-a093-ff95c5c04f28\",\"type\":\"Circle\"},{\"attributes\":{},\"id\":\"fd431bb1-3782-48db-9cff-d80a3322bcbc\",\"type\":\"Selection\"},{\"attributes\":{\"fill_alpha\":{\"value\":0.1},\"fill_color\":{\"value\":\"blue\"},\"line_alpha\":{\"value\":0.2},\"line_color\":{\"value\":\"blue\"},\"size\":{\"units\":\"screen\",\"value\":10},\"x\":{\"field\":\"x_coord\"},\"y\":{\"field\":\"y_coord\"}},\"id\":\"b36e571c-b02b-48f7-a4f6-2630d931b4b4\",\"type\":\"Circle\"},{\"attributes\":{},\"id\":\"2fa386e5-744b-4055-9e85-742ea8fd4c3f\",\"type\":\"BasicTickFormatter\"},{\"attributes\":{\"data_source\":{\"id\":\"81d7b2f2-c78b-4286-af6a-a3c50c46314e\",\"type\":\"ColumnDataSource\"},\"glyph\":{\"id\":\"b36e571c-b02b-48f7-a4f6-2630d931b4b4\",\"type\":\"Circle\"},\"hover_glyph\":{\"id\":\"29690c16-23cf-430c-a8bc-ca3950f2d73d\",\"type\":\"Circle\"},\"muted_glyph\":null,\"nonselection_glyph\":{\"id\":\"307e2efd-48c9-459a-a093-ff95c5c04f28\",\"type\":\"Circle\"},\"selection_glyph\":null,\"view\":{\"id\":\"8bda4e55-460c-4c13-abcb-b701f4c1b8ee\",\"type\":\"CDSView\"}},\"id\":\"dce814a6-9c98-4cd6-8982-84eb31cde608\",\"type\":\"GlyphRenderer\"},{\"attributes\":{},\"id\":\"73b52687-3a1f-484c-8a24-8ddf770f3b7a\",\"type\":\"BasicTicker\"},{\"attributes\":{},\"id\":\"c26e0ad1-dd4e-4a48-a8b2-98536996d39b\",\"type\":\"WheelZoomTool\"},{\"attributes\":{},\"id\":\"d080b11e-7845-40cd-92fa-591589aae614\",\"type\":\"LinearScale\"},{\"attributes\":{\"source\":{\"id\":\"81d7b2f2-c78b-4286-af6a-a3c50c46314e\",\"type\":\"ColumnDataSource\"}},\"id\":\"8bda4e55-460c-4c13-abcb-b701f4c1b8ee\",\"type\":\"CDSView\"},{\"attributes\":{\"below\":[{\"id\":\"9dac54b7-4cdc-41c4-aba5-746066c394a5\",\"type\":\"LinearAxis\"}],\"left\":[{\"id\":\"0bcc7b77-2194-4342-9138-f836bbfed253\",\"type\":\"LinearAxis\"}],\"outline_line_color\":{\"value\":null},\"plot_height\":800,\"plot_width\":800,\"renderers\":[{\"id\":\"9dac54b7-4cdc-41c4-aba5-746066c394a5\",\"type\":\"LinearAxis\"},{\"id\":\"58ff8606-2cf7-41bc-890e-68fabde25aa1\",\"type\":\"Grid\"},{\"id\":\"0bcc7b77-2194-4342-9138-f836bbfed253\",\"type\":\"LinearAxis\"},{\"id\":\"75ef5e69-4d94-44c0-ad3c-a5cfc71efdda\",\"type\":\"Grid\"},{\"id\":\"5ab2a891-9e0e-4f47-9e42-b646fb0c8060\",\"type\":\"BoxAnnotation\"},{\"id\":\"4377a1c3-2502-4ae7-85f2-8bf7004d471a\",\"type\":\"BoxAnnotation\"},{\"id\":\"dce814a6-9c98-4cd6-8982-84eb31cde608\",\"type\":\"GlyphRenderer\"}],\"title\":{\"id\":\"a74ad9c6-3b56-42f7-9d81-a3089ddbae4a\",\"type\":\"Title\"},\"toolbar\":{\"id\":\"5e480767-5c95-47d0-ae6a-764bdd88ce87\",\"type\":\"Toolbar\"},\"x_range\":{\"id\":\"5d0c1938-24f6-44e4-8e3b-a0dbdf7d99ba\",\"type\":\"DataRange1d\"},\"x_scale\":{\"id\":\"d080b11e-7845-40cd-92fa-591589aae614\",\"type\":\"LinearScale\"},\"y_range\":{\"id\":\"cb3c5bdd-401d-4742-9257-010ea09dd966\",\"type\":\"DataRange1d\"},\"y_scale\":{\"id\":\"b5c10ebe-ff31-4e60-989a-0cb93b0795d3\",\"type\":\"LinearScale\"}},\"id\":\"8d23b74c-c6b4-49ad-bab0-0fcb48ac4272\",\"subtype\":\"Figure\",\"type\":\"Plot\"},{\"attributes\":{\"callback\":null,\"data\":{\"index\":[0,1,2,3,4,5,6,7,8,9,10,11,12,13,14,15,16,17,18,19,20,21,22,23,24,25,26,27,28,29,30,31,32,33,34,35,36,37,38,39,40,41,42,43,44,45,46,47,48,49,50,51,52,53,54,55,56,57,58,59,60,61,62,63,64,65,66,67,68,69,70,71,72,73,74,75,76,77,78,79,80,81,82,83,84,85,86,87,88,89,90,91,92,93,94,95,96,97,98,99,100,101,102,103,104,105,106,107,108,109,110,111,112,113,114,115,116,117,118,119,120,121,122,123,124,125,126,127,128,129,130,131,132,133,134,135,136,137,138,139,140,141,142,143,144,145,146,147,148,149,150,151,152,153,154,155,156,157,158,159,160,161,162,163,164,165,166,167,168,169,170,171,172,173,174,175,176,177,178,179,180,181,182,183,184,185,186,187,188,189,190,191,192,193,194,195,196,197,198,199,200,201,202,203,204,205,206,207,208,209,210,211,212,213,214,215,216,217,218,219,220,221,222,223,224,225,226,227,228,229,230,231,232,233,234,235,236,237,238,239,240,241,242,243,244,245,246,247,248,249,250,251,252,253,254,255,256,257,258,259,260,261,262,263,264,265,266,267,268,269,270,271,272,273,274,275,276,277,278,279,280,281,282,283,284,285,286,287,288,289,290,291,292,293,294,295,296,297,298,299,300,301,302,303,304,305,306,307,308,309,310,311,312,313,314,315,316,317,318,319,320,321,322,323,324,325,326,327,328,329,330,331,332,333,334,335,336,337,338,339,340,341,342,343,344,345,346,347,348,349,350,351,352,353,354,355,356,357,358,359,360,361,362,363,364,365,366,367,368,369,370,371,372,373,374,375,376,377,378,379,380,381,382,383,384,385,386,387,388,389,390,391,392,393,394,395,396,397,398,399,400,401,402,403,404,405,406,407,408,409,410,411,412,413,414,415,416,417,418,419,420,421,422,423,424,425,426,427,428,429,430,431,432,433,434,435,436,437,438,439,440,441,442,443,444,445,446,447,448,449,450,451,452,453,454,455,456,457,458,459,460,461,462,463,464,465,466,467,468,469,470,471,472,473,474,475,476,477,478,479,480,481,482,483,484,485,486,487,488,489,490,491,492,493,494,495,496,497,498,499,500,501,502,503,504,505,506,507,508,509,510,511,512,513,514,515,516,517,518,519,520,521,522,523,524,525,526,527,528,529,530,531,532,533,534,535,536,537,538,539,540,541,542,543,544,545,546,547,548,549,550,551,552,553,554,555,556,557,558,559,560,561,562,563,564,565,566,567,568,569,570,571,572,573,574,575,576,577,578,579,580,581,582,583,584,585,586,587,588,589,590,591,592,593,594,595,596,597,598,599,600,601,602,603,604,605,606,607,608,609,610,611,612,613,614,615,616,617,618,619,620,621,622,623,624,625,626,627,628,629,630,631,632,633,634,635,636,637,638,639,640,641,642,643,644,645,646,647,648,649,650,651,652,653,654,655,656,657,658,659,660,661,662,663,664,665,666,667,668,669,670,671,672,673,674,675,676,677,678,679,680,681,682,683,684,685,686,687,688,689,690,691,692,693,694,695,696,697,698,699,700,701,702,703,704,705,706,707,708,709,710,711,712,713,714,715,716,717,718,719,720,721,722,723,724,725,726,727,728,729,730,731,732,733,734,735,736,737,738,739,740,741,742,743,744,745,746,747,748,749,750,751,752,753,754,755,756,757,758,759,760,761,762,763,764,765,766,767,768,769,770,771,772,773,774,775,776,777,778,779,780,781,782,783,784,785,786,787,788,789,790,791,792,793,794,795,796,797,798,799,800,801,802,803,804,805,806,807,808,809,810,811,812,813,814,815,816,817,818,819,820,821,822,823,824,825,826,827,828,829,830,831,832,833,834,835,836,837,838,839,840,841,842,843,844,845,846,847,848,849,850,851,852,853,854,855,856,857,858,859,860,861,862,863,864,865,866,867,868,869,870,871,872,873,874,875,876,877,878,879,880,881,882,883,884,885,886,887,888,889,890,891,892,893,894,895,896,897,898,899,900,901,902,903,904,905,906,907,908,909,910,911,912,913,914,915,916,917,918,919,920,921,922,923,924,925,926,927,928,929,930,931,932,933,934,935,936,937,938,939,940,941,942,943,944,945,946,947,948,949,950,951,952,953,954,955,956,957,958,959,960,961,962,963,964,965,966,967,968,969,970,971,972,973,974,975,976,977,978,979,980,981,982,983,984,985,986,987,988,989,990,991,992,993,994,995,996,997,998,999,1000,1001,1002,1003,1004,1005,1006,1007,1008,1009,1010,1011,1012,1013,1014,1015,1016,1017,1018,1019,1020,1021,1022,1023,1024,1025,1026,1027,1028,1029,1030,1031,1032,1033,1034,1035,1036,1037,1038,1039,1040,1041,1042,1043,1044,1045,1046,1047,1048,1049,1050,1051,1052,1053,1054,1055,1056,1057,1058,1059,1060,1061,1062,1063,1064,1065,1066,1067,1068,1069,1070,1071,1072,1073,1074,1075,1076,1077,1078,1079,1080,1081,1082,1083,1084,1085,1086,1087,1088,1089,1090,1091,1092,1093,1094,1095,1096,1097,1098,1099,1100,1101,1102,1103,1104,1105,1106,1107,1108,1109,1110,1111,1112,1113,1114,1115,1116,1117,1118,1119,1120,1121,1122,1123,1124,1125,1126,1127,1128,1129,1130,1131,1132,1133,1134,1135,1136,1137,1138,1139,1140,1141,1142,1143,1144,1145,1146,1147,1148,1149,1150,1151,1152,1153,1154,1155,1156,1157,1158,1159,1160,1161,1162,1163,1164,1165,1166,1167,1168,1169,1170,1171,1172,1173,1174,1175,1176,1177,1178,1179,1180,1181,1182,1183,1184,1185,1186,1187,1188,1189,1190,1191,1192,1193,1194,1195,1196,1197,1198,1199,1200,1201,1202,1203,1204,1205,1206,1207,1208,1209,1210,1211,1212,1213,1214,1215,1216,1217,1218,1219,1220,1221,1222,1223,1224,1225,1226,1227,1228,1229,1230,1231,1232,1233,1234,1235,1236,1237,1238,1239,1240,1241,1242,1243,1244,1245,1246,1247,1248,1249,1250,1251,1252,1253,1254,1255,1256,1257,1258,1259,1260,1261,1262,1263,1264,1265,1266,1267,1268,1269,1270,1271,1272,1273,1274,1275,1276,1277,1278,1279,1280,1281,1282,1283,1284,1285,1286,1287,1288,1289,1290,1291,1292,1293,1294,1295,1296,1297,1298,1299,1300,1301,1302,1303,1304,1305,1306,1307,1308,1309,1310,1311,1312,1313,1314,1315,1316,1317,1318,1319,1320,1321,1322,1323,1324,1325,1326,1327,1328,1329,1330,1331,1332,1333,1334,1335,1336,1337,1338,1339,1340,1341,1342,1343,1344,1345,1346,1347,1348,1349,1350,1351,1352,1353,1354,1355,1356,1357,1358,1359,1360,1361,1362,1363,1364,1365,1366,1367,1368,1369,1370,1371,1372,1373,1374,1375,1376,1377,1378,1379,1380,1381,1382,1383,1384,1385,1386,1387,1388,1389,1390,1391,1392,1393,1394,1395,1396,1397,1398,1399,1400,1401,1402,1403,1404,1405,1406,1407,1408,1409,1410,1411,1412,1413,1414,1415,1416,1417,1418,1419,1420,1421,1422,1423,1424,1425,1426,1427,1428,1429,1430,1431,1432,1433,1434,1435,1436,1437,1438,1439,1440,1441,1442,1443,1444,1445,1446,1447,1448,1449,1450,1451,1452,1453,1454,1455,1456,1457,1458,1459,1460,1461,1462,1463,1464,1465,1466,1467,1468,1469,1470,1471,1472,1473,1474,1475,1476,1477,1478,1479,1480,1481,1482,1483,1484,1485,1486,1487,1488,1489,1490,1491,1492,1493,1494,1495,1496,1497,1498,1499,1500,1501,1502,1503,1504,1505,1506,1507,1508,1509,1510,1511,1512,1513,1514,1515,1516,1517,1518,1519,1520,1521,1522,1523,1524,1525,1526,1527,1528,1529,1530,1531,1532,1533,1534,1535,1536,1537,1538,1539,1540,1541,1542,1543,1544,1545,1546,1547,1548,1549,1550,1551,1552,1553,1554,1555,1556,1557,1558,1559,1560,1561,1562,1563,1564,1565,1566,1567,1568,1569,1570,1571,1572,1573,1574,1575,1576,1577,1578,1579,1580,1581,1582,1583,1584,1585,1586,1587,1588,1589,1590,1591,1592,1593,1594,1595,1596,1597,1598,1599,1600,1601,1602,1603,1604,1605,1606,1607,1608,1609,1610,1611,1612,1613,1614,1615,1616,1617,1618,1619,1620,1621,1622,1623,1624,1625,1626,1627,1628,1629,1630,1631,1632,1633,1634,1635,1636,1637,1638,1639,1640,1641,1642,1643,1644,1645,1646,1647,1648,1649,1650,1651,1652,1653,1654,1655,1656,1657,1658,1659,1660,1661,1662,1663,1664,1665,1666,1667,1668,1669,1670,1671,1672,1673,1674,1675,1676,1677,1678,1679,1680,1681,1682,1683,1684,1685,1686,1687,1688,1689,1690,1691,1692,1693,1694,1695,1696,1697,1698,1699,1700,1701,1702,1703,1704,1705,1706,1707,1708,1709,1710,1711,1712,1713,1714,1715,1716,1717,1718,1719,1720,1721,1722,1723,1724,1725,1726,1727,1728,1729,1730,1731,1732,1733,1734,1735,1736,1737,1738,1739,1740,1741,1742,1743,1744,1745,1746,1747,1748,1749,1750,1751,1752,1753,1754,1755,1756,1757,1758,1759,1760,1761,1762,1763,1764,1765,1766,1767,1768,1769,1770,1771,1772,1773,1774,1775,1776,1777,1778,1779,1780,1781,1782,1783,1784,1785,1786,1787,1788,1789,1790,1791,1792,1793,1794,1795,1796,1797,1798,1799,1800,1801,1802,1803,1804,1805,1806,1807,1808,1809,1810,1811,1812,1813,1814,1815,1816,1817,1818,1819,1820,1821,1822,1823,1824,1825,1826,1827,1828,1829,1830,1831,1832,1833,1834,1835,1836,1837,1838,1839,1840,1841,1842,1843,1844,1845,1846,1847,1848,1849,1850,1851,1852,1853,1854,1855,1856,1857,1858,1859,1860,1861,1862,1863,1864,1865,1866,1867,1868,1869,1870,1871,1872,1873,1874,1875,1876,1877,1878,1879,1880,1881,1882,1883,1884,1885,1886,1887,1888,1889,1890,1891,1892,1893,1894,1895,1896,1897,1898,1899,1900,1901,1902,1903,1904,1905,1906,1907,1908,1909,1910,1911,1912,1913,1914,1915,1916,1917,1918,1919,1920,1921,1922,1923,1924,1925,1926,1927,1928,1929,1930,1931,1932,1933,1934,1935,1936,1937,1938,1939,1940,1941,1942,1943,1944,1945,1946,1947,1948,1949,1950,1951,1952,1953,1954,1955,1956,1957,1958,1959,1960,1961,1962,1963,1964,1965,1966,1967,1968,1969,1970,1971,1972,1973,1974,1975,1976,1977,1978,1979,1980,1981,1982,1983,1984,1985,1986,1987,1988,1989,1990,1991,1992,1993,1994,1995,1996,1997,1998,1999,2000,2001,2002,2003,2004,2005,2006,2007,2008,2009,2010,2011,2012,2013,2014,2015,2016,2017,2018,2019,2020,2021,2022,2023,2024,2025,2026,2027,2028,2029,2030,2031,2032,2033,2034,2035,2036,2037,2038,2039,2040,2041,2042,2043,2044,2045,2046,2047,2048,2049,2050,2051,2052,2053,2054,2055,2056,2057,2058,2059,2060,2061,2062,2063,2064,2065,2066,2067,2068,2069,2070,2071,2072,2073,2074,2075,2076,2077,2078,2079,2080,2081,2082,2083,2084,2085,2086,2087,2088,2089,2090,2091,2092,2093,2094,2095,2096,2097,2098,2099,2100,2101,2102,2103,2104,2105,2106,2107,2108,2109,2110,2111,2112,2113,2114,2115,2116,2117,2118,2119,2120,2121,2122,2123,2124,2125,2126,2127,2128,2129,2130,2131,2132,2133,2134,2135,2136,2137,2138,2139,2140,2141,2142,2143,2144,2145,2146,2147,2148,2149,2150,2151,2152,2153,2154,2155,2156,2157,2158,2159,2160,2161,2162,2163,2164,2165,2166,2167,2168,2169,2170,2171,2172,2173,2174,2175,2176,2177,2178,2179,2180,2181,2182,2183,2184,2185,2186,2187,2188,2189,2190,2191,2192,2193,2194,2195,2196,2197,2198,2199,2200,2201,2202,2203,2204,2205,2206,2207,2208,2209,2210,2211,2212,2213,2214,2215,2216,2217,2218,2219,2220,2221,2222,2223,2224,2225,2226,2227,2228,2229,2230,2231,2232,2233,2234,2235,2236,2237,2238,2239,2240,2241,2242,2243,2244,2245,2246,2247,2248,2249,2250,2251,2252,2253,2254,2255,2256,2257,2258,2259,2260,2261,2262,2263,2264,2265,2266,2267,2268,2269,2270,2271,2272,2273,2274,2275,2276,2277,2278,2279,2280,2281,2282,2283,2284,2285,2286,2287,2288,2289,2290,2291,2292,2293,2294,2295,2296,2297,2298,2299,2300,2301,2302,2303,2304,2305,2306,2307,2308,2309,2310,2311,2312,2313,2314,2315,2316,2317,2318,2319,2320,2321,2322,2323,2324,2325,2326,2327,2328,2329,2330,2331,2332,2333,2334,2335,2336,2337,2338,2339,2340,2341,2342,2343,2344,2345,2346,2347,2348,2349,2350,2351,2352,2353,2354,2355,2356,2357,2358,2359,2360,2361,2362,2363,2364,2365,2366,2367,2368,2369,2370,2371,2372,2373,2374,2375,2376,2377,2378,2379,2380,2381,2382,2383,2384,2385,2386,2387,2388,2389,2390,2391,2392,2393,2394,2395,2396,2397,2398,2399,2400,2401,2402,2403,2404,2405,2406,2407,2408,2409,2410,2411,2412,2413,2414,2415,2416,2417,2418,2419,2420,2421,2422,2423,2424,2425,2426,2427,2428,2429,2430,2431,2432,2433,2434,2435,2436,2437,2438,2439,2440,2441,2442,2443,2444,2445,2446,2447,2448,2449,2450,2451,2452,2453,2454,2455,2456,2457,2458,2459,2460,2461,2462,2463,2464,2465,2466,2467,2468,2469,2470,2471,2472,2473,2474,2475,2476,2477,2478,2479,2480,2481,2482,2483,2484,2485,2486,2487,2488,2489,2490,2491,2492,2493,2494,2495,2496,2497,2498,2499,2500,2501,2502,2503,2504,2505,2506,2507,2508,2509,2510,2511,2512,2513,2514,2515,2516,2517,2518,2519,2520,2521,2522,2523,2524,2525,2526,2527,2528,2529,2530,2531,2532,2533,2534,2535,2536,2537,2538,2539,2540,2541,2542,2543,2544,2545,2546,2547,2548,2549,2550,2551,2552,2553,2554,2555,2556,2557,2558,2559,2560,2561,2562,2563,2564,2565,2566,2567,2568,2569,2570,2571,2572,2573,2574,2575,2576,2577,2578,2579,2580,2581,2582,2583,2584,2585,2586,2587,2588,2589,2590,2591,2592,2593,2594,2595,2596,2597,2598,2599,2600,2601,2602,2603,2604,2605,2606,2607,2608,2609,2610,2611,2612,2613,2614,2615,2616,2617,2618,2619,2620,2621,2622,2623,2624,2625,2626,2627,2628,2629,2630,2631,2632,2633,2634,2635,2636,2637,2638,2639,2640,2641,2642,2643,2644,2645,2646,2647,2648,2649,2650,2651,2652,2653,2654,2655,2656,2657,2658,2659,2660,2661,2662,2663,2664,2665,2666,2667,2668,2669,2670,2671,2672,2673,2674,2675,2676,2677,2678,2679,2680,2681,2682,2683,2684,2685,2686,2687,2688,2689,2690,2691,2692,2693,2694,2695,2696,2697,2698,2699,2700,2701,2702,2703,2704,2705,2706,2707,2708,2709,2710,2711,2712,2713,2714,2715,2716,2717,2718,2719,2720,2721,2722,2723,2724,2725,2726,2727,2728,2729,2730,2731,2732,2733,2734,2735,2736,2737,2738,2739,2740,2741,2742,2743,2744,2745,2746,2747,2748,2749,2750,2751,2752,2753,2754,2755,2756,2757,2758,2759,2760,2761,2762,2763,2764,2765,2766,2767,2768,2769,2770,2771,2772,2773,2774,2775,2776,2777,2778,2779,2780,2781,2782,2783,2784,2785,2786,2787,2788,2789,2790,2791,2792,2793,2794,2795,2796,2797,2798,2799,2800,2801,2802,2803,2804,2805,2806,2807,2808,2809,2810,2811,2812,2813,2814,2815,2816,2817,2818,2819,2820,2821,2822,2823,2824,2825,2826,2827,2828,2829,2830,2831,2832,2833,2834,2835,2836,2837,2838,2839,2840,2841,2842,2843,2844,2845,2846,2847,2848,2849,2850,2851,2852,2853,2854,2855,2856,2857,2858,2859,2860,2861,2862,2863,2864,2865,2866,2867,2868,2869,2870,2871,2872,2873,2874,2875,2876,2877,2878,2879,2880,2881,2882,2883,2884,2885,2886,2887,2888,2889,2890,2891,2892,2893,2894,2895,2896,2897,2898,2899,2900,2901,2902,2903,2904,2905,2906,2907,2908,2909,2910,2911,2912,2913,2914,2915,2916,2917,2918,2919,2920,2921,2922,2923,2924,2925,2926,2927,2928,2929,2930,2931,2932,2933,2934,2935,2936,2937,2938,2939,2940,2941,2942,2943,2944,2945,2946,2947,2948,2949,2950,2951,2952,2953,2954,2955,2956,2957,2958,2959,2960,2961,2962,2963,2964,2965,2966,2967,2968,2969,2970,2971,2972,2973,2974,2975,2976,2977,2978,2979,2980,2981,2982,2983,2984,2985,2986,2987,2988,2989,2990,2991,2992,2993,2994,2995,2996,2997,2998,2999,3000,3001,3002,3003,3004,3005,3006,3007,3008,3009,3010,3011,3012,3013,3014,3015,3016,3017,3018,3019,3020,3021,3022,3023,3024,3025,3026,3027,3028,3029,3030,3031,3032,3033,3034,3035,3036,3037,3038,3039,3040,3041,3042,3043,3044,3045,3046,3047,3048,3049,3050,3051,3052,3053,3054,3055,3056,3057,3058,3059,3060,3061,3062,3063,3064,3065,3066,3067,3068,3069,3070,3071,3072,3073,3074,3075,3076,3077,3078,3079,3080,3081,3082,3083,3084,3085,3086,3087,3088,3089,3090,3091,3092,3093,3094,3095,3096,3097,3098,3099,3100,3101,3102,3103,3104,3105,3106,3107,3108,3109,3110,3111,3112,3113,3114,3115,3116,3117,3118,3119,3120,3121,3122,3123,3124,3125,3126,3127,3128,3129,3130,3131,3132,3133,3134,3135,3136,3137,3138,3139,3140,3141,3142,3143,3144,3145,3146,3147,3148,3149,3150,3151,3152,3153,3154,3155,3156,3157,3158,3159,3160,3161,3162,3163,3164,3165,3166,3167,3168,3169,3170,3171,3172,3173,3174,3175,3176,3177,3178,3179,3180,3181,3182,3183,3184,3185,3186,3187,3188,3189,3190,3191,3192,3193,3194,3195,3196,3197,3198,3199,3200,3201,3202,3203,3204,3205,3206,3207,3208,3209,3210,3211,3212,3213,3214,3215,3216,3217,3218,3219,3220,3221,3222,3223,3224,3225,3226,3227,3228,3229,3230,3231,3232,3233,3234,3235,3236,3237,3238,3239,3240,3241,3242,3243,3244,3245,3246,3247,3248,3249,3250,3251,3252,3253,3254,3255,3256,3257,3258,3259,3260,3261,3262,3263,3264,3265,3266,3267,3268,3269,3270,3271,3272,3273,3274,3275,3276,3277,3278,3279,3280,3281,3282,3283,3284,3285,3286,3287,3288,3289,3290,3291,3292,3293,3294,3295,3296,3297,3298,3299,3300,3301,3302,3303,3304,3305,3306,3307,3308,3309,3310,3311,3312,3313,3314,3315,3316,3317,3318,3319,3320,3321,3322,3323,3324,3325,3326,3327,3328,3329,3330,3331,3332,3333,3334,3335,3336,3337,3338,3339,3340,3341,3342,3343,3344,3345,3346,3347,3348,3349,3350,3351,3352,3353,3354,3355,3356,3357,3358,3359,3360,3361,3362,3363,3364,3365,3366,3367,3368,3369,3370,3371,3372,3373,3374,3375,3376,3377,3378,3379,3380,3381,3382,3383,3384,3385,3386,3387,3388,3389,3390,3391,3392,3393,3394,3395,3396,3397,3398,3399,3400,3401,3402,3403,3404,3405,3406,3407,3408,3409,3410,3411,3412,3413,3414,3415,3416,3417,3418,3419,3420,3421,3422,3423,3424,3425,3426,3427,3428,3429,3430,3431,3432,3433,3434,3435,3436,3437,3438,3439,3440,3441,3442,3443,3444,3445,3446,3447,3448,3449,3450,3451,3452,3453,3454,3455,3456,3457,3458,3459,3460,3461,3462,3463,3464,3465,3466,3467,3468,3469,3470,3471,3472,3473,3474,3475,3476,3477,3478,3479,3480,3481,3482,3483,3484,3485,3486,3487,3488,3489,3490,3491,3492,3493,3494,3495,3496,3497,3498,3499,3500,3501,3502,3503,3504,3505,3506,3507,3508,3509,3510,3511,3512,3513,3514,3515,3516,3517,3518,3519,3520,3521,3522,3523,3524,3525,3526,3527,3528,3529,3530,3531,3532,3533,3534,3535,3536,3537,3538,3539,3540,3541,3542,3543,3544,3545,3546,3547,3548,3549,3550,3551,3552,3553,3554,3555,3556,3557,3558,3559],\"word\":[0,1,2,3,4,5,6,7,8,9,10,11,12,13,14,15,16,17,18,19,20,21,22,23,24,25,26,27,28,29,30,31,32,33,34,35,36,37,38,39,40,41,42,43,44,45,46,47,48,49,50,51,52,53,54,55,56,57,58,59,60,61,62,63,64,65,66,67,68,69,70,71,72,73,74,75,76,77,78,79,80,81,82,83,84,85,86,87,88,89,90,91,92,93,94,95,96,97,98,99,100,101,102,103,104,105,106,107,108,109,110,111,112,113,114,115,116,117,118,119,120,121,122,123,124,125,126,127,128,129,130,131,132,133,134,135,136,137,138,139,140,141,142,143,144,145,146,147,148,149,150,151,152,153,154,155,156,157,158,159,160,161,162,163,164,165,166,167,168,169,170,171,172,173,174,175,176,177,178,179,180,181,182,183,184,185,186,187,188,189,190,191,192,193,194,195,196,197,198,199,200,201,202,203,204,205,206,207,208,209,210,211,212,213,214,215,216,217,218,219,220,221,222,223,224,225,226,227,228,229,230,231,232,233,234,235,236,237,238,239,240,241,242,243,244,245,246,247,248,249,250,251,252,253,254,255,256,257,258,259,260,261,262,263,264,265,266,267,268,269,270,271,272,273,274,275,276,277,278,279,280,281,282,283,284,285,286,287,288,289,290,291,292,293,294,295,296,297,298,299,300,301,302,303,304,305,306,307,308,309,310,311,312,313,314,315,316,317,318,319,320,321,322,323,324,325,326,327,328,329,330,331,332,333,334,335,336,337,338,339,340,341,342,343,344,345,346,347,348,349,350,351,352,353,354,355,356,357,358,359,360,361,362,363,364,365,366,367,368,369,370,371,372,373,374,375,376,377,378,379,380,381,382,383,384,385,386,387,388,389,390,391,392,393,394,395,396,397,398,399,400,401,402,403,404,405,406,407,408,409,410,411,412,413,414,415,416,417,418,419,420,421,422,423,424,425,426,427,428,429,430,431,432,433,434,435,436,437,438,439,440,441,442,443,444,445,446,447,448,449,450,451,452,453,454,455,456,457,458,459,460,461,462,463,464,465,466,467,468,469,470,471,472,473,474,475,476,477,478,479,480,481,482,483,484,485,486,487,488,489,490,491,492,493,494,495,496,497,498,499,500,501,502,503,504,505,506,507,508,509,510,511,512,513,514,515,516,517,518,519,520,521,522,523,524,525,526,527,528,529,530,531,532,533,534,535,536,537,538,539,540,541,542,543,544,545,546,547,548,549,550,551,552,553,554,555,556,557,558,559,560,561,562,563,564,565,566,567,568,569,570,571,572,573,574,575,576,577,578,579,580,581,582,583,584,585,586,587,588,589,590,591,592,593,594,595,596,597,598,599,600,601,602,603,604,605,606,607,608,609,610,611,612,613,614,615,616,617,618,619,620,621,622,623,624,625,626,627,628,629,630,631,632,633,634,635,636,637,638,639,640,641,642,643,644,645,646,647,648,649,650,651,652,653,654,655,656,657,658,659,660,661,662,663,664,665,666,667,668,669,670,671,672,673,674,675,676,677,678,679,680,681,682,683,684,685,686,687,688,689,690,691,692,693,694,695,696,697,698,699,700,701,702,703,704,705,706,707,708,709,710,711,712,713,714,715,716,717,718,719,720,721,722,723,724,725,726,727,728,729,730,731,732,733,734,735,736,737,738,739,740,741,742,743,744,745,746,747,748,749,750,751,752,753,754,755,756,757,758,759,760,761,762,763,764,765,766,767,768,769,770,771,772,773,774,775,776,777,778,779,780,781,782,783,784,785,786,787,788,789,790,791,792,793,794,795,796,797,798,799,800,801,802,803,804,805,806,807,808,809,810,811,812,813,814,815,816,817,818,819,820,821,822,823,824,825,826,827,828,829,830,831,832,833,834,835,836,837,838,839,840,841,842,843,844,845,846,847,848,849,850,851,852,853,854,855,856,857,858,859,860,861,862,863,864,865,866,867,868,869,870,871,872,873,874,875,876,877,878,879,880,881,882,883,884,885,886,887,888,889,890,891,892,893,894,895,896,897,898,899,900,901,902,903,904,905,906,907,908,909,910,911,912,913,914,915,916,917,918,919,920,921,922,923,924,925,926,927,928,929,930,931,932,933,934,935,936,937,938,939,940,941,942,943,944,945,946,947,948,949,950,951,952,953,954,955,956,957,958,959,960,961,962,963,964,965,966,967,968,969,970,971,972,973,974,975,976,977,978,979,980,981,982,983,984,985,986,987,988,989,990,991,992,993,994,995,996,997,998,999,1000,1001,1002,1003,1004,1005,1006,1007,1008,1009,1010,1011,1012,1013,1014,1015,1016,1017,1018,1019,1020,1021,1022,1023,1024,1025,1026,1027,1028,1029,1030,1031,1032,1033,1034,1035,1036,1037,1038,1039,1040,1041,1042,1043,1044,1045,1046,1047,1048,1049,1050,1051,1052,1053,1054,1055,1056,1057,1058,1059,1060,1061,1062,1063,1064,1065,1066,1067,1068,1069,1070,1071,1072,1073,1074,1075,1076,1077,1078,1079,1080,1081,1082,1083,1084,1085,1086,1087,1088,1089,1090,1091,1092,1093,1094,1095,1096,1097,1098,1099,1100,1101,1102,1103,1104,1105,1106,1107,1108,1109,1110,1111,1112,1113,1114,1115,1116,1117,1118,1119,1120,1121,1122,1123,1124,1125,1126,1127,1128,1129,1130,1131,1132,1133,1134,1135,1136,1137,1138,1139,1140,1141,1142,1143,1144,1145,1146,1147,1148,1149,1150,1151,1152,1153,1154,1155,1156,1157,1158,1159,1160,1161,1162,1163,1164,1165,1166,1167,1168,1169,1170,1171,1172,1173,1174,1175,1176,1177,1178,1179,1180,1181,1182,1183,1184,1185,1186,1187,1188,1189,1190,1191,1192,1193,1194,1195,1196,1197,1198,1199,1200,1201,1202,1203,1204,1205,1206,1207,1208,1209,1210,1211,1212,1213,1214,1215,1216,1217,1218,1219,1220,1221,1222,1223,1224,1225,1226,1227,1228,1229,1230,1231,1232,1233,1234,1235,1236,1237,1238,1239,1240,1241,1242,1243,1244,1245,1246,1247,1248,1249,1250,1251,1252,1253,1254,1255,1256,1257,1258,1259,1260,1261,1262,1263,1264,1265,1266,1267,1268,1269,1270,1271,1272,1273,1274,1275,1276,1277,1278,1279,1280,1281,1282,1283,1284,1285,1286,1287,1288,1289,1290,1291,1292,1293,1294,1295,1296,1297,1298,1299,1300,1301,1302,1303,1304,1305,1306,1307,1308,1309,1310,1311,1312,1313,1314,1315,1316,1317,1318,1319,1320,1321,1322,1323,1324,1325,1326,1327,1328,1329,1330,1331,1332,1333,1334,1335,1336,1337,1338,1339,1340,1341,1342,1343,1344,1345,1346,1347,1348,1349,1350,1351,1352,1353,1354,1355,1356,1357,1358,1359,1360,1361,1362,1363,1364,1365,1366,1367,1368,1369,1370,1371,1372,1373,1374,1375,1376,1377,1378,1379,1380,1381,1382,1383,1384,1385,1386,1387,1388,1389,1390,1391,1392,1393,1394,1395,1396,1397,1398,1399,1400,1401,1402,1403,1404,1405,1406,1407,1408,1409,1410,1411,1412,1413,1414,1415,1416,1417,1418,1419,1420,1421,1422,1423,1424,1425,1426,1427,1428,1429,1430,1431,1432,1433,1434,1435,1436,1437,1438,1439,1440,1441,1442,1443,1444,1445,1446,1447,1448,1449,1450,1451,1452,1453,1454,1455,1456,1457,1458,1459,1460,1461,1462,1463,1464,1465,1466,1467,1468,1469,1470,1471,1472,1473,1474,1475,1476,1477,1478,1479,1480,1481,1482,1483,1484,1485,1486,1487,1488,1489,1490,1491,1492,1493,1494,1495,1496,1497,1498,1499,1500,1501,1502,1503,1504,1505,1506,1507,1508,1509,1510,1511,1512,1513,1514,1515,1516,1517,1518,1519,1520,1521,1522,1523,1524,1525,1526,1527,1528,1529,1530,1531,1532,1533,1534,1535,1536,1537,1538,1539,1540,1541,1542,1543,1544,1545,1546,1547,1548,1549,1550,1551,1552,1553,1554,1555,1556,1557,1558,1559,1560,1561,1562,1563,1564,1565,1566,1567,1568,1569,1570,1571,1572,1573,1574,1575,1576,1577,1578,1579,1580,1581,1582,1583,1584,1585,1586,1587,1588,1589,1590,1591,1592,1593,1594,1595,1596,1597,1598,1599,1600,1601,1602,1603,1604,1605,1606,1607,1608,1609,1610,1611,1612,1613,1614,1615,1616,1617,1618,1619,1620,1621,1622,1623,1624,1625,1626,1627,1628,1629,1630,1631,1632,1633,1634,1635,1636,1637,1638,1639,1640,1641,1642,1643,1644,1645,1646,1647,1648,1649,1650,1651,1652,1653,1654,1655,1656,1657,1658,1659,1660,1661,1662,1663,1664,1665,1666,1667,1668,1669,1670,1671,1672,1673,1674,1675,1676,1677,1678,1679,1680,1681,1682,1683,1684,1685,1686,1687,1688,1689,1690,1691,1692,1693,1694,1695,1696,1697,1698,1699,1700,1701,1702,1703,1704,1705,1706,1707,1708,1709,1710,1711,1712,1713,1714,1715,1716,1717,1718,1719,1720,1721,1722,1723,1724,1725,1726,1727,1728,1729,1730,1731,1732,1733,1734,1735,1736,1737,1738,1739,1740,1741,1742,1743,1744,1745,1746,1747,1748,1749,1750,1751,1752,1753,1754,1755,1756,1757,1758,1759,1760,1761,1762,1763,1764,1765,1766,1767,1768,1769,1770,1771,1772,1773,1774,1775,1776,1777,1778,1779,1780,1781,1782,1783,1784,1785,1786,1787,1788,1789,1790,1791,1792,1793,1794,1795,1796,1797,1798,1799,1800,1801,1802,1803,1804,1805,1806,1807,1808,1809,1810,1811,1812,1813,1814,1815,1816,1817,1818,1819,1820,1821,1822,1823,1824,1825,1826,1827,1828,1829,1830,1831,1832,1833,1834,1835,1836,1837,1838,1839,1840,1841,1842,1843,1844,1845,1846,1847,1848,1849,1850,1851,1852,1853,1854,1855,1856,1857,1858,1859,1860,1861,1862,1863,1864,1865,1866,1867,1868,1869,1870,1871,1872,1873,1874,1875,1876,1877,1878,1879,1880,1881,1882,1883,1884,1885,1886,1887,1888,1889,1890,1891,1892,1893,1894,1895,1896,1897,1898,1899,1900,1901,1902,1903,1904,1905,1906,1907,1908,1909,1910,1911,1912,1913,1914,1915,1916,1917,1918,1919,1920,1921,1922,1923,1924,1925,1926,1927,1928,1929,1930,1931,1932,1933,1934,1935,1936,1937,1938,1939,1940,1941,1942,1943,1944,1945,1946,1947,1948,1949,1950,1951,1952,1953,1954,1955,1956,1957,1958,1959,1960,1961,1962,1963,1964,1965,1966,1967,1968,1969,1970,1971,1972,1973,1974,1975,1976,1977,1978,1979,1980,1981,1982,1983,1984,1985,1986,1987,1988,1989,1990,1991,1992,1993,1994,1995,1996,1997,1998,1999,2000,2001,2002,2003,2004,2005,2006,2007,2008,2009,2010,2011,2012,2013,2014,2015,2016,2017,2018,2019,2020,2021,2022,2023,2024,2025,2026,2027,2028,2029,2030,2031,2032,2033,2034,2035,2036,2037,2038,2039,2040,2041,2042,2043,2044,2045,2046,2047,2048,2049,2050,2051,2052,2053,2054,2055,2056,2057,2058,2059,2060,2061,2062,2063,2064,2065,2066,2067,2068,2069,2070,2071,2072,2073,2074,2075,2076,2077,2078,2079,2080,2081,2082,2083,2084,2085,2086,2087,2088,2089,2090,2091,2092,2093,2094,2095,2096,2097,2098,2099,2100,2101,2102,2103,2104,2105,2106,2107,2108,2109,2110,2111,2112,2113,2114,2115,2116,2117,2118,2119,2120,2121,2122,2123,2124,2125,2126,2127,2128,2129,2130,2131,2132,2133,2134,2135,2136,2137,2138,2139,2140,2141,2142,2143,2144,2145,2146,2147,2148,2149,2150,2151,2152,2153,2154,2155,2156,2157,2158,2159,2160,2161,2162,2163,2164,2165,2166,2167,2168,2169,2170,2171,2172,2173,2174,2175,2176,2177,2178,2179,2180,2181,2182,2183,2184,2185,2186,2187,2188,2189,2190,2191,2192,2193,2194,2195,2196,2197,2198,2199,2200,2201,2202,2203,2204,2205,2206,2207,2208,2209,2210,2211,2212,2213,2214,2215,2216,2217,2218,2219,2220,2221,2222,2223,2224,2225,2226,2227,2228,2229,2230,2231,2232,2233,2234,2235,2236,2237,2238,2239,2240,2241,2242,2243,2244,2245,2246,2247,2248,2249,2250,2251,2252,2253,2254,2255,2256,2257,2258,2259,2260,2261,2262,2263,2264,2265,2266,2267,2268,2269,2270,2271,2272,2273,2274,2275,2276,2277,2278,2279,2280,2281,2282,2283,2284,2285,2286,2287,2288,2289,2290,2291,2292,2293,2294,2295,2296,2297,2298,2299,2300,2301,2302,2303,2304,2305,2306,2307,2308,2309,2310,2311,2312,2313,2314,2315,2316,2317,2318,2319,2320,2321,2322,2323,2324,2325,2326,2327,2328,2329,2330,2331,2332,2333,2334,2335,2336,2337,2338,2339,2340,2341,2342,2343,2344,2345,2346,2347,2348,2349,2350,2351,2352,2353,2354,2355,2356,2357,2358,2359,2360,2361,2362,2363,2364,2365,2366,2367,2368,2369,2370,2371,2372,2373,2374,2375,2376,2377,2378,2379,2380,2381,2382,2383,2384,2385,2386,2387,2388,2389,2390,2391,2392,2393,2394,2395,2396,2397,2398,2399,2400,2401,2402,2403,2404,2405,2406,2407,2408,2409,2410,2411,2412,2413,2414,2415,2416,2417,2418,2419,2420,2421,2422,2423,2424,2425,2426,2427,2428,2429,2430,2431,2432,2433,2434,2435,2436,2437,2438,2439,2440,2441,2442,2443,2444,2445,2446,2447,2448,2449,2450,2451,2452,2453,2454,2455,2456,2457,2458,2459,2460,2461,2462,2463,2464,2465,2466,2467,2468,2469,2470,2471,2472,2473,2474,2475,2476,2477,2478,2479,2480,2481,2482,2483,2484,2485,2486,2487,2488,2489,2490,2491,2492,2493,2494,2495,2496,2497,2498,2499,2500,2501,2502,2503,2504,2505,2506,2507,2508,2509,2510,2511,2512,2513,2514,2515,2516,2517,2518,2519,2520,2521,2522,2523,2524,2525,2526,2527,2528,2529,2530,2531,2532,2533,2534,2535,2536,2537,2538,2539,2540,2541,2542,2543,2544,2545,2546,2547,2548,2549,2550,2551,2552,2553,2554,2555,2556,2557,2558,2559,2560,2561,2562,2563,2564,2565,2566,2567,2568,2569,2570,2571,2572,2573,2574,2575,2576,2577,2578,2579,2580,2581,2582,2583,2584,2585,2586,2587,2588,2589,2590,2591,2592,2593,2594,2595,2596,2597,2598,2599,2600,2601,2602,2603,2604,2605,2606,2607,2608,2609,2610,2611,2612,2613,2614,2615,2616,2617,2618,2619,2620,2621,2622,2623,2624,2625,2626,2627,2628,2629,2630,2631,2632,2633,2634,2635,2636,2637,2638,2639,2640,2641,2642,2643,2644,2645,2646,2647,2648,2649,2650,2651,2652,2653,2654,2655,2656,2657,2658,2659,2660,2661,2662,2663,2664,2665,2666,2667,2668,2669,2670,2671,2672,2673,2674,2675,2676,2677,2678,2679,2680,2681,2682,2683,2684,2685,2686,2687,2688,2689,2690,2691,2692,2693,2694,2695,2696,2697,2698,2699,2700,2701,2702,2703,2704,2705,2706,2707,2708,2709,2710,2711,2712,2713,2714,2715,2716,2717,2718,2719,2720,2721,2722,2723,2724,2725,2726,2727,2728,2729,2730,2731,2732,2733,2734,2735,2736,2737,2738,2739,2740,2741,2742,2743,2744,2745,2746,2747,2748,2749,2750,2751,2752,2753,2754,2755,2756,2757,2758,2759,2760,2761,2762,2763,2764,2765,2766,2767,2768,2769,2770,2771,2772,2773,2774,2775,2776,2777,2778,2779,2780,2781,2782,2783,2784,2785,2786,2787,2788,2789,2790,2791,2792,2793,2794,2795,2796,2797,2798,2799,2800,2801,2802,2803,2804,2805,2806,2807,2808,2809,2810,2811,2812,2813,2814,2815,2816,2817,2818,2819,2820,2821,2822,2823,2824,2825,2826,2827,2828,2829,2830,2831,2832,2833,2834,2835,2836,2837,2838,2839,2840,2841,2842,2843,2844,2845,2846,2847,2848,2849,2850,2851,2852,2853,2854,2855,2856,2857,2858,2859,2860,2861,2862,2863,2864,2865,2866,2867,2868,2869,2870,2871,2872,2873,2874,2875,2876,2877,2878,2879,2880,2881,2882,2883,2884,2885,2886,2887,2888,2889,2890,2891,2892,2893,2894,2895,2896,2897,2898,2899,2900,2901,2902,2903,2904,2905,2906,2907,2908,2909,2910,2911,2912,2913,2914,2915,2916,2917,2918,2919,2920,2921,2922,2923,2924,2925,2926,2927,2928,2929,2930,2931,2932,2933,2934,2935,2936,2937,2938,2939,2940,2941,2942,2943,2944,2945,2946,2947,2948,2949,2950,2951,2952,2953,2954,2955,2956,2957,2958,2959,2960,2961,2962,2963,2964,2965,2966,2967,2968,2969,2970,2971,2972,2973,2974,2975,2976,2977,2978,2979,2980,2981,2982,2983,2984,2985,2986,2987,2988,2989,2990,2991,2992,2993,2994,2995,2996,2997,2998,2999,3000,3001,3002,3003,3004,3005,3006,3007,3008,3009,3010,3011,3012,3013,3014,3015,3016,3017,3018,3019,3020,3021,3022,3023,3024,3025,3026,3027,3028,3029,3030,3031,3032,3033,3034,3035,3036,3037,3038,3039,3040,3041,3042,3043,3044,3045,3046,3047,3048,3049,3050,3051,3052,3053,3054,3055,3056,3057,3058,3059,3060,3061,3062,3063,3064,3065,3066,3067,3068,3069,3070,3071,3072,3073,3074,3075,3076,3077,3078,3079,3080,3081,3082,3083,3084,3085,3086,3087,3088,3089,3090,3091,3092,3093,3094,3095,3096,3097,3098,3099,3100,3101,3102,3103,3104,3105,3106,3107,3108,3109,3110,3111,3112,3113,3114,3115,3116,3117,3118,3119,3120,3121,3122,3123,3124,3125,3126,3127,3128,3129,3130,3131,3132,3133,3134,3135,3136,3137,3138,3139,3140,3141,3142,3143,3144,3145,3146,3147,3148,3149,3150,3151,3152,3153,3154,3155,3156,3157,3158,3159,3160,3161,3162,3163,3164,3165,3166,3167,3168,3169,3170,3171,3172,3173,3174,3175,3176,3177,3178,3179,3180,3181,3182,3183,3184,3185,3186,3187,3188,3189,3190,3191,3192,3193,3194,3195,3196,3197,3198,3199,3200,3201,3202,3203,3204,3205,3206,3207,3208,3209,3210,3211,3212,3213,3214,3215,3216,3217,3218,3219,3220,3221,3222,3223,3224,3225,3226,3227,3228,3229,3230,3231,3232,3233,3234,3235,3236,3237,3238,3239,3240,3241,3242,3243,3244,3245,3246,3247,3248,3249,3250,3251,3252,3253,3254,3255,3256,3257,3258,3259,3260,3261,3262,3263,3264,3265,3266,3267,3268,3269,3270,3271,3272,3273,3274,3275,3276,3277,3278,3279,3280,3281,3282,3283,3284,3285,3286,3287,3288,3289,3290,3291,3292,3293,3294,3295,3296,3297,3298,3299,3300,3301,3302,3303,3304,3305,3306,3307,3308,3309,3310,3311,3312,3313,3314,3315,3316,3317,3318,3319,3320,3321,3322,3323,3324,3325,3326,3327,3328,3329,3330,3331,3332,3333,3334,3335,3336,3337,3338,3339,3340,3341,3342,3343,3344,3345,3346,3347,3348,3349,3350,3351,3352,3353,3354,3355,3356,3357,3358,3359,3360,3361,3362,3363,3364,3365,3366,3367,3368,3369,3370,3371,3372,3373,3374,3375,3376,3377,3378,3379,3380,3381,3382,3383,3384,3385,3386,3387,3388,3389,3390,3391,3392,3393,3394,3395,3396,3397,3398,3399,3400,3401,3402,3403,3404,3405,3406,3407,3408,3409,3410,3411,3412,3413,3414,3415,3416,3417,3418,3419,3420,3421,3422,3423,3424,3425,3426,3427,3428,3429,3430,3431,3432,3433,3434,3435,3436,3437,3438,3439,3440,3441,3442,3443,3444,3445,3446,3447,3448,3449,3450,3451,3452,3453,3454,3455,3456,3457,3458,3459,3460,3461,3462,3463,3464,3465,3466,3467,3468,3469,3470,3471,3472,3473,3474,3475,3476,3477,3478,3479,3480,3481,3482,3483,3484,3485,3486,3487,3488,3489,3490,3491,3492,3493,3494,3495,3496,3497,3498,3499,3500,3501,3502,3503,3504,3505,3506,3507,3508,3509,3510,3511,3512,3513,3514,3515,3516,3517,3518,3519,3520,3521,3522,3523,3524,3525,3526,3527,3528,3529,3530,3531,3532,3533,3534,3535,3536,3537,3538,3539,3540,3541,3542,3543,3544,3545,3546,3547,3548,3549,3550,3551,3552,3553,3554,3555,3556,3557,3558,3559],\"x_coord\":{\"__ndarray__\":\"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\",\"dtype\":\"float32\",\"shape\":[3560]},\"y_coord\":{\"__ndarray__\":\"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\",\"dtype\":\"float32\",\"shape\":[3560]}},\"selected\":{\"id\":\"fd431bb1-3782-48db-9cff-d80a3322bcbc\",\"type\":\"Selection\"},\"selection_policy\":{\"id\":\"3f141f85-4d2c-48d7-869a-49b93c6537f9\",\"type\":\"UnionRenderers\"}},\"id\":\"81d7b2f2-c78b-4286-af6a-a3c50c46314e\",\"type\":\"ColumnDataSource\"},{\"attributes\":{\"callback\":null},\"id\":\"cb3c5bdd-401d-4742-9257-010ea09dd966\",\"type\":\"DataRange1d\"},{\"attributes\":{},\"id\":\"b5c10ebe-ff31-4e60-989a-0cb93b0795d3\",\"type\":\"LinearScale\"}],\"root_ids\":[\"8d23b74c-c6b4-49ad-bab0-0fcb48ac4272\"]},\"title\":\"Bokeh Application\",\"version\":\"0.13.0\"}};\n",
       "  var render_items = [{\"docid\":\"8af2ca48-f1e1-4bb3-a6d7-c6c402aa5c0d\",\"roots\":{\"8d23b74c-c6b4-49ad-bab0-0fcb48ac4272\":\"c1a25d98-42ff-4d87-b5a1-ef5ec1682151\"}}];\n",
       "  root.Bokeh.embed.embed_items_notebook(docs_json, render_items);\n",
       "\n",
       "  }\n",
       "  if (root.Bokeh !== undefined) {\n",
       "    embed_document(root);\n",
       "  } else {\n",
       "    var attempts = 0;\n",
       "    var timer = setInterval(function(root) {\n",
       "      if (root.Bokeh !== undefined) {\n",
       "        embed_document(root);\n",
       "        clearInterval(timer);\n",
       "      }\n",
       "      attempts++;\n",
       "      if (attempts > 100) {\n",
       "        console.log(\"Bokeh: ERROR: Unable to run BokehJS code because BokehJS library is missing\")\n",
       "        clearInterval(timer);\n",
       "      }\n",
       "    }, 10, root)\n",
       "  }\n",
       "})(window);"
      ],
      "application/vnd.bokehjs_exec.v0+json": ""
     },
     "metadata": {
      "application/vnd.bokehjs_exec.v0+json": {
       "id": "8d23b74c-c6b4-49ad-bab0-0fcb48ac4272"
      }
     },
     "output_type": "display_data"
    }
   ],
   "source": [
    "# add our DataFrame as a ColumnDataSource for Bokeh\n",
    "plot_data = ColumnDataSource(umap_vectors)\n",
    "\n",
    "# create the plot and configure the\n",
    "# title, dimensions, and tools\n",
    "umap_plot = figure(title=u'UMAP Word Embeddings',\n",
    "                   plot_width = 800,\n",
    "                   plot_height = 800,\n",
    "                   tools= (u'pan, wheel_zoom, box_zoom,'\n",
    "                           u'box_select, reset'),\n",
    "                   active_scroll=u'wheel_zoom')\n",
    "\n",
    "# add a hover tool to display words on roll-over\n",
    "umap_plot.add_tools( HoverTool(tooltips = u'@word') )\n",
    "\n",
    "# draw the words as circles on the plot\n",
    "umap_plot.circle(u'x_coord', u'y_coord', source=plot_data,\n",
    "                 color=u'blue', line_alpha=0.2, fill_alpha=0.1,\n",
    "                 size=10, hover_line_color=u'black')\n",
    "\n",
    "# configure visual elements of the plot\n",
    "umap_plot.title.text_font_size = value(u'16pt')\n",
    "umap_plot.xaxis.visible = False\n",
    "umap_plot.yaxis.visible = False\n",
    "umap_plot.grid.grid_line_color = None\n",
    "umap_plot.outline_line_color = None\n",
    "\n",
    "# engage!\n",
    "show(umap_plot);"
   ]
  }
 ],
 "metadata": {
  "kernelspec": {
   "display_name": "Python 3",
   "language": "python",
   "name": "python3"
  },
  "language_info": {
   "codemirror_mode": {
    "name": "ipython",
    "version": 3
   },
   "file_extension": ".py",
   "mimetype": "text/x-python",
   "name": "python",
   "nbconvert_exporter": "python",
   "pygments_lexer": "ipython3",
   "version": "3.6.9"
  }
 },
 "nbformat": 4,
 "nbformat_minor": 4
}
