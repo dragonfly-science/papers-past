{
 "cells": [
  {
   "cell_type": "markdown",
   "metadata": {},
   "source": [
    "# Text exploration"
   ]
  },
  {
   "cell_type": "markdown",
   "metadata": {},
   "source": [
    "Here we explore the text data we have so far. We want to see what sort of analyses are possible."
   ]
  },
  {
   "cell_type": "code",
   "execution_count": 1,
   "metadata": {},
   "outputs": [],
   "source": [
    "import os\n",
    "import re\n",
    "import json\n",
    "import numpy as np\n",
    "import pandas as pd\n",
    "from utils import multicore_apply\n",
    "\n",
    "from nltk.tokenize import sent_tokenize\n",
    "from sklearn.feature_extraction.text import TfidfVectorizer\n",
    "\n",
    "%matplotlib inline\n",
    "\n",
    "pd.set_option('display.max_columns', None)"
   ]
  },
  {
   "cell_type": "markdown",
   "metadata": {},
   "source": [
    "## Load the data"
   ]
  },
  {
   "cell_type": "code",
   "execution_count": 2,
   "metadata": {},
   "outputs": [],
   "source": [
    "with open('../data/maori_newspapers.json', 'r') as f:\n",
    "    papers = pd.DataFrame(json.load(f))"
   ]
  },
  {
   "cell_type": "code",
   "execution_count": 3,
   "metadata": {},
   "outputs": [
    {
     "data": {
      "text/html": [
       "<div>\n",
       "<style scoped>\n",
       "    .dataframe tbody tr th:only-of-type {\n",
       "        vertical-align: middle;\n",
       "    }\n",
       "\n",
       "    .dataframe tbody tr th {\n",
       "        vertical-align: top;\n",
       "    }\n",
       "\n",
       "    .dataframe thead th {\n",
       "        text-align: right;\n",
       "    }\n",
       "</style>\n",
       "<table border=\"1\" class=\"dataframe\">\n",
       "  <thead>\n",
       "    <tr style=\"text-align: right;\">\n",
       "      <th></th>\n",
       "      <th>url</th>\n",
       "      <th>text</th>\n",
       "    </tr>\n",
       "  </thead>\n",
       "  <tbody>\n",
       "    <tr>\n",
       "      <th>0</th>\n",
       "      <td>https://paperspast.natlib.govt.nz/newspapers/A...</td>\n",
       "      <td>WANTKD, a smart LAD, ' and n rite. Apply ai Zi...</td>\n",
       "    </tr>\n",
       "    <tr>\n",
       "      <th>1</th>\n",
       "      <td>https://paperspast.natlib.govt.nz/newspapers/A...</td>\n",
       "      <td>KO TE KAI-WHAKAMATAARA O NGA IWI ERUA.\\n\"Na te...</td>\n",
       "    </tr>\n",
       "    <tr>\n",
       "      <th>2</th>\n",
       "      <td>https://paperspast.natlib.govt.nz/newspapers/A...</td>\n",
       "      <td>KI WGA MAORI : '• ■ ‘ ■ ■ - ■ ■ ; 1 SVgil c.la...</td>\n",
       "    </tr>\n",
       "    <tr>\n",
       "      <th>3</th>\n",
       "      <td>https://paperspast.natlib.govt.nz/newspapers/A...</td>\n",
       "      <td>HE MEA TUKU MAI E NGA WHARE ERUA O TE PAREMATA...</td>\n",
       "    </tr>\n",
       "    <tr>\n",
       "      <th>4</th>\n",
       "      <td>https://paperspast.natlib.govt.nz/newspapers/A...</td>\n",
       "      <td>KO TE NIUPEPA MAORI. EI te Turei tuatahi o te ...</td>\n",
       "    </tr>\n",
       "    <tr>\n",
       "      <th>...</th>\n",
       "      <td>...</td>\n",
       "      <td>...</td>\n",
       "    </tr>\n",
       "    <tr>\n",
       "      <th>29371</th>\n",
       "      <td>https://paperspast.natlib.govt.nz/newspapers/W...</td>\n",
       "      <td>TE WAKA MAORI O AHURIRI.\\n\"KO TE TIKA, KO TE P...</td>\n",
       "    </tr>\n",
       "    <tr>\n",
       "      <th>29372</th>\n",
       "      <td>https://paperspast.natlib.govt.nz/newspapers/W...</td>\n",
       "      <td>TARANAKI.\\nKUA HINGA TE PAREKURA. EKUA TE KAU ...</td>\n",
       "    </tr>\n",
       "    <tr>\n",
       "      <th>29373</th>\n",
       "      <td>https://paperspast.natlib.govt.nz/newspapers/W...</td>\n",
       "      <td>Eta ma. Kia rongo koutou. Ko tenei nupepa tuat...</td>\n",
       "    </tr>\n",
       "    <tr>\n",
       "      <th>29374</th>\n",
       "      <td>https://paperspast.natlib.govt.nz/newspapers/W...</td>\n",
       "      <td>Me Hoturoa o mua i te i tona waka, a Tainui, k...</td>\n",
       "    </tr>\n",
       "    <tr>\n",
       "      <th>29375</th>\n",
       "      <td>https://paperspast.natlib.govt.nz/newspapers/W...</td>\n",
       "      <td>TE WAKA MAORI O AHURIRI.\\nN0.1.]\\n\" NEPIA, HAT...</td>\n",
       "    </tr>\n",
       "  </tbody>\n",
       "</table>\n",
       "<p>29376 rows × 2 columns</p>\n",
       "</div>"
      ],
      "text/plain": [
       "                                                     url  \\\n",
       "0      https://paperspast.natlib.govt.nz/newspapers/A...   \n",
       "1      https://paperspast.natlib.govt.nz/newspapers/A...   \n",
       "2      https://paperspast.natlib.govt.nz/newspapers/A...   \n",
       "3      https://paperspast.natlib.govt.nz/newspapers/A...   \n",
       "4      https://paperspast.natlib.govt.nz/newspapers/A...   \n",
       "...                                                  ...   \n",
       "29371  https://paperspast.natlib.govt.nz/newspapers/W...   \n",
       "29372  https://paperspast.natlib.govt.nz/newspapers/W...   \n",
       "29373  https://paperspast.natlib.govt.nz/newspapers/W...   \n",
       "29374  https://paperspast.natlib.govt.nz/newspapers/W...   \n",
       "29375  https://paperspast.natlib.govt.nz/newspapers/W...   \n",
       "\n",
       "                                                    text  \n",
       "0      WANTKD, a smart LAD, ' and n rite. Apply ai Zi...  \n",
       "1      KO TE KAI-WHAKAMATAARA O NGA IWI ERUA.\\n\"Na te...  \n",
       "2      KI WGA MAORI : '• ■ ‘ ■ ■ - ■ ■ ; 1 SVgil c.la...  \n",
       "3      HE MEA TUKU MAI E NGA WHARE ERUA O TE PAREMATA...  \n",
       "4      KO TE NIUPEPA MAORI. EI te Turei tuatahi o te ...  \n",
       "...                                                  ...  \n",
       "29371  TE WAKA MAORI O AHURIRI.\\n\"KO TE TIKA, KO TE P...  \n",
       "29372  TARANAKI.\\nKUA HINGA TE PAREKURA. EKUA TE KAU ...  \n",
       "29373  Eta ma. Kia rongo koutou. Ko tenei nupepa tuat...  \n",
       "29374  Me Hoturoa o mua i te i tona waka, a Tainui, k...  \n",
       "29375  TE WAKA MAORI O AHURIRI.\\nN0.1.]\\n\" NEPIA, HAT...  \n",
       "\n",
       "[29376 rows x 2 columns]"
      ]
     },
     "execution_count": 3,
     "metadata": {},
     "output_type": "execute_result"
    }
   ],
   "source": [
    "papers"
   ]
  },
  {
   "cell_type": "code",
   "execution_count": 4,
   "metadata": {},
   "outputs": [
    {
     "data": {
      "text/html": [
       "<div>\n",
       "<style scoped>\n",
       "    .dataframe tbody tr th:only-of-type {\n",
       "        vertical-align: middle;\n",
       "    }\n",
       "\n",
       "    .dataframe tbody tr th {\n",
       "        vertical-align: top;\n",
       "    }\n",
       "\n",
       "    .dataframe thead th {\n",
       "        text-align: right;\n",
       "    }\n",
       "</style>\n",
       "<table border=\"1\" class=\"dataframe\">\n",
       "  <thead>\n",
       "    <tr style=\"text-align: right;\">\n",
       "      <th></th>\n",
       "      <th>url</th>\n",
       "      <th>text</th>\n",
       "      <th>newspaper_id</th>\n",
       "      <th>year</th>\n",
       "      <th>month</th>\n",
       "      <th>day</th>\n",
       "      <th>id</th>\n",
       "    </tr>\n",
       "  </thead>\n",
       "  <tbody>\n",
       "    <tr>\n",
       "      <th>0</th>\n",
       "      <td>https://paperspast.natlib.govt.nz/newspapers/A...</td>\n",
       "      <td>WANTKD, a smart LAD, ' and n rite. Apply ai Zi...</td>\n",
       "      <td>AMW</td>\n",
       "      <td>1848</td>\n",
       "      <td>07</td>\n",
       "      <td>18</td>\n",
       "      <td>2.12.1</td>\n",
       "    </tr>\n",
       "    <tr>\n",
       "      <th>1</th>\n",
       "      <td>https://paperspast.natlib.govt.nz/newspapers/A...</td>\n",
       "      <td>KO TE KAI-WHAKAMATAARA O NGA IWI ERUA.\\n\"Na te...</td>\n",
       "      <td>AMW</td>\n",
       "      <td>1848</td>\n",
       "      <td>07</td>\n",
       "      <td>18</td>\n",
       "      <td>2.11</td>\n",
       "    </tr>\n",
       "    <tr>\n",
       "      <th>2</th>\n",
       "      <td>https://paperspast.natlib.govt.nz/newspapers/A...</td>\n",
       "      <td>KI WGA MAORI : '• ■ ‘ ■ ■ - ■ ■ ; 1 SVgil c.la...</td>\n",
       "      <td>AONUPEP</td>\n",
       "      <td>1892</td>\n",
       "      <td>06</td>\n",
       "      <td>04</td>\n",
       "      <td>2.14.1</td>\n",
       "    </tr>\n",
       "    <tr>\n",
       "      <th>3</th>\n",
       "      <td>https://paperspast.natlib.govt.nz/newspapers/A...</td>\n",
       "      <td>HE MEA TUKU MAI E NGA WHARE ERUA O TE PAREMATA...</td>\n",
       "      <td>AONUPEP</td>\n",
       "      <td>1892</td>\n",
       "      <td>06</td>\n",
       "      <td>04</td>\n",
       "      <td>2.13</td>\n",
       "    </tr>\n",
       "    <tr>\n",
       "      <th>4</th>\n",
       "      <td>https://paperspast.natlib.govt.nz/newspapers/A...</td>\n",
       "      <td>KO TE NIUPEPA MAORI. EI te Turei tuatahi o te ...</td>\n",
       "      <td>AMW</td>\n",
       "      <td>1848</td>\n",
       "      <td>10</td>\n",
       "      <td>19</td>\n",
       "      <td>2.14.1</td>\n",
       "    </tr>\n",
       "  </tbody>\n",
       "</table>\n",
       "</div>"
      ],
      "text/plain": [
       "                                                 url  \\\n",
       "0  https://paperspast.natlib.govt.nz/newspapers/A...   \n",
       "1  https://paperspast.natlib.govt.nz/newspapers/A...   \n",
       "2  https://paperspast.natlib.govt.nz/newspapers/A...   \n",
       "3  https://paperspast.natlib.govt.nz/newspapers/A...   \n",
       "4  https://paperspast.natlib.govt.nz/newspapers/A...   \n",
       "\n",
       "                                                text newspaper_id  year month  \\\n",
       "0  WANTKD, a smart LAD, ' and n rite. Apply ai Zi...          AMW  1848    07   \n",
       "1  KO TE KAI-WHAKAMATAARA O NGA IWI ERUA.\\n\"Na te...          AMW  1848    07   \n",
       "2  KI WGA MAORI : '• ■ ‘ ■ ■ - ■ ■ ; 1 SVgil c.la...      AONUPEP  1892    06   \n",
       "3  HE MEA TUKU MAI E NGA WHARE ERUA O TE PAREMATA...      AONUPEP  1892    06   \n",
       "4  KO TE NIUPEPA MAORI. EI te Turei tuatahi o te ...          AMW  1848    10   \n",
       "\n",
       "  day      id  \n",
       "0  18  2.12.1  \n",
       "1  18    2.11  \n",
       "2  04  2.14.1  \n",
       "3  04    2.13  \n",
       "4  19  2.14.1  "
      ]
     },
     "execution_count": 4,
     "metadata": {},
     "output_type": "execute_result"
    }
   ],
   "source": [
    "col_patterns = {\n",
    "    'newspaper_id': '([A-Z]+)[^/]+$',\n",
    "    'year': '[A-Z]+([0-9]{4})[^/]+$',\n",
    "    'month': '[A-Z]+[0-9]{4}([0-9]{2})[^/]+$',\n",
    "    'day': '[A-Z]+[0-9]{6}([0-9]{2})[^/]+$',\n",
    "    'id': '[A-Z]+[0-9]+\\.([^/]+)$'\n",
    "}\n",
    "\n",
    "for col, pattern in col_patterns.items():\n",
    "    papers[col] = papers.url.str.extract(pattern)\n",
    "\n",
    "papers.head()"
   ]
  },
  {
   "cell_type": "code",
   "execution_count": 42,
   "metadata": {},
   "outputs": [
    {
     "data": {
      "text/plain": [
       "1566"
      ]
     },
     "execution_count": 42,
     "metadata": {},
     "output_type": "execute_result"
    }
   ],
   "source": [
    "len(papers[['newspaper_id', 'year', 'month', 'day']].drop_duplicates())"
   ]
  },
  {
   "cell_type": "code",
   "execution_count": 36,
   "metadata": {},
   "outputs": [
    {
     "data": {
      "text/plain": [
       "28259"
      ]
     },
     "execution_count": 36,
     "metadata": {},
     "output_type": "execute_result"
    }
   ],
   "source": [
    "len(papers.url.unique())"
   ]
  },
  {
   "cell_type": "code",
   "execution_count": 30,
   "metadata": {},
   "outputs": [],
   "source": [
    "papers.year.value_counts().sort_index().to_frame().reset_index().to_csv('articles_per_year.csv')"
   ]
  },
  {
   "cell_type": "code",
   "execution_count": 6,
   "metadata": {},
   "outputs": [
    {
     "name": "stdout",
     "output_type": "stream",
     "text": [
      "21\n"
     ]
    }
   ],
   "source": [
    "print(len(papers.newspaper_id.unique()))"
   ]
  },
  {
   "cell_type": "code",
   "execution_count": 7,
   "metadata": {},
   "outputs": [
    {
     "data": {
      "text/plain": [
       "MMTKM      5448\n",
       "WAKAM      5343\n",
       "WANANG     4226\n",
       "KORIM      3394\n",
       "MATUH      2587\n",
       "PUKEH      2269\n",
       "JUBIL      2193\n",
       "HUIA        997\n",
       "KOP         818\n",
       "MKURA       798\n",
       "AMW         475\n",
       "HAEATA      357\n",
       "PAKIOM      199\n",
       "WHETU        66\n",
       "KAHITI       56\n",
       "HOKIOI       51\n",
       "TAKIT        31\n",
       "AONUPEP      23\n",
       "PIHOI        22\n",
       "MATAR        20\n",
       "HIIR          3\n",
       "Name: newspaper_id, dtype: int64"
      ]
     },
     "execution_count": 7,
     "metadata": {},
     "output_type": "execute_result"
    }
   ],
   "source": [
    "papers.newspaper_id.value_counts()"
   ]
  },
  {
   "cell_type": "code",
   "execution_count": 8,
   "metadata": {},
   "outputs": [],
   "source": [
    "papers['paragraph'] = papers.text.apply(lambda s: s.split(\"\\n\"))\n",
    "papers = papers.explode('paragraph')"
   ]
  },
  {
   "cell_type": "code",
   "execution_count": 9,
   "metadata": {},
   "outputs": [
    {
     "name": "stderr",
     "output_type": "stream",
     "text": [
      "100%|██████████| 94.3k/94.3k [00:01<00:00, 60.7kit/s] \n",
      "94346it [00:00, 520567.04it/s]\n"
     ]
    },
    {
     "data": {
      "text/html": [
       "<div>\n",
       "<style scoped>\n",
       "    .dataframe tbody tr th:only-of-type {\n",
       "        vertical-align: middle;\n",
       "    }\n",
       "\n",
       "    .dataframe tbody tr th {\n",
       "        vertical-align: top;\n",
       "    }\n",
       "\n",
       "    .dataframe thead th {\n",
       "        text-align: right;\n",
       "    }\n",
       "</style>\n",
       "<table border=\"1\" class=\"dataframe\">\n",
       "  <thead>\n",
       "    <tr style=\"text-align: right;\">\n",
       "      <th></th>\n",
       "      <th>url</th>\n",
       "      <th>text</th>\n",
       "      <th>newspaper_id</th>\n",
       "      <th>year</th>\n",
       "      <th>month</th>\n",
       "      <th>day</th>\n",
       "      <th>id</th>\n",
       "      <th>paragraph</th>\n",
       "      <th>sentence</th>\n",
       "    </tr>\n",
       "  </thead>\n",
       "  <tbody>\n",
       "    <tr>\n",
       "      <th>0</th>\n",
       "      <td>https://paperspast.natlib.govt.nz/newspapers/A...</td>\n",
       "      <td>WANTKD, a smart LAD, ' and n rite. Apply ai Zi...</td>\n",
       "      <td>AMW</td>\n",
       "      <td>1848</td>\n",
       "      <td>07</td>\n",
       "      <td>18</td>\n",
       "      <td>2.12.1</td>\n",
       "      <td>WANTKD, a smart LAD, ' and n rite. Apply ai Zi...</td>\n",
       "      <td>WANTKD, a smart LAD, ' and n rite.</td>\n",
       "    </tr>\n",
       "    <tr>\n",
       "      <th>0</th>\n",
       "      <td>https://paperspast.natlib.govt.nz/newspapers/A...</td>\n",
       "      <td>WANTKD, a smart LAD, ' and n rite. Apply ai Zi...</td>\n",
       "      <td>AMW</td>\n",
       "      <td>1848</td>\n",
       "      <td>07</td>\n",
       "      <td>18</td>\n",
       "      <td>2.12.1</td>\n",
       "      <td>WANTKD, a smart LAD, ' and n rite. Apply ai Zi...</td>\n",
       "      <td>Apply ai Zi alamli'i\" Office.</td>\n",
       "    </tr>\n",
       "    <tr>\n",
       "      <th>1</th>\n",
       "      <td>https://paperspast.natlib.govt.nz/newspapers/A...</td>\n",
       "      <td>KO TE KAI-WHAKAMATAARA O NGA IWI ERUA.\\n\"Na te...</td>\n",
       "      <td>AMW</td>\n",
       "      <td>1848</td>\n",
       "      <td>07</td>\n",
       "      <td>18</td>\n",
       "      <td>2.11</td>\n",
       "      <td>KO TE KAI-WHAKAMATAARA O NGA IWI ERUA.</td>\n",
       "      <td>KO TE KAI-WHAKAMATAARA O NGA IWI ERUA.</td>\n",
       "    </tr>\n",
       "    <tr>\n",
       "      <th>1</th>\n",
       "      <td>https://paperspast.natlib.govt.nz/newspapers/A...</td>\n",
       "      <td>KO TE KAI-WHAKAMATAARA O NGA IWI ERUA.\\n\"Na te...</td>\n",
       "      <td>AMW</td>\n",
       "      <td>1848</td>\n",
       "      <td>07</td>\n",
       "      <td>18</td>\n",
       "      <td>2.11</td>\n",
       "      <td>\"Na te Tika i toa ai.\" Turei, Huri 17, 1848.</td>\n",
       "      <td>\"Na te Tika i toa ai.\"</td>\n",
       "    </tr>\n",
       "    <tr>\n",
       "      <th>1</th>\n",
       "      <td>https://paperspast.natlib.govt.nz/newspapers/A...</td>\n",
       "      <td>KO TE KAI-WHAKAMATAARA O NGA IWI ERUA.\\n\"Na te...</td>\n",
       "      <td>AMW</td>\n",
       "      <td>1848</td>\n",
       "      <td>07</td>\n",
       "      <td>18</td>\n",
       "      <td>2.11</td>\n",
       "      <td>\"Na te Tika i toa ai.\" Turei, Huri 17, 1848.</td>\n",
       "      <td>Turei, Huri 17, 1848.</td>\n",
       "    </tr>\n",
       "  </tbody>\n",
       "</table>\n",
       "</div>"
      ],
      "text/plain": [
       "                                                 url  \\\n",
       "0  https://paperspast.natlib.govt.nz/newspapers/A...   \n",
       "0  https://paperspast.natlib.govt.nz/newspapers/A...   \n",
       "1  https://paperspast.natlib.govt.nz/newspapers/A...   \n",
       "1  https://paperspast.natlib.govt.nz/newspapers/A...   \n",
       "1  https://paperspast.natlib.govt.nz/newspapers/A...   \n",
       "\n",
       "                                                text newspaper_id  year month  \\\n",
       "0  WANTKD, a smart LAD, ' and n rite. Apply ai Zi...          AMW  1848    07   \n",
       "0  WANTKD, a smart LAD, ' and n rite. Apply ai Zi...          AMW  1848    07   \n",
       "1  KO TE KAI-WHAKAMATAARA O NGA IWI ERUA.\\n\"Na te...          AMW  1848    07   \n",
       "1  KO TE KAI-WHAKAMATAARA O NGA IWI ERUA.\\n\"Na te...          AMW  1848    07   \n",
       "1  KO TE KAI-WHAKAMATAARA O NGA IWI ERUA.\\n\"Na te...          AMW  1848    07   \n",
       "\n",
       "  day      id                                          paragraph  \\\n",
       "0  18  2.12.1  WANTKD, a smart LAD, ' and n rite. Apply ai Zi...   \n",
       "0  18  2.12.1  WANTKD, a smart LAD, ' and n rite. Apply ai Zi...   \n",
       "1  18    2.11             KO TE KAI-WHAKAMATAARA O NGA IWI ERUA.   \n",
       "1  18    2.11       \"Na te Tika i toa ai.\" Turei, Huri 17, 1848.   \n",
       "1  18    2.11       \"Na te Tika i toa ai.\" Turei, Huri 17, 1848.   \n",
       "\n",
       "                                 sentence  \n",
       "0      WANTKD, a smart LAD, ' and n rite.  \n",
       "0           Apply ai Zi alamli'i\" Office.  \n",
       "1  KO TE KAI-WHAKAMATAARA O NGA IWI ERUA.  \n",
       "1                  \"Na te Tika i toa ai.\"  \n",
       "1                   Turei, Huri 17, 1848.  "
      ]
     },
     "execution_count": 9,
     "metadata": {},
     "output_type": "execute_result"
    }
   ],
   "source": [
    "papers['sentence'] = multicore_apply(papers.paragraph, sent_tokenize)\n",
    "papers = papers.explode('sentence')\n",
    "papers = papers[~papers.sentence.isna()]\n",
    "\n",
    "papers.head()"
   ]
  },
  {
   "cell_type": "code",
   "execution_count": 11,
   "metadata": {},
   "outputs": [],
   "source": [
    "papers['clean_sentence'] = (papers\n",
    "    .sentence\n",
    "    .str.replace(\"[\\-—]+\", \" \")\n",
    "    .str.replace(\"[^\\w\\s]+\", \"\")\n",
    "    .str.lower()\n",
    ")"
   ]
  },
  {
   "cell_type": "code",
   "execution_count": 28,
   "metadata": {},
   "outputs": [
    {
     "data": {
      "text/plain": [
       "<AxesSubplot:ylabel='Frequency'>"
      ]
     },
     "execution_count": 28,
     "metadata": {},
     "output_type": "execute_result"
    },
    {
     "data": {
      "image/png": "[encoded data removed]",
      "text/plain": [
       "<Figure size 432x288 with 1 Axes>"
      ]
     },
     "metadata": {
      "needs_background": "light"
     },
     "output_type": "display_data"
    }
   ],
   "source": [
    "np.log10(pd.Series([w for s in papers['clean_sentence'] for w in s.split()]).value_counts()).plot(kind = 'hist', bins = 30, logy = True)"
   ]
  },
  {
   "cell_type": "code",
   "execution_count": 13,
   "metadata": {},
   "outputs": [],
   "source": [
    "papers['num_words'] = papers.clean_sentence.apply(lambda x: len(x.split()))"
   ]
  },
  {
   "cell_type": "code",
   "execution_count": 14,
   "metadata": {},
   "outputs": [
    {
     "data": {
      "text/plain": [
       "<AxesSubplot:ylabel='newspaper_id'>"
      ]
     },
     "execution_count": 14,
     "metadata": {},
     "output_type": "execute_result"
    },
    {
     "data": {
      "image/png": "[encoded data removed]",
      "text/plain": [
       "<Figure size 432x288 with 1 Axes>"
      ]
     },
     "metadata": {
      "needs_background": "light"
     },
     "output_type": "display_data"
    }
   ],
   "source": [
    "papers.groupby('newspaper_id').agg({'num_words': np.sum}).sort_values('num_words').plot(kind = 'barh')"
   ]
  },
  {
   "cell_type": "code",
   "execution_count": 15,
   "metadata": {},
   "outputs": [],
   "source": [
    "newspaper_corpus = papers.groupby('newspaper_id').agg({'clean_sentence': lambda s: ' '.join(s)}).clean_sentence"
   ]
  },
  {
   "cell_type": "code",
   "execution_count": 21,
   "metadata": {},
   "outputs": [],
   "source": [
    "tfidf = TfidfVectorizer(stop_words = 'english', min_df = 3, max_df = 0.9, ngram_range = (1,4))"
   ]
  },
  {
   "cell_type": "code",
   "execution_count": 22,
   "metadata": {},
   "outputs": [
    {
     "name": "stdout",
     "output_type": "stream",
     "text": [
      "CPU times: user 55.2 s, sys: 1.74 s, total: 56.9 s\n",
      "Wall time: 56.9 s\n"
     ]
    }
   ],
   "source": [
    "%%time\n",
    "X = tfidf.fit_transform(newspaper_corpus)"
   ]
  },
  {
   "cell_type": "code",
   "execution_count": 23,
   "metadata": {},
   "outputs": [
    {
     "data": {
      "text/plain": [
       "<21x588366 sparse matrix of type '<class 'numpy.float64'>'\n",
       "\twith 2740979 stored elements in Compressed Sparse Row format>"
      ]
     },
     "execution_count": 23,
     "metadata": {},
     "output_type": "execute_result"
    }
   ],
   "source": [
    "X"
   ]
  },
  {
   "cell_type": "code",
   "execution_count": 24,
   "metadata": {},
   "outputs": [
    {
     "name": "stdout",
     "output_type": "stream",
     "text": [
      "['00', '00 10', '00 ka', '00 ko', '00 ko nga', '000', '000 000', '000 ko', '000 mano', '000 nga']\n"
     ]
    }
   ],
   "source": [
    "print(tfidf.get_feature_names()[:10])"
   ]
  },
  {
   "cell_type": "markdown",
   "metadata": {},
   "source": [
    "## Show the top 10 words by TFIDF"
   ]
  },
  {
   "cell_type": "code",
   "execution_count": 25,
   "metadata": {},
   "outputs": [
    {
     "data": {
      "text/html": [
       "<div>\n",
       "<style scoped>\n",
       "    .dataframe tbody tr th:only-of-type {\n",
       "        vertical-align: middle;\n",
       "    }\n",
       "\n",
       "    .dataframe tbody tr th {\n",
       "        vertical-align: top;\n",
       "    }\n",
       "\n",
       "    .dataframe thead th {\n",
       "        text-align: right;\n",
       "    }\n",
       "</style>\n",
       "<table border=\"1\" class=\"dataframe\">\n",
       "  <thead>\n",
       "    <tr style=\"text-align: right;\">\n",
       "      <th></th>\n",
       "      <th>0</th>\n",
       "      <th>1</th>\n",
       "      <th>2</th>\n",
       "      <th>3</th>\n",
       "      <th>4</th>\n",
       "      <th>5</th>\n",
       "      <th>6</th>\n",
       "      <th>7</th>\n",
       "      <th>8</th>\n",
       "      <th>9</th>\n",
       "    </tr>\n",
       "  </thead>\n",
       "  <tbody>\n",
       "    <tr>\n",
       "      <th>AMW</th>\n",
       "      <td>new</td>\n",
       "      <td>tbe</td>\n",
       "      <td>said</td>\n",
       "      <td>mr</td>\n",
       "      <td>government</td>\n",
       "      <td>time</td>\n",
       "      <td>great</td>\n",
       "      <td>land</td>\n",
       "      <td>shall</td>\n",
       "      <td>zealand</td>\n",
       "    </tr>\n",
       "    <tr>\n",
       "      <th>AONUPEP</th>\n",
       "      <td>kawanatanga</td>\n",
       "      <td>paremata</td>\n",
       "      <td>kooti</td>\n",
       "      <td>whenua maori</td>\n",
       "      <td>te paremata</td>\n",
       "      <td>te kawanatanga</td>\n",
       "      <td>te iwi maori</td>\n",
       "      <td>komihana</td>\n",
       "      <td>te kooti</td>\n",
       "      <td>tiriti</td>\n",
       "    </tr>\n",
       "    <tr>\n",
       "      <th>HAEATA</th>\n",
       "      <td>ki le</td>\n",
       "      <td>kahore</td>\n",
       "      <td>ole</td>\n",
       "      <td>alua</td>\n",
       "      <td>ralou</td>\n",
       "      <td>tangaia</td>\n",
       "      <td>hahi</td>\n",
       "      <td>lenei</td>\n",
       "      <td>tapu</td>\n",
       "      <td>te atua</td>\n",
       "    </tr>\n",
       "    <tr>\n",
       "      <th>HIIR</th>\n",
       "      <td>kaunihera</td>\n",
       "      <td>kaunihora</td>\n",
       "      <td>te kaunihera</td>\n",
       "      <td>tuuru ka</td>\n",
       "      <td>tiamana</td>\n",
       "      <td>mema</td>\n",
       "      <td>nga mema</td>\n",
       "      <td>kohi</td>\n",
       "      <td>te whitu</td>\n",
       "      <td>hekeretari</td>\n",
       "    </tr>\n",
       "    <tr>\n",
       "      <th>HOKIOI</th>\n",
       "      <td>hau</td>\n",
       "      <td>kingi</td>\n",
       "      <td>ka mea</td>\n",
       "      <td>kawana</td>\n",
       "      <td>unknown</td>\n",
       "      <td>te rori</td>\n",
       "      <td>ngati</td>\n",
       "      <td>kahuri</td>\n",
       "      <td>li</td>\n",
       "      <td>1863</td>\n",
       "    </tr>\n",
       "    <tr>\n",
       "      <th>HUIA</th>\n",
       "      <td>mema</td>\n",
       "      <td>mote</td>\n",
       "      <td>kote</td>\n",
       "      <td>huia</td>\n",
       "      <td>pire</td>\n",
       "      <td>pooti</td>\n",
       "      <td>kawanatanga</td>\n",
       "      <td>paremata</td>\n",
       "      <td>etita</td>\n",
       "      <td>pepa</td>\n",
       "    </tr>\n",
       "    <tr>\n",
       "      <th>JUBIL</th>\n",
       "      <td>tiupiri</td>\n",
       "      <td>te tiupiri</td>\n",
       "      <td>whanganui</td>\n",
       "      <td>onga</td>\n",
       "      <td>pire</td>\n",
       "      <td>etita</td>\n",
       "      <td>mema</td>\n",
       "      <td>komiti</td>\n",
       "      <td>kote</td>\n",
       "      <td>pepa</td>\n",
       "    </tr>\n",
       "    <tr>\n",
       "      <th>KAHITI</th>\n",
       "      <td>kooti</td>\n",
       "      <td>whakawa whenua</td>\n",
       "      <td>whenua maori</td>\n",
       "      <td>whakawa whenua maori</td>\n",
       "      <td>maungakawa</td>\n",
       "      <td>kooti whakawa</td>\n",
       "      <td>kooti whakawa whenua</td>\n",
       "      <td>kiingitanga</td>\n",
       "      <td>maungatautari</td>\n",
       "      <td>panuitanga</td>\n",
       "    </tr>\n",
       "    <tr>\n",
       "      <th>KOP</th>\n",
       "      <td>hereni</td>\n",
       "      <td>poneke</td>\n",
       "      <td>hoiho</td>\n",
       "      <td>karere</td>\n",
       "      <td>pene mo</td>\n",
       "      <td>1858</td>\n",
       "      <td>pene mo te</td>\n",
       "      <td>mo te pauna</td>\n",
       "      <td>pene</td>\n",
       "      <td>pene mo te pauna</td>\n",
       "    </tr>\n",
       "    <tr>\n",
       "      <th>KORIM</th>\n",
       "      <td>te korimako</td>\n",
       "      <td>korimako</td>\n",
       "      <td>akarana</td>\n",
       "      <td>kahore</td>\n",
       "      <td>tekau</td>\n",
       "      <td>pea</td>\n",
       "      <td>kuini</td>\n",
       "      <td>iari</td>\n",
       "      <td>notemea</td>\n",
       "      <td>ki te mo te</td>\n",
       "    </tr>\n",
       "    <tr>\n",
       "      <th>MATAR</th>\n",
       "      <td>riihi</td>\n",
       "      <td>iwi tawhito</td>\n",
       "      <td>te riihi</td>\n",
       "      <td>kooti</td>\n",
       "      <td>mokete</td>\n",
       "      <td>totara</td>\n",
       "      <td>kaitiaki</td>\n",
       "      <td>taniwha</td>\n",
       "      <td>hupirimi kooti</td>\n",
       "      <td>tareha</td>\n",
       "    </tr>\n",
       "    <tr>\n",
       "      <th>MATUH</th>\n",
       "      <td>16</td>\n",
       "      <td>matuhi</td>\n",
       "      <td>te matuhi</td>\n",
       "      <td>ratau</td>\n",
       "      <td>kaunihera</td>\n",
       "      <td>tatau</td>\n",
       "      <td>1904</td>\n",
       "      <td>1905</td>\n",
       "      <td>mahitaone</td>\n",
       "      <td>etita</td>\n",
       "    </tr>\n",
       "    <tr>\n",
       "      <th>MKURA</th>\n",
       "      <td>mareikura</td>\n",
       "      <td>te mareikura</td>\n",
       "      <td>tatau</td>\n",
       "      <td>ratau</td>\n",
       "      <td>kaati</td>\n",
       "      <td>pepa</td>\n",
       "      <td>etita</td>\n",
       "      <td>6d</td>\n",
       "      <td>dga</td>\n",
       "      <td>mema</td>\n",
       "    </tr>\n",
       "    <tr>\n",
       "      <th>MMTKM</th>\n",
       "      <td>tons</td>\n",
       "      <td>lo</td>\n",
       "      <td>governor</td>\n",
       "      <td>native</td>\n",
       "      <td>new</td>\n",
       "      <td>kawana</td>\n",
       "      <td>land</td>\n",
       "      <td>people</td>\n",
       "      <td>ki le</td>\n",
       "      <td>kahore</td>\n",
       "    </tr>\n",
       "    <tr>\n",
       "      <th>PAKIOM</th>\n",
       "      <td>tawhiao</td>\n",
       "      <td>kiingi</td>\n",
       "      <td>matariki</td>\n",
       "      <td>te paki matariki</td>\n",
       "      <td>paki matariki</td>\n",
       "      <td>words</td>\n",
       "      <td>kawanatanga</td>\n",
       "      <td>aotearoa</td>\n",
       "      <td>nations</td>\n",
       "      <td>government</td>\n",
       "    </tr>\n",
       "    <tr>\n",
       "      <th>PIHOI</th>\n",
       "      <td>kawana</td>\n",
       "      <td>ki tc</td>\n",
       "      <td>kura</td>\n",
       "      <td>rakau</td>\n",
       "      <td>tenci</td>\n",
       "      <td>te kawana</td>\n",
       "      <td>tamehana</td>\n",
       "      <td>ekore</td>\n",
       "      <td>nua</td>\n",
       "      <td>kingi</td>\n",
       "    </tr>\n",
       "    <tr>\n",
       "      <th>PUKEH</th>\n",
       "      <td>ratau</td>\n",
       "      <td>tatau</td>\n",
       "      <td>puke</td>\n",
       "      <td>matau</td>\n",
       "      <td>te puke</td>\n",
       "      <td>kaati</td>\n",
       "      <td>puke ki hikurangi</td>\n",
       "      <td>waahi</td>\n",
       "      <td>te puke ki hikurangi</td>\n",
       "      <td>kaunihera</td>\n",
       "    </tr>\n",
       "    <tr>\n",
       "      <th>TAKIT</th>\n",
       "      <td>roia</td>\n",
       "      <td>kihipone</td>\n",
       "      <td>te kau</td>\n",
       "      <td>kura</td>\n",
       "      <td>nuipepa</td>\n",
       "      <td>kooti</td>\n",
       "      <td>rakau</td>\n",
       "      <td>kau ma</td>\n",
       "      <td>kakahu</td>\n",
       "      <td>te kau ma</td>\n",
       "    </tr>\n",
       "    <tr>\n",
       "      <th>WAKAM</th>\n",
       "      <td>kawanatanga</td>\n",
       "      <td>hau</td>\n",
       "      <td>native</td>\n",
       "      <td>land</td>\n",
       "      <td>te kawanatanga</td>\n",
       "      <td>katahi ka</td>\n",
       "      <td>natives</td>\n",
       "      <td>people</td>\n",
       "      <td>kooti</td>\n",
       "      <td>mr</td>\n",
       "    </tr>\n",
       "    <tr>\n",
       "      <th>WANANG</th>\n",
       "      <td>wananga</td>\n",
       "      <td>paremata</td>\n",
       "      <td>land</td>\n",
       "      <td>native</td>\n",
       "      <td>kawanatanga</td>\n",
       "      <td>mr</td>\n",
       "      <td>te wananga</td>\n",
       "      <td>government</td>\n",
       "      <td>people</td>\n",
       "      <td>said</td>\n",
       "    </tr>\n",
       "    <tr>\n",
       "      <th>WHETU</th>\n",
       "      <td>reweti</td>\n",
       "      <td>hare reweti</td>\n",
       "      <td>hare</td>\n",
       "      <td>ki hare</td>\n",
       "      <td>ki hare reweti</td>\n",
       "      <td>ki koe</td>\n",
       "      <td>reweti kei</td>\n",
       "      <td>hoa hare</td>\n",
       "      <td>te atua</td>\n",
       "      <td>akarana</td>\n",
       "    </tr>\n",
       "  </tbody>\n",
       "</table>\n",
       "</div>"
      ],
      "text/plain": [
       "                   0               1             2                     3  \\\n",
       "AMW              new             tbe          said                    mr   \n",
       "AONUPEP  kawanatanga        paremata         kooti          whenua maori   \n",
       "HAEATA         ki le          kahore           ole                  alua   \n",
       "HIIR       kaunihera       kaunihora  te kaunihera              tuuru ka   \n",
       "HOKIOI           hau           kingi        ka mea                kawana   \n",
       "HUIA            mema            mote          kote                  huia   \n",
       "JUBIL        tiupiri      te tiupiri     whanganui                  onga   \n",
       "KAHITI         kooti  whakawa whenua  whenua maori  whakawa whenua maori   \n",
       "KOP           hereni          poneke         hoiho                karere   \n",
       "KORIM    te korimako        korimako       akarana                kahore   \n",
       "MATAR          riihi     iwi tawhito      te riihi                 kooti   \n",
       "MATUH             16          matuhi     te matuhi                 ratau   \n",
       "MKURA      mareikura    te mareikura         tatau                 ratau   \n",
       "MMTKM           tons              lo      governor                native   \n",
       "PAKIOM       tawhiao          kiingi      matariki      te paki matariki   \n",
       "PIHOI         kawana           ki tc          kura                 rakau   \n",
       "PUKEH          ratau           tatau          puke                 matau   \n",
       "TAKIT           roia        kihipone        te kau                  kura   \n",
       "WAKAM    kawanatanga             hau        native                  land   \n",
       "WANANG       wananga        paremata          land                native   \n",
       "WHETU         reweti     hare reweti          hare               ki hare   \n",
       "\n",
       "                      4               5                     6            7  \\\n",
       "AMW          government            time                 great         land   \n",
       "AONUPEP     te paremata  te kawanatanga          te iwi maori     komihana   \n",
       "HAEATA            ralou         tangaia                  hahi        lenei   \n",
       "HIIR            tiamana            mema              nga mema         kohi   \n",
       "HOKIOI          unknown         te rori                 ngati       kahuri   \n",
       "HUIA               pire           pooti           kawanatanga     paremata   \n",
       "JUBIL              pire           etita                  mema       komiti   \n",
       "KAHITI       maungakawa   kooti whakawa  kooti whakawa whenua  kiingitanga   \n",
       "KOP             pene mo            1858            pene mo te  mo te pauna   \n",
       "KORIM             tekau             pea                 kuini         iari   \n",
       "MATAR            mokete          totara              kaitiaki      taniwha   \n",
       "MATUH         kaunihera           tatau                  1904         1905   \n",
       "MKURA             kaati            pepa                 etita           6d   \n",
       "MMTKM               new          kawana                  land       people   \n",
       "PAKIOM    paki matariki           words           kawanatanga     aotearoa   \n",
       "PIHOI             tenci       te kawana              tamehana        ekore   \n",
       "PUKEH           te puke           kaati     puke ki hikurangi        waahi   \n",
       "TAKIT           nuipepa           kooti                 rakau       kau ma   \n",
       "WAKAM    te kawanatanga       katahi ka               natives       people   \n",
       "WANANG      kawanatanga              mr            te wananga   government   \n",
       "WHETU    ki hare reweti          ki koe            reweti kei     hoa hare   \n",
       "\n",
       "                            8                 9  \n",
       "AMW                     shall           zealand  \n",
       "AONUPEP              te kooti            tiriti  \n",
       "HAEATA                   tapu           te atua  \n",
       "HIIR                 te whitu        hekeretari  \n",
       "HOKIOI                     li              1863  \n",
       "HUIA                    etita              pepa  \n",
       "JUBIL                    kote              pepa  \n",
       "KAHITI          maungatautari        panuitanga  \n",
       "KOP                      pene  pene mo te pauna  \n",
       "KORIM                 notemea       ki te mo te  \n",
       "MATAR          hupirimi kooti            tareha  \n",
       "MATUH               mahitaone             etita  \n",
       "MKURA                     dga              mema  \n",
       "MMTKM                   ki le            kahore  \n",
       "PAKIOM                nations        government  \n",
       "PIHOI                     nua             kingi  \n",
       "PUKEH    te puke ki hikurangi         kaunihera  \n",
       "TAKIT                  kakahu         te kau ma  \n",
       "WAKAM                   kooti                mr  \n",
       "WANANG                 people              said  \n",
       "WHETU                 te atua           akarana  "
      ]
     },
     "execution_count": 25,
     "metadata": {},
     "output_type": "execute_result"
    }
   ],
   "source": [
    "def get_top_tf_idf_words(response, top_n=2):\n",
    "    feature_names = np.array(tfidf.get_feature_names())\n",
    "    sorted_nzs = np.argsort(response.data)[:-(top_n+1):-1]\n",
    "    return feature_names[response.indices[sorted_nzs]]\n",
    "\n",
    "top_tfidf = (pd.DataFrame(\n",
    "    dict(zip(\n",
    "        newspaper_corpus.index, \n",
    "        [get_top_tf_idf_words(response, 10) for response in X])))\n",
    "    .transpose()\n",
    ")\n",
    "top_tfidf"
   ]
  },
  {
   "cell_type": "code",
   "execution_count": null,
   "metadata": {},
   "outputs": [],
   "source": []
  }
 ],
 "metadata": {
  "kernelspec": {
   "display_name": "Python 3",
   "language": "python",
   "name": "python3"
  },
  "language_info": {
   "codemirror_mode": {
    "name": "ipython",
    "version": 3
   },
   "file_extension": ".py",
   "mimetype": "text/x-python",
   "name": "python",
   "nbconvert_exporter": "python",
   "pygments_lexer": "ipython3",
   "version": "3.6.9"
  }
 },
 "nbformat": 4,
 "nbformat_minor": 4
}
