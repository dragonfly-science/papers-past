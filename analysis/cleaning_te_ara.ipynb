{
 "cells": [
  {
   "cell_type": "markdown",
   "metadata": {},
   "source": [
    "# Cleaning the newspaper archive"
   ]
  },
  {
   "cell_type": "code",
   "execution_count": 1,
   "metadata": {},
   "outputs": [],
   "source": [
    "import os\n",
    "import re\n",
    "import json\n",
    "import itertools\n",
    "\n",
    "import numpy as np\n",
    "import pandas as pd\n",
    "%matplotlib inline\n",
    "\n",
    "from collections import Counter\n",
    "from unicodedata import category\n",
    "from utils import multicore_apply\n",
    "\n",
    "from reo_toolkit import is_maori\n",
    "from gensim.models import Phrases\n",
    "from nltk.tokenize import word_tokenize, sent_tokenize"
   ]
  },
  {
   "cell_type": "code",
   "execution_count": 2,
   "metadata": {},
   "outputs": [],
   "source": [
    "def remove_punctuation(text):\n",
    "    return ''.join(ch for ch in text if category(ch)[0] != 'P')\n",
    "    \n",
    "def normalize_text(text):\n",
    "    text = re.sub(\"\\s{2,}\", \" \", text)\n",
    "    return remove_punctuation(text.lower())"
   ]
  },
  {
   "cell_type": "markdown",
   "metadata": {},
   "source": [
    "## Cleaning the text"
   ]
  },
  {
   "cell_type": "code",
   "execution_count": 21,
   "metadata": {},
   "outputs": [],
   "source": [
    "with open('../data/teara-mi-content.txt', 'r', encoding = 'utf-8') as f:\n",
    "    te_ara = f.read()"
   ]
  },
  {
   "cell_type": "code",
   "execution_count": 31,
   "metadata": {},
   "outputs": [],
   "source": [
    "paragraphs = [\n",
    "    line.strip() \n",
    "        for line in te_ara.split('\\n')\n",
    "            if not line.startswith('#') and \n",
    "               not line.startswith('http') and \n",
    "               len(line.strip()) > 0\n",
    "]"
   ]
  },
  {
   "cell_type": "code",
   "execution_count": 32,
   "metadata": {},
   "outputs": [],
   "source": [
    "te_ara = pd.DataFrame({'paragraph': paragraphs})"
   ]
  },
  {
   "cell_type": "code",
   "execution_count": 33,
   "metadata": {},
   "outputs": [
    {
     "name": "stderr",
     "output_type": "stream",
     "text": [
      "100%|██████████| 36.3k/36.3k [00:00<00:00, 154kit/s]\n",
      "36341it [00:00, 473680.58it/s]\n"
     ]
    },
    {
     "name": "stdout",
     "output_type": "stream",
     "text": [
      "CPU times: user 7.86 s, sys: 1.77 s, total: 9.64 s\n",
      "Wall time: 8.88 s\n"
     ]
    },
    {
     "data": {
      "text/html": [
       "<div>\n",
       "<style scoped>\n",
       "    .dataframe tbody tr th:only-of-type {\n",
       "        vertical-align: middle;\n",
       "    }\n",
       "\n",
       "    .dataframe tbody tr th {\n",
       "        vertical-align: top;\n",
       "    }\n",
       "\n",
       "    .dataframe thead th {\n",
       "        text-align: right;\n",
       "    }\n",
       "</style>\n",
       "<table border=\"1\" class=\"dataframe\">\n",
       "  <thead>\n",
       "    <tr style=\"text-align: right;\">\n",
       "      <th></th>\n",
       "      <th>paragraph</th>\n",
       "      <th>sentence</th>\n",
       "    </tr>\n",
       "  </thead>\n",
       "  <tbody>\n",
       "    <tr>\n",
       "      <th>0</th>\n",
       "      <td>Ko te kāinga te pokapū o ngā mahi kai a te Māo...</td>\n",
       "      <td>Ko te kāinga te pokapū o ngā mahi kai a te Māori.</td>\n",
       "    </tr>\n",
       "    <tr>\n",
       "      <th>0</th>\n",
       "      <td>Ko te kāinga te pokapū o ngā mahi kai a te Māo...</td>\n",
       "      <td>Ko te maramataka ka tohu i te wā ki tēnā mahi,...</td>\n",
       "    </tr>\n",
       "    <tr>\n",
       "      <th>0</th>\n",
       "      <td>Ko te kāinga te pokapū o ngā mahi kai a te Māo...</td>\n",
       "      <td>Ka tauhokohoko ngā iwi i ngā kai mai i ngā mār...</td>\n",
       "    </tr>\n",
       "    <tr>\n",
       "      <th>1</th>\n",
       "      <td>Ngā kaihōpara me te hunga tauhokohoko</td>\n",
       "      <td>Ngā kaihōpara me te hunga tauhokohoko</td>\n",
       "    </tr>\n",
       "    <tr>\n",
       "      <th>2</th>\n",
       "      <td>Nō te takiwā o ngā tau 1250 – 1300 AD ka tae n...</td>\n",
       "      <td>Nō te takiwā o ngā tau 1250 – 1300 AD ka tae n...</td>\n",
       "    </tr>\n",
       "  </tbody>\n",
       "</table>\n",
       "</div>"
      ],
      "text/plain": [
       "                                           paragraph  \\\n",
       "0  Ko te kāinga te pokapū o ngā mahi kai a te Māo...   \n",
       "0  Ko te kāinga te pokapū o ngā mahi kai a te Māo...   \n",
       "0  Ko te kāinga te pokapū o ngā mahi kai a te Māo...   \n",
       "1              Ngā kaihōpara me te hunga tauhokohoko   \n",
       "2  Nō te takiwā o ngā tau 1250 – 1300 AD ka tae n...   \n",
       "\n",
       "                                            sentence  \n",
       "0  Ko te kāinga te pokapū o ngā mahi kai a te Māori.  \n",
       "0  Ko te maramataka ka tohu i te wā ki tēnā mahi,...  \n",
       "0  Ka tauhokohoko ngā iwi i ngā kai mai i ngā mār...  \n",
       "1              Ngā kaihōpara me te hunga tauhokohoko  \n",
       "2  Nō te takiwā o ngā tau 1250 – 1300 AD ka tae n...  "
      ]
     },
     "execution_count": 33,
     "metadata": {},
     "output_type": "execute_result"
    }
   ],
   "source": [
    "%%time\n",
    "te_ara['sentence'] = multicore_apply(te_ara.paragraph, sent_tokenize)\n",
    "te_ara = te_ara.explode('sentence')\n",
    "te_ara = te_ara[~te_ara.sentence.isna()]\n",
    "\n",
    "te_ara.head()"
   ]
  },
  {
   "cell_type": "code",
   "execution_count": 34,
   "metadata": {},
   "outputs": [
    {
     "name": "stdout",
     "output_type": "stream",
     "text": [
      "There are 98802 sentences in the māori newspaper archive\n"
     ]
    }
   ],
   "source": [
    "# Print the number of sentences in te_ara\n",
    "print(\"There are {} sentences in the māori newspaper archive\".format(len(te_ara)))"
   ]
  },
  {
   "cell_type": "markdown",
   "metadata": {},
   "source": [
    "Here are the first 5 sentences:"
   ]
  },
  {
   "cell_type": "code",
   "execution_count": 35,
   "metadata": {},
   "outputs": [
    {
     "name": "stdout",
     "output_type": "stream",
     "text": [
      "Ko te kāinga te pokapū o ngā mahi kai a te Māori.\n",
      "Ko te maramataka ka tohu i te wā ki tēnā mahi, ki tēnā mahi.\n",
      "Ka tauhokohoko ngā iwi i ngā kai mai i ngā māra, te hī ika, te mahi tuna, te tāwhiti manu, te kohikohi kai hoki.\n",
      "Ngā kaihōpara me te hunga tauhokohoko\n",
      "Nō te takiwā o ngā tau 1250 – 1300 AD ka tae ngā tīpuna o te Māori ki Aotearoa.\n"
     ]
    }
   ],
   "source": [
    "print('\\n'.join(te_ara.sentence[:5]))"
   ]
  },
  {
   "cell_type": "markdown",
   "metadata": {},
   "source": [
    "## Text cleaning"
   ]
  },
  {
   "cell_type": "code",
   "execution_count": 36,
   "metadata": {},
   "outputs": [],
   "source": [
    "def extract_words(text):\n",
    "    text = text.lower()\n",
    "    results = []\n",
    "    for word in word_tokenize(text):\n",
    "        if re.search('[a-zāēīōū]', word):\n",
    "            result = re.sub('\\s{2,}', ' ',\n",
    "                re.sub('[^a-zāēīōū]', ' ', word)\n",
    "            )\n",
    "            for res in result.split():\n",
    "                results.append(res)\n",
    "    return results"
   ]
  },
  {
   "cell_type": "code",
   "execution_count": 37,
   "metadata": {},
   "outputs": [
    {
     "name": "stderr",
     "output_type": "stream",
     "text": [
      "100%|██████████| 98.8k/98.8k [00:00<00:00, 220kit/s]  \n",
      "98802it [00:00, 481381.15it/s]\n"
     ]
    },
    {
     "name": "stdout",
     "output_type": "stream",
     "text": [
      "CPU times: user 21.8 s, sys: 3.65 s, total: 25.4 s\n",
      "Wall time: 23 s\n"
     ]
    }
   ],
   "source": [
    "%%time\n",
    "te_ara['words'] = multicore_apply(te_ara['sentence'], extract_words)"
   ]
  },
  {
   "cell_type": "code",
   "execution_count": 50,
   "metadata": {},
   "outputs": [
    {
     "data": {
      "text/html": [
       "<div>\n",
       "<style scoped>\n",
       "    .dataframe tbody tr th:only-of-type {\n",
       "        vertical-align: middle;\n",
       "    }\n",
       "\n",
       "    .dataframe tbody tr th {\n",
       "        vertical-align: top;\n",
       "    }\n",
       "\n",
       "    .dataframe thead th {\n",
       "        text-align: right;\n",
       "    }\n",
       "</style>\n",
       "<table border=\"1\" class=\"dataframe\">\n",
       "  <thead>\n",
       "    <tr style=\"text-align: right;\">\n",
       "      <th></th>\n",
       "      <th>word</th>\n",
       "      <th>count</th>\n",
       "    </tr>\n",
       "  </thead>\n",
       "  <tbody>\n",
       "    <tr>\n",
       "      <th>0</th>\n",
       "      <td>te</td>\n",
       "      <td>189061</td>\n",
       "    </tr>\n",
       "    <tr>\n",
       "      <th>1</th>\n",
       "      <td>i</td>\n",
       "      <td>116950</td>\n",
       "    </tr>\n",
       "    <tr>\n",
       "      <th>2</th>\n",
       "      <td>o</td>\n",
       "      <td>70319</td>\n",
       "    </tr>\n",
       "    <tr>\n",
       "      <th>3</th>\n",
       "      <td>ngā</td>\n",
       "      <td>56889</td>\n",
       "    </tr>\n",
       "    <tr>\n",
       "      <th>4</th>\n",
       "      <td>ki</td>\n",
       "      <td>56730</td>\n",
       "    </tr>\n",
       "    <tr>\n",
       "      <th>...</th>\n",
       "      <td>...</td>\n",
       "      <td>...</td>\n",
       "    </tr>\n",
       "    <tr>\n",
       "      <th>26293</th>\n",
       "      <td>evesham</td>\n",
       "      <td>1</td>\n",
       "    </tr>\n",
       "    <tr>\n",
       "      <th>26294</th>\n",
       "      <td>whakangākautanga</td>\n",
       "      <td>1</td>\n",
       "    </tr>\n",
       "    <tr>\n",
       "      <th>26295</th>\n",
       "      <td>kohukohungia</td>\n",
       "      <td>1</td>\n",
       "    </tr>\n",
       "    <tr>\n",
       "      <th>26296</th>\n",
       "      <td>hinehua</td>\n",
       "      <td>1</td>\n",
       "    </tr>\n",
       "    <tr>\n",
       "      <th>26297</th>\n",
       "      <td>priscilla</td>\n",
       "      <td>1</td>\n",
       "    </tr>\n",
       "  </tbody>\n",
       "</table>\n",
       "<p>26298 rows × 2 columns</p>\n",
       "</div>"
      ],
      "text/plain": [
       "                   word   count\n",
       "0                    te  189061\n",
       "1                     i  116950\n",
       "2                     o   70319\n",
       "3                   ngā   56889\n",
       "4                    ki   56730\n",
       "...                 ...     ...\n",
       "26293           evesham       1\n",
       "26294  whakangākautanga       1\n",
       "26295      kohukohungia       1\n",
       "26296           hinehua       1\n",
       "26297         priscilla       1\n",
       "\n",
       "[26298 rows x 2 columns]"
      ]
     },
     "execution_count": 50,
     "metadata": {},
     "output_type": "execute_result"
    }
   ],
   "source": [
    "word_counts = te_ara['words'].explode().value_counts()\n",
    "word_counts = word_counts.to_frame().reset_index()\n",
    "word_counts.columns = ['word', 'count']\n",
    "word_counts.to_csv('../data/te_ara_word_counts.csv', index = False)\n",
    "word_counts"
   ]
  },
  {
   "cell_type": "markdown",
   "metadata": {},
   "source": [
    "## Phrase modelling\n",
    "\n",
    "We can use gensim to join common phrases in the text."
   ]
  },
  {
   "cell_type": "code",
   "execution_count": 39,
   "metadata": {},
   "outputs": [],
   "source": [
    "def phrase_model(lines, min_count, threshold, phrase_length):\n",
    "    \n",
    "    for _ in range(phrase_length):\n",
    "        sentence_stream = [doc.split(\" \") for doc in lines]\n",
    "        bigram = Phrases(sentence_stream, min_count=min_count, threshold=threshold)\n",
    "        lines = [' '.join(bigram[line.split()]) for line in lines]\n",
    "        \n",
    "    return lines"
   ]
  },
  {
   "cell_type": "code",
   "execution_count": 41,
   "metadata": {},
   "outputs": [
    {
     "name": "stdout",
     "output_type": "stream",
     "text": [
      "CPU times: user 52.4 s, sys: 155 ms, total: 52.5 s\n",
      "Wall time: 52.5 s\n"
     ]
    }
   ],
   "source": [
    "%%time\n",
    "te_ara['phrase'] = phrase_model(te_ara.words.apply(lambda s: ' '.join(s)), 30, 10, 5)"
   ]
  },
  {
   "cell_type": "code",
   "execution_count": 42,
   "metadata": {},
   "outputs": [
    {
     "data": {
      "text/plain": [
       "0         ko te kāinga te pokapū o ngā mahi kai a te māori\n",
       "0        ko te maramataka ka tohu i te wā ki tēnā mahi ...\n",
       "0        ka tauhokohoko ngā iwi i ngā kai mai i ngā mār...\n",
       "1                    ngā kaihōpara me te hunga tauhokohoko\n",
       "2        nō te takiwā o ngā tau ad ka tae ngā tīpuna o ...\n",
       "                               ...                        \n",
       "36339    nō mua atu ka tuhi ia i te haurongo mō ngoi i ...\n",
       "36339    i taua tau ka whakaputaina tā ranginui walker ...\n",
       "36339    i te tau ka puta te pukapuka a joe pere mō tōn...\n",
       "36340    he uaua ki ētahi kaikōrero reo pākehā te whaka...\n",
       "36340    pāwhiritia ngā pouaka kia rongo ai koe i te wh...\n",
       "Name: phrase, Length: 98802, dtype: object"
      ]
     },
     "execution_count": 42,
     "metadata": {},
     "output_type": "execute_result"
    }
   ],
   "source": [
    "te_ara['phrase']"
   ]
  },
  {
   "cell_type": "code",
   "execution_count": 43,
   "metadata": {},
   "outputs": [
    {
     "name": "stdout",
     "output_type": "stream",
     "text": [
      "CPU times: user 883 ms, sys: 7.48 ms, total: 890 ms\n",
      "Wall time: 890 ms\n"
     ]
    },
    {
     "data": {
      "text/plain": [
       "te              189061\n",
       "i               116950\n",
       "o                70319\n",
       "ngā              56889\n",
       "ki               56730\n",
       "                 ...  \n",
       "whaitiripapa         1\n",
       "whakapirihi          1\n",
       "paneikuini           1\n",
       "puakōwhai            1\n",
       "puenga               1\n",
       "Name: phrase, Length: 26590, dtype: int64"
      ]
     },
     "execution_count": 43,
     "metadata": {},
     "output_type": "execute_result"
    }
   ],
   "source": [
    "%%time\n",
    "phrase_counts = te_ara.phrase.apply(str.split).explode().value_counts()\n",
    "phrase_counts"
   ]
  },
  {
   "cell_type": "code",
   "execution_count": 44,
   "metadata": {},
   "outputs": [
    {
     "data": {
      "text/plain": [
       "2883"
      ]
     },
     "execution_count": 44,
     "metadata": {},
     "output_type": "execute_result"
    }
   ],
   "source": [
    "np.sum(phrase_counts > 30)"
   ]
  },
  {
   "cell_type": "markdown",
   "metadata": {},
   "source": [
    "## Saving output to disk"
   ]
  },
  {
   "cell_type": "code",
   "execution_count": null,
   "metadata": {},
   "outputs": [],
   "source": [
    "papers.to_csv('../data/papers.csv', index = False)"
   ]
  }
 ],
 "metadata": {
  "kernelspec": {
   "display_name": "Python 3",
   "language": "python",
   "name": "python3"
  },
  "language_info": {
   "codemirror_mode": {
    "name": "ipython",
    "version": 3
   },
   "file_extension": ".py",
   "mimetype": "text/x-python",
   "name": "python",
   "nbconvert_exporter": "python",
   "pygments_lexer": "ipython3",
   "version": "3.6.9"
  }
 },
 "nbformat": 4,
 "nbformat_minor": 4
}
